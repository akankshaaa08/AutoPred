{
  "cells": [
    {
      "cell_type": "markdown",
      "metadata": {
        "id": "m9hJaqZgKiK1"
      },
      "source": [
        "#**1. IMPORTING LIBRARIES**"
      ]
    },
    {
      "cell_type": "code",
      "execution_count": 1,
      "metadata": {
        "id": "-Ftieih2Itp7"
      },
      "outputs": [],
      "source": [
        "import pandas as pd\n",
        "import numpy as np\n",
        "from sklearn.metrics import confusion_matrix, accuracy_score, recall_score, precision_score\n",
        "import keras\n",
        "import seaborn as sns\n",
        "from keras.models import Sequential\n",
        "from sklearn.model_selection import train_test_split\n",
        "from sklearn.linear_model import LinearRegression\n",
        "from sklearn import datasets, linear_model\n",
        "import matplotlib.pyplot as plt\n",
        "%matplotlib inline"
      ]
    },
    {
      "cell_type": "markdown",
      "metadata": {
        "id": "Wmv4VsXNK0rA"
      },
      "source": [
        "#**2. LOADING DATASET**"
      ]
    },
    {
      "cell_type": "code",
      "execution_count": 2,
      "metadata": {
        "colab": {
          "base_uri": "https://localhost:8080/",
          "height": 206
        },
        "id": "9M4ZyYGUKLg1",
        "outputId": "39409ae2-dc00-4ac1-a5bd-ea9824a8e437"
      },
      "outputs": [
        {
          "output_type": "execute_result",
          "data": {
            "text/html": [
              "\n",
              "  <div id=\"df-2623c1e2-b802-4155-a487-ec1d4d375463\">\n",
              "    <div class=\"colab-df-container\">\n",
              "      <div>\n",
              "<style scoped>\n",
              "    .dataframe tbody tr th:only-of-type {\n",
              "        vertical-align: middle;\n",
              "    }\n",
              "\n",
              "    .dataframe tbody tr th {\n",
              "        vertical-align: top;\n",
              "    }\n",
              "\n",
              "    .dataframe thead th {\n",
              "        text-align: right;\n",
              "    }\n",
              "</style>\n",
              "<table border=\"1\" class=\"dataframe\">\n",
              "  <thead>\n",
              "    <tr style=\"text-align: right;\">\n",
              "      <th></th>\n",
              "      <th>Fuel_Mdot</th>\n",
              "      <th>Tair</th>\n",
              "      <th>Treturn</th>\n",
              "      <th>Tsupply</th>\n",
              "      <th>Water_Mdot</th>\n",
              "      <th>Condition</th>\n",
              "      <th>Class</th>\n",
              "    </tr>\n",
              "  </thead>\n",
              "  <tbody>\n",
              "    <tr>\n",
              "      <th>0</th>\n",
              "      <td>1</td>\n",
              "      <td>283</td>\n",
              "      <td>333.0</td>\n",
              "      <td>363.574744</td>\n",
              "      <td>3.0</td>\n",
              "      <td>%=0.05</td>\n",
              "      <td>Lean</td>\n",
              "    </tr>\n",
              "    <tr>\n",
              "      <th>1</th>\n",
              "      <td>1</td>\n",
              "      <td>283</td>\n",
              "      <td>333.0</td>\n",
              "      <td>362.349517</td>\n",
              "      <td>3.0</td>\n",
              "      <td>%=0.1</td>\n",
              "      <td>Nominal</td>\n",
              "    </tr>\n",
              "    <tr>\n",
              "      <th>2</th>\n",
              "      <td>1</td>\n",
              "      <td>283</td>\n",
              "      <td>333.0</td>\n",
              "      <td>361.216941</td>\n",
              "      <td>3.0</td>\n",
              "      <td>%=0.15</td>\n",
              "      <td>ExcessAir</td>\n",
              "    </tr>\n",
              "    <tr>\n",
              "      <th>3</th>\n",
              "      <td>1</td>\n",
              "      <td>283</td>\n",
              "      <td>333.0</td>\n",
              "      <td>360.166890</td>\n",
              "      <td>3.0</td>\n",
              "      <td>%=0.20</td>\n",
              "      <td>ExcessAir</td>\n",
              "    </tr>\n",
              "    <tr>\n",
              "      <th>4</th>\n",
              "      <td>1</td>\n",
              "      <td>283</td>\n",
              "      <td>333.0</td>\n",
              "      <td>359.190662</td>\n",
              "      <td>3.0</td>\n",
              "      <td>%=0.25</td>\n",
              "      <td>ExcessAir</td>\n",
              "    </tr>\n",
              "  </tbody>\n",
              "</table>\n",
              "</div>\n",
              "      <button class=\"colab-df-convert\" onclick=\"convertToInteractive('df-2623c1e2-b802-4155-a487-ec1d4d375463')\"\n",
              "              title=\"Convert this dataframe to an interactive table.\"\n",
              "              style=\"display:none;\">\n",
              "        \n",
              "  <svg xmlns=\"http://www.w3.org/2000/svg\" height=\"24px\"viewBox=\"0 0 24 24\"\n",
              "       width=\"24px\">\n",
              "    <path d=\"M0 0h24v24H0V0z\" fill=\"none\"/>\n",
              "    <path d=\"M18.56 5.44l.94 2.06.94-2.06 2.06-.94-2.06-.94-.94-2.06-.94 2.06-2.06.94zm-11 1L8.5 8.5l.94-2.06 2.06-.94-2.06-.94L8.5 2.5l-.94 2.06-2.06.94zm10 10l.94 2.06.94-2.06 2.06-.94-2.06-.94-.94-2.06-.94 2.06-2.06.94z\"/><path d=\"M17.41 7.96l-1.37-1.37c-.4-.4-.92-.59-1.43-.59-.52 0-1.04.2-1.43.59L10.3 9.45l-7.72 7.72c-.78.78-.78 2.05 0 2.83L4 21.41c.39.39.9.59 1.41.59.51 0 1.02-.2 1.41-.59l7.78-7.78 2.81-2.81c.8-.78.8-2.07 0-2.86zM5.41 20L4 18.59l7.72-7.72 1.47 1.35L5.41 20z\"/>\n",
              "  </svg>\n",
              "      </button>\n",
              "      \n",
              "  <style>\n",
              "    .colab-df-container {\n",
              "      display:flex;\n",
              "      flex-wrap:wrap;\n",
              "      gap: 12px;\n",
              "    }\n",
              "\n",
              "    .colab-df-convert {\n",
              "      background-color: #E8F0FE;\n",
              "      border: none;\n",
              "      border-radius: 50%;\n",
              "      cursor: pointer;\n",
              "      display: none;\n",
              "      fill: #1967D2;\n",
              "      height: 32px;\n",
              "      padding: 0 0 0 0;\n",
              "      width: 32px;\n",
              "    }\n",
              "\n",
              "    .colab-df-convert:hover {\n",
              "      background-color: #E2EBFA;\n",
              "      box-shadow: 0px 1px 2px rgba(60, 64, 67, 0.3), 0px 1px 3px 1px rgba(60, 64, 67, 0.15);\n",
              "      fill: #174EA6;\n",
              "    }\n",
              "\n",
              "    [theme=dark] .colab-df-convert {\n",
              "      background-color: #3B4455;\n",
              "      fill: #D2E3FC;\n",
              "    }\n",
              "\n",
              "    [theme=dark] .colab-df-convert:hover {\n",
              "      background-color: #434B5C;\n",
              "      box-shadow: 0px 1px 3px 1px rgba(0, 0, 0, 0.15);\n",
              "      filter: drop-shadow(0px 1px 2px rgba(0, 0, 0, 0.3));\n",
              "      fill: #FFFFFF;\n",
              "    }\n",
              "  </style>\n",
              "\n",
              "      <script>\n",
              "        const buttonEl =\n",
              "          document.querySelector('#df-2623c1e2-b802-4155-a487-ec1d4d375463 button.colab-df-convert');\n",
              "        buttonEl.style.display =\n",
              "          google.colab.kernel.accessAllowed ? 'block' : 'none';\n",
              "\n",
              "        async function convertToInteractive(key) {\n",
              "          const element = document.querySelector('#df-2623c1e2-b802-4155-a487-ec1d4d375463');\n",
              "          const dataTable =\n",
              "            await google.colab.kernel.invokeFunction('convertToInteractive',\n",
              "                                                     [key], {});\n",
              "          if (!dataTable) return;\n",
              "\n",
              "          const docLinkHtml = 'Like what you see? Visit the ' +\n",
              "            '<a target=\"_blank\" href=https://colab.research.google.com/notebooks/data_table.ipynb>data table notebook</a>'\n",
              "            + ' to learn more about interactive tables.';\n",
              "          element.innerHTML = '';\n",
              "          dataTable['output_type'] = 'display_data';\n",
              "          await google.colab.output.renderOutput(dataTable, element);\n",
              "          const docLink = document.createElement('div');\n",
              "          docLink.innerHTML = docLinkHtml;\n",
              "          element.appendChild(docLink);\n",
              "        }\n",
              "      </script>\n",
              "    </div>\n",
              "  </div>\n",
              "  "
            ],
            "text/plain": [
              "   Fuel_Mdot  Tair  Treturn     Tsupply  Water_Mdot Condition      Class\n",
              "0          1   283    333.0  363.574744         3.0    %=0.05       Lean\n",
              "1          1   283    333.0  362.349517         3.0     %=0.1    Nominal\n",
              "2          1   283    333.0  361.216941         3.0    %=0.15  ExcessAir\n",
              "3          1   283    333.0  360.166890         3.0    %=0.20  ExcessAir\n",
              "4          1   283    333.0  359.190662         3.0    %=0.25  ExcessAir"
            ]
          },
          "metadata": {},
          "execution_count": 2
        }
      ],
      "source": [
        "df=pd.read_csv('/content/drive/MyDrive/FDAI/dataset.csv')\n",
        "df.head(5)"
      ]
    },
    {
      "cell_type": "markdown",
      "metadata": {
        "id": "q_ClhDnucjYv"
      },
      "source": [
        "#**3. DATASET ANALYSIS**"
      ]
    },
    {
      "cell_type": "markdown",
      "metadata": {
        "id": "PPI1TFjK_bTS"
      },
      "source": [
        "##**3.1 Rows and Columns**"
      ]
    },
    {
      "cell_type": "code",
      "execution_count": 3,
      "metadata": {
        "colab": {
          "base_uri": "https://localhost:8080/"
        },
        "id": "3wZ7Cq9EK929",
        "outputId": "924fbfb5-be4f-4c89-87e9-d78a3e8207cb"
      },
      "outputs": [
        {
          "output_type": "stream",
          "name": "stdout",
          "text": [
            "Shape of the dataset is:  (27280, 7)\n"
          ]
        }
      ],
      "source": [
        "#Determining Number of Rows and Columns of the dataset\n",
        "print(\"Shape of the dataset is: \",df.shape)"
      ]
    },
    {
      "cell_type": "markdown",
      "metadata": {
        "id": "yD4KAbLL_jVM"
      },
      "source": [
        "##**3.2 Data-type and Null Values**"
      ]
    },
    {
      "cell_type": "code",
      "execution_count": 4,
      "metadata": {
        "colab": {
          "base_uri": "https://localhost:8080/"
        },
        "id": "T6OwPx7mNIEp",
        "outputId": "f6f7e542-3f09-4984-bb67-39cdcbd17a36"
      },
      "outputs": [
        {
          "output_type": "stream",
          "name": "stdout",
          "text": [
            "<class 'pandas.core.frame.DataFrame'>\n",
            "RangeIndex: 27280 entries, 0 to 27279\n",
            "Data columns (total 7 columns):\n",
            " #   Column      Non-Null Count  Dtype  \n",
            "---  ------      --------------  -----  \n",
            " 0   Fuel_Mdot   27280 non-null  int64  \n",
            " 1   Tair        27280 non-null  int64  \n",
            " 2   Treturn     27280 non-null  float64\n",
            " 3   Tsupply     27280 non-null  float64\n",
            " 4   Water_Mdot  27280 non-null  float64\n",
            " 5   Condition   27280 non-null  object \n",
            " 6   Class       27280 non-null  object \n",
            "dtypes: float64(3), int64(2), object(2)\n",
            "memory usage: 1.5+ MB\n"
          ]
        }
      ],
      "source": [
        "\n",
        "\n",
        "\n",
        "\n",
        "\n",
        "#Determining the data-type and NULL Values of columns\n",
        "df.info()"
      ]
    },
    {
      "cell_type": "markdown",
      "metadata": {
        "id": "CTa2ut6FADzW"
      },
      "source": [
        "##**3.3 Unique Classes**"
      ]
    },
    {
      "cell_type": "code",
      "execution_count": 5,
      "metadata": {
        "colab": {
          "base_uri": "https://localhost:8080/"
        },
        "id": "NYyokCJ3PXQp",
        "outputId": "913aaf8c-3ef7-4ceb-e54d-8ba317fdeb95"
      },
      "outputs": [
        {
          "output_type": "stream",
          "name": "stdout",
          "text": [
            "Number of unique classes:  5\n",
            "\n",
            "Types of classes:  ['Lean' 'Nominal' 'ExcessAir' 'Fouling' 'Scaling']\n"
          ]
        }
      ],
      "source": [
        "#Determining types of unique faults in the dataset\n",
        "print(\"Number of unique classes: \",len(pd.unique(df['Class'])))\n",
        "print(\"\\nTypes of classes: \",df.Class.unique())"
      ]
    },
    {
      "cell_type": "code",
      "execution_count": 6,
      "metadata": {
        "colab": {
          "base_uri": "https://localhost:8080/"
        },
        "id": "aNlgZ04wNN9f",
        "outputId": "db1cb2ab-1689-490f-ca7b-2225a6fd8c14"
      },
      "outputs": [
        {
          "output_type": "execute_result",
          "data": {
            "text/plain": [
              "Scaling      32.258065\n",
              "Fouling      32.258065\n",
              "ExcessAir    25.806452\n",
              "Nominal       6.451613\n",
              "Lean          3.225806\n",
              "Name: Class, dtype: float64"
            ]
          },
          "metadata": {},
          "execution_count": 6
        }
      ],
      "source": [
        "#Determining the percentage of each class in the dataset\n",
        "class_rate = df.Class.value_counts() / 27280\n",
        "class_rate*100"
      ]
    },
    {
      "cell_type": "code",
      "execution_count": 7,
      "metadata": {
        "colab": {
          "base_uri": "https://localhost:8080/",
          "height": 749
        },
        "id": "-QDo8Qlk4lQ5",
        "outputId": "9201d04d-e0a9-43ac-b44e-48cf18d5f35f"
      },
      "outputs": [
        {
          "output_type": "execute_result",
          "data": {
            "text/plain": [
              "([<matplotlib.patches.Wedge at 0x7ff53aca9b90>,\n",
              "  <matplotlib.patches.Wedge at 0x7ff53aca9fd0>,\n",
              "  <matplotlib.patches.Wedge at 0x7ff53ac40610>,\n",
              "  <matplotlib.patches.Wedge at 0x7ff53ac40690>,\n",
              "  <matplotlib.patches.Wedge at 0x7ff53ac49550>],\n",
              " [Text(0.5818604395536556, 0.933508665670773, 'Scaling'),\n",
              "  Text(-1.0943562456479174, 0.111285253342008, 'Fouling'),\n",
              "  Text(0.16657039762645068, -1.0873151809087218, 'ExcessAir'),\n",
              "  Text(1.0108535167938453, -0.43379161769853913, 'Nominal'),\n",
              "  Text(1.0943562339262245, -0.11128536861066199, 'Lean')])"
            ]
          },
          "metadata": {},
          "execution_count": 7
        },
        {
          "output_type": "display_data",
          "data": {
            "image/png": "[encoded data removed]",
            "text/plain": [
              "<Figure size 1080x720 with 1 Axes>"
            ]
          },
          "metadata": {}
        }
      ],
      "source": [
        "plt.figure(figsize=(15,10))\n",
        "data = np.array([32.258065, 32.258065, 25.806452, 6.451613, 3.225806])\n",
        "class_unique = ['Scaling' ,'Fouling', 'ExcessAir' ,'Nominal' ,'Lean']\n",
        "\n",
        "plt.pie( data , labels = class_unique)\n"
      ]
    },
    {
      "cell_type": "markdown",
      "metadata": {
        "id": "9B-MSlZ6AKHG"
      },
      "source": [
        "##**3.4 Unique Conditions**"
      ]
    },
    {
      "cell_type": "code",
      "execution_count": 8,
      "metadata": {
        "colab": {
          "base_uri": "https://localhost:8080/"
        },
        "id": "rAoxpKUL2_jG",
        "outputId": "80d4272a-859b-40c2-affd-903022f55dd6"
      },
      "outputs": [
        {
          "output_type": "stream",
          "name": "stdout",
          "text": [
            "Number of conditions:  31\n",
            "\n",
            "Types of conditions: \n",
            " ['%=0.05' '%=0.1' '%=0.15' '%=0.20' '%=0.25' '%=0.3' '%=0.35' '%=0.40'\n",
            " '%=0.45' '%=0.50' 'F = 0.01' 'F = 0.06' 'F = 0.11' 'F = 0.16' 'F = 0.21'\n",
            " 'F = 0.26' 'F = 0.31' 'F = 0.36' 'F = 0.41' 'F = 0.46' 'S = 0.01'\n",
            " 'S = 0.06' 'S = 0.11' 'S = 0.16' 'S = 0.21' 'S = 0.26' 'S = 0.31'\n",
            " 'S = 0.36' 'S = 0.41' 'S = 0.46' 'Nominal']\n"
          ]
        }
      ],
      "source": [
        "#Determing the types of unique conditions for the occurence of faults\n",
        "print(\"Number of conditions: \",len(pd.unique(df['Condition'])))\n",
        "print(\"\\nTypes of conditions: \\n\",df.Condition.unique())"
      ]
    },
    {
      "cell_type": "code",
      "execution_count": 9,
      "metadata": {
        "colab": {
          "base_uri": "https://localhost:8080/"
        },
        "id": "_OTKnAKgAfbb",
        "outputId": "507ea73b-6dbd-427e-8926-71b40bcde610"
      },
      "outputs": [
        {
          "output_type": "execute_result",
          "data": {
            "text/plain": [
              "F = 0.41    3.225806\n",
              "S = 0.06    3.225806\n",
              "S = 0.31    3.225806\n",
              "S = 0.41    3.225806\n",
              "%=0.50      3.225806\n",
              "F = 0.06    3.225806\n",
              "F = 0.31    3.225806\n",
              "%=0.40      3.225806\n",
              "%=0.3       3.225806\n",
              "%=0.15      3.225806\n",
              "F = 0.26    3.225806\n",
              "%=0.20      3.225806\n",
              "S = 0.01    3.225806\n",
              "%=0.05      3.225806\n",
              "S = 0.21    3.225806\n",
              "S = 0.11    3.225806\n",
              "F = 0.16    3.225806\n",
              "%=0.25      3.225806\n",
              "S = 0.46    3.225806\n",
              "F = 0.21    3.225806\n",
              "Nominal     3.225806\n",
              "%=0.35      3.225806\n",
              "F = 0.01    3.225806\n",
              "S = 0.36    3.225806\n",
              "S = 0.16    3.225806\n",
              "S = 0.26    3.225806\n",
              "F = 0.46    3.225806\n",
              "%=0.45      3.225806\n",
              "F = 0.11    3.225806\n",
              "%=0.1       3.225806\n",
              "F = 0.36    3.225806\n",
              "Name: Condition, dtype: float64"
            ]
          },
          "metadata": {},
          "execution_count": 9
        }
      ],
      "source": [
        "#Determining the percentage of each condition in the dataset\n",
        "class_rate = df.Condition.value_counts() / 27280\n",
        "class_rate*100"
      ]
    },
    {
      "cell_type": "markdown",
      "metadata": {
        "id": "G1wFF1ZgCPUy"
      },
      "source": [
        "#**4. DATA VISUALIZATION**"
      ]
    },
    {
      "cell_type": "code",
      "execution_count": 10,
      "metadata": {
        "colab": {
          "base_uri": "https://localhost:8080/",
          "height": 623
        },
        "id": "TzgrqUHrCUHM",
        "outputId": "6fb27a9d-116a-438e-8f69-ee95114775f7"
      },
      "outputs": [
        {
          "output_type": "execute_result",
          "data": {
            "text/plain": [
              "<matplotlib.axes._subplots.AxesSubplot at 0x7ff53ac10390>"
            ]
          },
          "metadata": {},
          "execution_count": 10
        },
        {
          "output_type": "display_data",
          "data": {
            "image/png": "[encoded data removed]",
            "text/plain": [
              "<Figure size 1080x720 with 1 Axes>"
            ]
          },
          "metadata": {
            "needs_background": "light"
          }
        }
      ],
      "source": [
        "\n",
        "plt.figure(figsize=(15,10))\n",
        "\n",
        "plt.xlabel(\"Fuel Flow Rate [kg/s]\")\n",
        "df['Fuel_Mdot'].plot.hist()"
      ]
    },
    {
      "cell_type": "code",
      "execution_count": 11,
      "metadata": {
        "colab": {
          "base_uri": "https://localhost:8080/",
          "height": 623
        },
        "id": "EZxpQUYaCzjr",
        "outputId": "f1832275-2e8f-4afb-acb0-097204f7a393"
      },
      "outputs": [
        {
          "output_type": "execute_result",
          "data": {
            "text/plain": [
              "<matplotlib.axes._subplots.AxesSubplot at 0x7ff53abfbf90>"
            ]
          },
          "metadata": {},
          "execution_count": 11
        },
        {
          "output_type": "display_data",
          "data": {
            "image/png": "[encoded data removed]",
            "text/plain": [
              "<Figure size 1080x720 with 1 Axes>"
            ]
          },
          "metadata": {
            "needs_background": "light"
          }
        }
      ],
      "source": [
        "plt.figure(figsize=(15,10))\n",
        "plt.xlabel(\"Boiler Loop Flow Rate [kg/s]\")\n",
        "df['Water_Mdot'].plot.hist()"
      ]
    },
    {
      "cell_type": "code",
      "execution_count": 12,
      "metadata": {
        "colab": {
          "base_uri": "https://localhost:8080/",
          "height": 623
        },
        "id": "3mj-IrABC5rG",
        "outputId": "1fdac39c-0471-4365-aa4f-9a0a767661e4"
      },
      "outputs": [
        {
          "output_type": "execute_result",
          "data": {
            "text/plain": [
              "<matplotlib.axes._subplots.AxesSubplot at 0x7ff53a6ca190>"
            ]
          },
          "metadata": {},
          "execution_count": 12
        },
        {
          "output_type": "display_data",
          "data": {
            "image/png": "[encoded data removed]",
            "text/plain": [
              "<Figure size 1080x720 with 1 Axes>"
            ]
          },
          "metadata": {
            "needs_background": "light"
          }
        }
      ],
      "source": [
        "plt.figure(figsize=(15,10))\n",
        "plt.xlabel(\"Ambient AirCondition [K]\")\n",
        "df['Tair'].plot.hist()"
      ]
    },
    {
      "cell_type": "code",
      "execution_count": 13,
      "metadata": {
        "colab": {
          "base_uri": "https://localhost:8080/",
          "height": 625
        },
        "id": "YN0bagkgC-OL",
        "outputId": "41596984-769d-4c44-bd26-5004d1e47383"
      },
      "outputs": [
        {
          "output_type": "execute_result",
          "data": {
            "text/plain": [
              "<matplotlib.axes._subplots.AxesSubplot at 0x7ff53a586c10>"
            ]
          },
          "metadata": {},
          "execution_count": 13
        },
        {
          "output_type": "display_data",
          "data": {
            "image/png": "[encoded data removed]",
            "text/plain": [
              "<Figure size 1080x720 with 1 Axes>"
            ]
          },
          "metadata": {
            "needs_background": "light"
          }
        }
      ],
      "source": [
        "plt.figure(figsize=(15,10))\n",
        "plt.xlabel(\"Boiler Entering Water Temperature [K]\")\n",
        "df['Treturn'].plot.hist()"
      ]
    },
    {
      "cell_type": "code",
      "execution_count": 14,
      "metadata": {
        "colab": {
          "base_uri": "https://localhost:8080/",
          "height": 623
        },
        "id": "CILgwS5BDA7J",
        "outputId": "9df0c24f-eddc-4d3d-b23f-ed2285597437"
      },
      "outputs": [
        {
          "output_type": "execute_result",
          "data": {
            "text/plain": [
              "<matplotlib.axes._subplots.AxesSubplot at 0x7ff53a5173d0>"
            ]
          },
          "metadata": {},
          "execution_count": 14
        },
        {
          "output_type": "display_data",
          "data": {
            "image/png": "[encoded data removed]",
            "text/plain": [
              "<Figure size 1080x720 with 1 Axes>"
            ]
          },
          "metadata": {
            "needs_background": "light"
          }
        }
      ],
      "source": [
        "plt.figure(figsize=(15,10))\n",
        "plt.xlabel(\"Boiler Leaving Water Temperature [K]\")\n",
        "df['Tsupply'].plot.hist()"
      ]
    },
    {
      "cell_type": "code",
      "execution_count": 15,
      "metadata": {
        "colab": {
          "base_uri": "https://localhost:8080/",
          "height": 668
        },
        "id": "bxpoRJS_rKyx",
        "outputId": "d9777feb-37fb-49e2-b03b-da11ccea2c2c"
      },
      "outputs": [
        {
          "output_type": "stream",
          "name": "stderr",
          "text": [
            "/usr/local/lib/python3.7/dist-packages/ipykernel_launcher.py:8: FutureWarning: Support for multi-dimensional indexing (e.g. `obj[:, None]`) is deprecated and will be removed in a future version.  Convert to a numpy array before indexing instead.\n",
            "  \n"
          ]
        },
        {
          "output_type": "execute_result",
          "data": {
            "text/plain": [
              "<matplotlib.axes._subplots.AxesSubplot at 0x7ff53a4dec90>"
            ]
          },
          "metadata": {},
          "execution_count": 15
        },
        {
          "output_type": "display_data",
          "data": {
            "image/png": "[encoded data removed]",
            "text/plain": [
              "<Figure size 1080x720 with 2 Axes>"
            ]
          },
          "metadata": {
            "needs_background": "light"
          }
        }
      ],
      "source": [
        "## Checking for correlation between different variables\n",
        "\n",
        "import seaborn as sns\n",
        "df_features =df[['Fuel_Mdot', 'Tair',\t'Treturn',\t'Tsupply',\t'Water_Mdot']]\n",
        "plt.figure(figsize = (15,10))\n",
        "df_features_corr = df_features.corr()\n",
        "\n",
        "c = df_features_corr.astype('float') / df_features_corr.sum(axis=1)[:, np.newaxis]\n",
        "sns.heatmap(df_features_corr,annot=True)"
      ]
    },
    {
      "cell_type": "markdown",
      "metadata": {
        "id": "B0jpXnAqsV0m"
      },
      "source": [
        "**Observations from Correlation Matrix**\n",
        "\n",
        "* There is a negative correlation between:\n",
        "  * Treturn - Tsupply\n",
        "  * Water_Mdot - Tsupply\n",
        "  * ***Description: Variables are inversely proportional to each other***\n",
        "\n",
        "* There is a positive correlation between:\n",
        "  * Tsupply - Fuel_Mdot\n",
        "  * Tsupply - Tair\n",
        "  * Water_Mdot - Treturn\n",
        "  * ***Description: Variables are proportional to each other***\n",
        "\n",
        "* There is NO correlation between:\n",
        "  * Water_Mdot - Fuel_Mdot\n",
        "  * Water_Mdot - Tair\n",
        "  * Tair - Fuel_Mdot\n",
        "  * Treturn - Fuel_Mdot\n",
        "  * Treturn - Tair\n",
        "  * ***Description: The variables are independent of each other and has no predictive relationship***\n"
      ]
    },
    {
      "cell_type": "markdown",
      "metadata": {
        "id": "3W_0Kbexq4v0"
      },
      "source": [
        "#**5. Data Preprocessing**"
      ]
    },
    {
      "cell_type": "markdown",
      "metadata": {
        "id": "p2aZoDoPR_D2"
      },
      "source": [
        "##**5.1 Processing of Categorical Variables**"
      ]
    },
    {
      "cell_type": "markdown",
      "metadata": {
        "id": "oEDbDFWAAtBi"
      },
      "source": [
        "##**5.1.1 Dummy Variable - Class**"
      ]
    },
    {
      "cell_type": "code",
      "execution_count": 16,
      "metadata": {
        "colab": {
          "base_uri": "https://localhost:8080/",
          "height": 363
        },
        "id": "GRfUYwe0SDw5",
        "outputId": "0ca7e9f4-5f67-463b-e62e-b19cde8c24d2"
      },
      "outputs": [
        {
          "output_type": "execute_result",
          "data": {
            "text/html": [
              "\n",
              "  <div id=\"df-5226188a-ebdc-4896-a8d7-8a5c1a9ffe27\">\n",
              "    <div class=\"colab-df-container\">\n",
              "      <div>\n",
              "<style scoped>\n",
              "    .dataframe tbody tr th:only-of-type {\n",
              "        vertical-align: middle;\n",
              "    }\n",
              "\n",
              "    .dataframe tbody tr th {\n",
              "        vertical-align: top;\n",
              "    }\n",
              "\n",
              "    .dataframe thead th {\n",
              "        text-align: right;\n",
              "    }\n",
              "</style>\n",
              "<table border=\"1\" class=\"dataframe\">\n",
              "  <thead>\n",
              "    <tr style=\"text-align: right;\">\n",
              "      <th></th>\n",
              "      <th>Fuel_Mdot</th>\n",
              "      <th>Tair</th>\n",
              "      <th>Treturn</th>\n",
              "      <th>Tsupply</th>\n",
              "      <th>Water_Mdot</th>\n",
              "      <th>Condition</th>\n",
              "      <th>ExcessAir</th>\n",
              "      <th>Fouling</th>\n",
              "      <th>Lean</th>\n",
              "      <th>Nominal</th>\n",
              "      <th>Scaling</th>\n",
              "    </tr>\n",
              "  </thead>\n",
              "  <tbody>\n",
              "    <tr>\n",
              "      <th>0</th>\n",
              "      <td>1</td>\n",
              "      <td>283</td>\n",
              "      <td>333.0</td>\n",
              "      <td>363.574744</td>\n",
              "      <td>3.0</td>\n",
              "      <td>%=0.05</td>\n",
              "      <td>0</td>\n",
              "      <td>0</td>\n",
              "      <td>1</td>\n",
              "      <td>0</td>\n",
              "      <td>0</td>\n",
              "    </tr>\n",
              "    <tr>\n",
              "      <th>1</th>\n",
              "      <td>1</td>\n",
              "      <td>283</td>\n",
              "      <td>333.0</td>\n",
              "      <td>362.349517</td>\n",
              "      <td>3.0</td>\n",
              "      <td>%=0.1</td>\n",
              "      <td>0</td>\n",
              "      <td>0</td>\n",
              "      <td>0</td>\n",
              "      <td>1</td>\n",
              "      <td>0</td>\n",
              "    </tr>\n",
              "    <tr>\n",
              "      <th>2</th>\n",
              "      <td>1</td>\n",
              "      <td>283</td>\n",
              "      <td>333.0</td>\n",
              "      <td>361.216941</td>\n",
              "      <td>3.0</td>\n",
              "      <td>%=0.15</td>\n",
              "      <td>1</td>\n",
              "      <td>0</td>\n",
              "      <td>0</td>\n",
              "      <td>0</td>\n",
              "      <td>0</td>\n",
              "    </tr>\n",
              "    <tr>\n",
              "      <th>3</th>\n",
              "      <td>1</td>\n",
              "      <td>283</td>\n",
              "      <td>333.0</td>\n",
              "      <td>360.166890</td>\n",
              "      <td>3.0</td>\n",
              "      <td>%=0.20</td>\n",
              "      <td>1</td>\n",
              "      <td>0</td>\n",
              "      <td>0</td>\n",
              "      <td>0</td>\n",
              "      <td>0</td>\n",
              "    </tr>\n",
              "    <tr>\n",
              "      <th>4</th>\n",
              "      <td>1</td>\n",
              "      <td>283</td>\n",
              "      <td>333.0</td>\n",
              "      <td>359.190662</td>\n",
              "      <td>3.0</td>\n",
              "      <td>%=0.25</td>\n",
              "      <td>1</td>\n",
              "      <td>0</td>\n",
              "      <td>0</td>\n",
              "      <td>0</td>\n",
              "      <td>0</td>\n",
              "    </tr>\n",
              "    <tr>\n",
              "      <th>5</th>\n",
              "      <td>1</td>\n",
              "      <td>283</td>\n",
              "      <td>333.0</td>\n",
              "      <td>358.280736</td>\n",
              "      <td>3.0</td>\n",
              "      <td>%=0.3</td>\n",
              "      <td>1</td>\n",
              "      <td>0</td>\n",
              "      <td>0</td>\n",
              "      <td>0</td>\n",
              "      <td>0</td>\n",
              "    </tr>\n",
              "    <tr>\n",
              "      <th>6</th>\n",
              "      <td>1</td>\n",
              "      <td>283</td>\n",
              "      <td>333.0</td>\n",
              "      <td>357.430579</td>\n",
              "      <td>3.0</td>\n",
              "      <td>%=0.35</td>\n",
              "      <td>1</td>\n",
              "      <td>0</td>\n",
              "      <td>0</td>\n",
              "      <td>0</td>\n",
              "      <td>0</td>\n",
              "    </tr>\n",
              "    <tr>\n",
              "      <th>7</th>\n",
              "      <td>1</td>\n",
              "      <td>283</td>\n",
              "      <td>333.0</td>\n",
              "      <td>356.634489</td>\n",
              "      <td>3.0</td>\n",
              "      <td>%=0.40</td>\n",
              "      <td>1</td>\n",
              "      <td>0</td>\n",
              "      <td>0</td>\n",
              "      <td>0</td>\n",
              "      <td>0</td>\n",
              "    </tr>\n",
              "    <tr>\n",
              "      <th>8</th>\n",
              "      <td>1</td>\n",
              "      <td>283</td>\n",
              "      <td>333.0</td>\n",
              "      <td>355.887468</td>\n",
              "      <td>3.0</td>\n",
              "      <td>%=0.45</td>\n",
              "      <td>1</td>\n",
              "      <td>0</td>\n",
              "      <td>0</td>\n",
              "      <td>0</td>\n",
              "      <td>0</td>\n",
              "    </tr>\n",
              "    <tr>\n",
              "      <th>9</th>\n",
              "      <td>1</td>\n",
              "      <td>283</td>\n",
              "      <td>333.0</td>\n",
              "      <td>355.185115</td>\n",
              "      <td>3.0</td>\n",
              "      <td>%=0.50</td>\n",
              "      <td>1</td>\n",
              "      <td>0</td>\n",
              "      <td>0</td>\n",
              "      <td>0</td>\n",
              "      <td>0</td>\n",
              "    </tr>\n",
              "  </tbody>\n",
              "</table>\n",
              "</div>\n",
              "      <button class=\"colab-df-convert\" onclick=\"convertToInteractive('df-5226188a-ebdc-4896-a8d7-8a5c1a9ffe27')\"\n",
              "              title=\"Convert this dataframe to an interactive table.\"\n",
              "              style=\"display:none;\">\n",
              "        \n",
              "  <svg xmlns=\"http://www.w3.org/2000/svg\" height=\"24px\"viewBox=\"0 0 24 24\"\n",
              "       width=\"24px\">\n",
              "    <path d=\"M0 0h24v24H0V0z\" fill=\"none\"/>\n",
              "    <path d=\"M18.56 5.44l.94 2.06.94-2.06 2.06-.94-2.06-.94-.94-2.06-.94 2.06-2.06.94zm-11 1L8.5 8.5l.94-2.06 2.06-.94-2.06-.94L8.5 2.5l-.94 2.06-2.06.94zm10 10l.94 2.06.94-2.06 2.06-.94-2.06-.94-.94-2.06-.94 2.06-2.06.94z\"/><path d=\"M17.41 7.96l-1.37-1.37c-.4-.4-.92-.59-1.43-.59-.52 0-1.04.2-1.43.59L10.3 9.45l-7.72 7.72c-.78.78-.78 2.05 0 2.83L4 21.41c.39.39.9.59 1.41.59.51 0 1.02-.2 1.41-.59l7.78-7.78 2.81-2.81c.8-.78.8-2.07 0-2.86zM5.41 20L4 18.59l7.72-7.72 1.47 1.35L5.41 20z\"/>\n",
              "  </svg>\n",
              "      </button>\n",
              "      \n",
              "  <style>\n",
              "    .colab-df-container {\n",
              "      display:flex;\n",
              "      flex-wrap:wrap;\n",
              "      gap: 12px;\n",
              "    }\n",
              "\n",
              "    .colab-df-convert {\n",
              "      background-color: #E8F0FE;\n",
              "      border: none;\n",
              "      border-radius: 50%;\n",
              "      cursor: pointer;\n",
              "      display: none;\n",
              "      fill: #1967D2;\n",
              "      height: 32px;\n",
              "      padding: 0 0 0 0;\n",
              "      width: 32px;\n",
              "    }\n",
              "\n",
              "    .colab-df-convert:hover {\n",
              "      background-color: #E2EBFA;\n",
              "      box-shadow: 0px 1px 2px rgba(60, 64, 67, 0.3), 0px 1px 3px 1px rgba(60, 64, 67, 0.15);\n",
              "      fill: #174EA6;\n",
              "    }\n",
              "\n",
              "    [theme=dark] .colab-df-convert {\n",
              "      background-color: #3B4455;\n",
              "      fill: #D2E3FC;\n",
              "    }\n",
              "\n",
              "    [theme=dark] .colab-df-convert:hover {\n",
              "      background-color: #434B5C;\n",
              "      box-shadow: 0px 1px 3px 1px rgba(0, 0, 0, 0.15);\n",
              "      filter: drop-shadow(0px 1px 2px rgba(0, 0, 0, 0.3));\n",
              "      fill: #FFFFFF;\n",
              "    }\n",
              "  </style>\n",
              "\n",
              "      <script>\n",
              "        const buttonEl =\n",
              "          document.querySelector('#df-5226188a-ebdc-4896-a8d7-8a5c1a9ffe27 button.colab-df-convert');\n",
              "        buttonEl.style.display =\n",
              "          google.colab.kernel.accessAllowed ? 'block' : 'none';\n",
              "\n",
              "        async function convertToInteractive(key) {\n",
              "          const element = document.querySelector('#df-5226188a-ebdc-4896-a8d7-8a5c1a9ffe27');\n",
              "          const dataTable =\n",
              "            await google.colab.kernel.invokeFunction('convertToInteractive',\n",
              "                                                     [key], {});\n",
              "          if (!dataTable) return;\n",
              "\n",
              "          const docLinkHtml = 'Like what you see? Visit the ' +\n",
              "            '<a target=\"_blank\" href=https://colab.research.google.com/notebooks/data_table.ipynb>data table notebook</a>'\n",
              "            + ' to learn more about interactive tables.';\n",
              "          element.innerHTML = '';\n",
              "          dataTable['output_type'] = 'display_data';\n",
              "          await google.colab.output.renderOutput(dataTable, element);\n",
              "          const docLink = document.createElement('div');\n",
              "          docLink.innerHTML = docLinkHtml;\n",
              "          element.appendChild(docLink);\n",
              "        }\n",
              "      </script>\n",
              "    </div>\n",
              "  </div>\n",
              "  "
            ],
            "text/plain": [
              "   Fuel_Mdot  Tair  Treturn     Tsupply  ...  Fouling Lean  Nominal  Scaling\n",
              "0          1   283    333.0  363.574744  ...        0    1        0        0\n",
              "1          1   283    333.0  362.349517  ...        0    0        1        0\n",
              "2          1   283    333.0  361.216941  ...        0    0        0        0\n",
              "3          1   283    333.0  360.166890  ...        0    0        0        0\n",
              "4          1   283    333.0  359.190662  ...        0    0        0        0\n",
              "5          1   283    333.0  358.280736  ...        0    0        0        0\n",
              "6          1   283    333.0  357.430579  ...        0    0        0        0\n",
              "7          1   283    333.0  356.634489  ...        0    0        0        0\n",
              "8          1   283    333.0  355.887468  ...        0    0        0        0\n",
              "9          1   283    333.0  355.185115  ...        0    0        0        0\n",
              "\n",
              "[10 rows x 11 columns]"
            ]
          },
          "metadata": {},
          "execution_count": 16
        }
      ],
      "source": [
        "dummies = pd.get_dummies(df.Class)\n",
        "merged = pd.concat([df,dummies],axis='columns')\n",
        "df_pre_1 = merged.drop(['Class'], axis='columns')\n",
        "df_pre_1.head(10)"
      ]
    },
    {
      "cell_type": "markdown",
      "metadata": {
        "id": "jVjh99uRAzvX"
      },
      "source": [
        "##**5.1.2 DUmmy Variable - Condition**"
      ]
    },
    {
      "cell_type": "code",
      "execution_count": 17,
      "metadata": {
        "colab": {
          "base_uri": "https://localhost:8080/",
          "height": 444
        },
        "id": "NNBwxhnlAyqn",
        "outputId": "9391a19a-cb64-49d6-870b-f3cfa45a8d76"
      },
      "outputs": [
        {
          "output_type": "execute_result",
          "data": {
            "text/html": [
              "\n",
              "  <div id=\"df-49aa82bc-20b7-40b1-97f0-f5c69611e539\">\n",
              "    <div class=\"colab-df-container\">\n",
              "      <div>\n",
              "<style scoped>\n",
              "    .dataframe tbody tr th:only-of-type {\n",
              "        vertical-align: middle;\n",
              "    }\n",
              "\n",
              "    .dataframe tbody tr th {\n",
              "        vertical-align: top;\n",
              "    }\n",
              "\n",
              "    .dataframe thead th {\n",
              "        text-align: right;\n",
              "    }\n",
              "</style>\n",
              "<table border=\"1\" class=\"dataframe\">\n",
              "  <thead>\n",
              "    <tr style=\"text-align: right;\">\n",
              "      <th></th>\n",
              "      <th>Fuel_Mdot</th>\n",
              "      <th>Tair</th>\n",
              "      <th>Treturn</th>\n",
              "      <th>Tsupply</th>\n",
              "      <th>Water_Mdot</th>\n",
              "      <th>Class</th>\n",
              "      <th>%=0.05</th>\n",
              "      <th>%=0.1</th>\n",
              "      <th>%=0.15</th>\n",
              "      <th>%=0.20</th>\n",
              "      <th>%=0.25</th>\n",
              "      <th>%=0.3</th>\n",
              "      <th>%=0.35</th>\n",
              "      <th>%=0.40</th>\n",
              "      <th>%=0.45</th>\n",
              "      <th>%=0.50</th>\n",
              "      <th>F = 0.01</th>\n",
              "      <th>F = 0.06</th>\n",
              "      <th>F = 0.11</th>\n",
              "      <th>F = 0.16</th>\n",
              "      <th>F = 0.21</th>\n",
              "      <th>F = 0.26</th>\n",
              "      <th>F = 0.31</th>\n",
              "      <th>F = 0.36</th>\n",
              "      <th>F = 0.41</th>\n",
              "      <th>F = 0.46</th>\n",
              "      <th>Nominal</th>\n",
              "      <th>S = 0.01</th>\n",
              "      <th>S = 0.06</th>\n",
              "      <th>S = 0.11</th>\n",
              "      <th>S = 0.16</th>\n",
              "      <th>S = 0.21</th>\n",
              "      <th>S = 0.26</th>\n",
              "      <th>S = 0.31</th>\n",
              "      <th>S = 0.36</th>\n",
              "      <th>S = 0.41</th>\n",
              "      <th>S = 0.46</th>\n",
              "    </tr>\n",
              "  </thead>\n",
              "  <tbody>\n",
              "    <tr>\n",
              "      <th>0</th>\n",
              "      <td>1</td>\n",
              "      <td>283</td>\n",
              "      <td>333.0</td>\n",
              "      <td>363.574744</td>\n",
              "      <td>3.0</td>\n",
              "      <td>Lean</td>\n",
              "      <td>1</td>\n",
              "      <td>0</td>\n",
              "      <td>0</td>\n",
              "      <td>0</td>\n",
              "      <td>0</td>\n",
              "      <td>0</td>\n",
              "      <td>0</td>\n",
              "      <td>0</td>\n",
              "      <td>0</td>\n",
              "      <td>0</td>\n",
              "      <td>0</td>\n",
              "      <td>0</td>\n",
              "      <td>0</td>\n",
              "      <td>0</td>\n",
              "      <td>0</td>\n",
              "      <td>0</td>\n",
              "      <td>0</td>\n",
              "      <td>0</td>\n",
              "      <td>0</td>\n",
              "      <td>0</td>\n",
              "      <td>0</td>\n",
              "      <td>0</td>\n",
              "      <td>0</td>\n",
              "      <td>0</td>\n",
              "      <td>0</td>\n",
              "      <td>0</td>\n",
              "      <td>0</td>\n",
              "      <td>0</td>\n",
              "      <td>0</td>\n",
              "      <td>0</td>\n",
              "      <td>0</td>\n",
              "    </tr>\n",
              "    <tr>\n",
              "      <th>1</th>\n",
              "      <td>1</td>\n",
              "      <td>283</td>\n",
              "      <td>333.0</td>\n",
              "      <td>362.349517</td>\n",
              "      <td>3.0</td>\n",
              "      <td>Nominal</td>\n",
              "      <td>0</td>\n",
              "      <td>1</td>\n",
              "      <td>0</td>\n",
              "      <td>0</td>\n",
              "      <td>0</td>\n",
              "      <td>0</td>\n",
              "      <td>0</td>\n",
              "      <td>0</td>\n",
              "      <td>0</td>\n",
              "      <td>0</td>\n",
              "      <td>0</td>\n",
              "      <td>0</td>\n",
              "      <td>0</td>\n",
              "      <td>0</td>\n",
              "      <td>0</td>\n",
              "      <td>0</td>\n",
              "      <td>0</td>\n",
              "      <td>0</td>\n",
              "      <td>0</td>\n",
              "      <td>0</td>\n",
              "      <td>0</td>\n",
              "      <td>0</td>\n",
              "      <td>0</td>\n",
              "      <td>0</td>\n",
              "      <td>0</td>\n",
              "      <td>0</td>\n",
              "      <td>0</td>\n",
              "      <td>0</td>\n",
              "      <td>0</td>\n",
              "      <td>0</td>\n",
              "      <td>0</td>\n",
              "    </tr>\n",
              "    <tr>\n",
              "      <th>2</th>\n",
              "      <td>1</td>\n",
              "      <td>283</td>\n",
              "      <td>333.0</td>\n",
              "      <td>361.216941</td>\n",
              "      <td>3.0</td>\n",
              "      <td>ExcessAir</td>\n",
              "      <td>0</td>\n",
              "      <td>0</td>\n",
              "      <td>1</td>\n",
              "      <td>0</td>\n",
              "      <td>0</td>\n",
              "      <td>0</td>\n",
              "      <td>0</td>\n",
              "      <td>0</td>\n",
              "      <td>0</td>\n",
              "      <td>0</td>\n",
              "      <td>0</td>\n",
              "      <td>0</td>\n",
              "      <td>0</td>\n",
              "      <td>0</td>\n",
              "      <td>0</td>\n",
              "      <td>0</td>\n",
              "      <td>0</td>\n",
              "      <td>0</td>\n",
              "      <td>0</td>\n",
              "      <td>0</td>\n",
              "      <td>0</td>\n",
              "      <td>0</td>\n",
              "      <td>0</td>\n",
              "      <td>0</td>\n",
              "      <td>0</td>\n",
              "      <td>0</td>\n",
              "      <td>0</td>\n",
              "      <td>0</td>\n",
              "      <td>0</td>\n",
              "      <td>0</td>\n",
              "      <td>0</td>\n",
              "    </tr>\n",
              "    <tr>\n",
              "      <th>3</th>\n",
              "      <td>1</td>\n",
              "      <td>283</td>\n",
              "      <td>333.0</td>\n",
              "      <td>360.166890</td>\n",
              "      <td>3.0</td>\n",
              "      <td>ExcessAir</td>\n",
              "      <td>0</td>\n",
              "      <td>0</td>\n",
              "      <td>0</td>\n",
              "      <td>1</td>\n",
              "      <td>0</td>\n",
              "      <td>0</td>\n",
              "      <td>0</td>\n",
              "      <td>0</td>\n",
              "      <td>0</td>\n",
              "      <td>0</td>\n",
              "      <td>0</td>\n",
              "      <td>0</td>\n",
              "      <td>0</td>\n",
              "      <td>0</td>\n",
              "      <td>0</td>\n",
              "      <td>0</td>\n",
              "      <td>0</td>\n",
              "      <td>0</td>\n",
              "      <td>0</td>\n",
              "      <td>0</td>\n",
              "      <td>0</td>\n",
              "      <td>0</td>\n",
              "      <td>0</td>\n",
              "      <td>0</td>\n",
              "      <td>0</td>\n",
              "      <td>0</td>\n",
              "      <td>0</td>\n",
              "      <td>0</td>\n",
              "      <td>0</td>\n",
              "      <td>0</td>\n",
              "      <td>0</td>\n",
              "    </tr>\n",
              "    <tr>\n",
              "      <th>4</th>\n",
              "      <td>1</td>\n",
              "      <td>283</td>\n",
              "      <td>333.0</td>\n",
              "      <td>359.190662</td>\n",
              "      <td>3.0</td>\n",
              "      <td>ExcessAir</td>\n",
              "      <td>0</td>\n",
              "      <td>0</td>\n",
              "      <td>0</td>\n",
              "      <td>0</td>\n",
              "      <td>1</td>\n",
              "      <td>0</td>\n",
              "      <td>0</td>\n",
              "      <td>0</td>\n",
              "      <td>0</td>\n",
              "      <td>0</td>\n",
              "      <td>0</td>\n",
              "      <td>0</td>\n",
              "      <td>0</td>\n",
              "      <td>0</td>\n",
              "      <td>0</td>\n",
              "      <td>0</td>\n",
              "      <td>0</td>\n",
              "      <td>0</td>\n",
              "      <td>0</td>\n",
              "      <td>0</td>\n",
              "      <td>0</td>\n",
              "      <td>0</td>\n",
              "      <td>0</td>\n",
              "      <td>0</td>\n",
              "      <td>0</td>\n",
              "      <td>0</td>\n",
              "      <td>0</td>\n",
              "      <td>0</td>\n",
              "      <td>0</td>\n",
              "      <td>0</td>\n",
              "      <td>0</td>\n",
              "    </tr>\n",
              "    <tr>\n",
              "      <th>5</th>\n",
              "      <td>1</td>\n",
              "      <td>283</td>\n",
              "      <td>333.0</td>\n",
              "      <td>358.280736</td>\n",
              "      <td>3.0</td>\n",
              "      <td>ExcessAir</td>\n",
              "      <td>0</td>\n",
              "      <td>0</td>\n",
              "      <td>0</td>\n",
              "      <td>0</td>\n",
              "      <td>0</td>\n",
              "      <td>1</td>\n",
              "      <td>0</td>\n",
              "      <td>0</td>\n",
              "      <td>0</td>\n",
              "      <td>0</td>\n",
              "      <td>0</td>\n",
              "      <td>0</td>\n",
              "      <td>0</td>\n",
              "      <td>0</td>\n",
              "      <td>0</td>\n",
              "      <td>0</td>\n",
              "      <td>0</td>\n",
              "      <td>0</td>\n",
              "      <td>0</td>\n",
              "      <td>0</td>\n",
              "      <td>0</td>\n",
              "      <td>0</td>\n",
              "      <td>0</td>\n",
              "      <td>0</td>\n",
              "      <td>0</td>\n",
              "      <td>0</td>\n",
              "      <td>0</td>\n",
              "      <td>0</td>\n",
              "      <td>0</td>\n",
              "      <td>0</td>\n",
              "      <td>0</td>\n",
              "    </tr>\n",
              "    <tr>\n",
              "      <th>6</th>\n",
              "      <td>1</td>\n",
              "      <td>283</td>\n",
              "      <td>333.0</td>\n",
              "      <td>357.430579</td>\n",
              "      <td>3.0</td>\n",
              "      <td>ExcessAir</td>\n",
              "      <td>0</td>\n",
              "      <td>0</td>\n",
              "      <td>0</td>\n",
              "      <td>0</td>\n",
              "      <td>0</td>\n",
              "      <td>0</td>\n",
              "      <td>1</td>\n",
              "      <td>0</td>\n",
              "      <td>0</td>\n",
              "      <td>0</td>\n",
              "      <td>0</td>\n",
              "      <td>0</td>\n",
              "      <td>0</td>\n",
              "      <td>0</td>\n",
              "      <td>0</td>\n",
              "      <td>0</td>\n",
              "      <td>0</td>\n",
              "      <td>0</td>\n",
              "      <td>0</td>\n",
              "      <td>0</td>\n",
              "      <td>0</td>\n",
              "      <td>0</td>\n",
              "      <td>0</td>\n",
              "      <td>0</td>\n",
              "      <td>0</td>\n",
              "      <td>0</td>\n",
              "      <td>0</td>\n",
              "      <td>0</td>\n",
              "      <td>0</td>\n",
              "      <td>0</td>\n",
              "      <td>0</td>\n",
              "    </tr>\n",
              "    <tr>\n",
              "      <th>7</th>\n",
              "      <td>1</td>\n",
              "      <td>283</td>\n",
              "      <td>333.0</td>\n",
              "      <td>356.634489</td>\n",
              "      <td>3.0</td>\n",
              "      <td>ExcessAir</td>\n",
              "      <td>0</td>\n",
              "      <td>0</td>\n",
              "      <td>0</td>\n",
              "      <td>0</td>\n",
              "      <td>0</td>\n",
              "      <td>0</td>\n",
              "      <td>0</td>\n",
              "      <td>1</td>\n",
              "      <td>0</td>\n",
              "      <td>0</td>\n",
              "      <td>0</td>\n",
              "      <td>0</td>\n",
              "      <td>0</td>\n",
              "      <td>0</td>\n",
              "      <td>0</td>\n",
              "      <td>0</td>\n",
              "      <td>0</td>\n",
              "      <td>0</td>\n",
              "      <td>0</td>\n",
              "      <td>0</td>\n",
              "      <td>0</td>\n",
              "      <td>0</td>\n",
              "      <td>0</td>\n",
              "      <td>0</td>\n",
              "      <td>0</td>\n",
              "      <td>0</td>\n",
              "      <td>0</td>\n",
              "      <td>0</td>\n",
              "      <td>0</td>\n",
              "      <td>0</td>\n",
              "      <td>0</td>\n",
              "    </tr>\n",
              "    <tr>\n",
              "      <th>8</th>\n",
              "      <td>1</td>\n",
              "      <td>283</td>\n",
              "      <td>333.0</td>\n",
              "      <td>355.887468</td>\n",
              "      <td>3.0</td>\n",
              "      <td>ExcessAir</td>\n",
              "      <td>0</td>\n",
              "      <td>0</td>\n",
              "      <td>0</td>\n",
              "      <td>0</td>\n",
              "      <td>0</td>\n",
              "      <td>0</td>\n",
              "      <td>0</td>\n",
              "      <td>0</td>\n",
              "      <td>1</td>\n",
              "      <td>0</td>\n",
              "      <td>0</td>\n",
              "      <td>0</td>\n",
              "      <td>0</td>\n",
              "      <td>0</td>\n",
              "      <td>0</td>\n",
              "      <td>0</td>\n",
              "      <td>0</td>\n",
              "      <td>0</td>\n",
              "      <td>0</td>\n",
              "      <td>0</td>\n",
              "      <td>0</td>\n",
              "      <td>0</td>\n",
              "      <td>0</td>\n",
              "      <td>0</td>\n",
              "      <td>0</td>\n",
              "      <td>0</td>\n",
              "      <td>0</td>\n",
              "      <td>0</td>\n",
              "      <td>0</td>\n",
              "      <td>0</td>\n",
              "      <td>0</td>\n",
              "    </tr>\n",
              "    <tr>\n",
              "      <th>9</th>\n",
              "      <td>1</td>\n",
              "      <td>283</td>\n",
              "      <td>333.0</td>\n",
              "      <td>355.185115</td>\n",
              "      <td>3.0</td>\n",
              "      <td>ExcessAir</td>\n",
              "      <td>0</td>\n",
              "      <td>0</td>\n",
              "      <td>0</td>\n",
              "      <td>0</td>\n",
              "      <td>0</td>\n",
              "      <td>0</td>\n",
              "      <td>0</td>\n",
              "      <td>0</td>\n",
              "      <td>0</td>\n",
              "      <td>1</td>\n",
              "      <td>0</td>\n",
              "      <td>0</td>\n",
              "      <td>0</td>\n",
              "      <td>0</td>\n",
              "      <td>0</td>\n",
              "      <td>0</td>\n",
              "      <td>0</td>\n",
              "      <td>0</td>\n",
              "      <td>0</td>\n",
              "      <td>0</td>\n",
              "      <td>0</td>\n",
              "      <td>0</td>\n",
              "      <td>0</td>\n",
              "      <td>0</td>\n",
              "      <td>0</td>\n",
              "      <td>0</td>\n",
              "      <td>0</td>\n",
              "      <td>0</td>\n",
              "      <td>0</td>\n",
              "      <td>0</td>\n",
              "      <td>0</td>\n",
              "    </tr>\n",
              "  </tbody>\n",
              "</table>\n",
              "</div>\n",
              "      <button class=\"colab-df-convert\" onclick=\"convertToInteractive('df-49aa82bc-20b7-40b1-97f0-f5c69611e539')\"\n",
              "              title=\"Convert this dataframe to an interactive table.\"\n",
              "              style=\"display:none;\">\n",
              "        \n",
              "  <svg xmlns=\"http://www.w3.org/2000/svg\" height=\"24px\"viewBox=\"0 0 24 24\"\n",
              "       width=\"24px\">\n",
              "    <path d=\"M0 0h24v24H0V0z\" fill=\"none\"/>\n",
              "    <path d=\"M18.56 5.44l.94 2.06.94-2.06 2.06-.94-2.06-.94-.94-2.06-.94 2.06-2.06.94zm-11 1L8.5 8.5l.94-2.06 2.06-.94-2.06-.94L8.5 2.5l-.94 2.06-2.06.94zm10 10l.94 2.06.94-2.06 2.06-.94-2.06-.94-.94-2.06-.94 2.06-2.06.94z\"/><path d=\"M17.41 7.96l-1.37-1.37c-.4-.4-.92-.59-1.43-.59-.52 0-1.04.2-1.43.59L10.3 9.45l-7.72 7.72c-.78.78-.78 2.05 0 2.83L4 21.41c.39.39.9.59 1.41.59.51 0 1.02-.2 1.41-.59l7.78-7.78 2.81-2.81c.8-.78.8-2.07 0-2.86zM5.41 20L4 18.59l7.72-7.72 1.47 1.35L5.41 20z\"/>\n",
              "  </svg>\n",
              "      </button>\n",
              "      \n",
              "  <style>\n",
              "    .colab-df-container {\n",
              "      display:flex;\n",
              "      flex-wrap:wrap;\n",
              "      gap: 12px;\n",
              "    }\n",
              "\n",
              "    .colab-df-convert {\n",
              "      background-color: #E8F0FE;\n",
              "      border: none;\n",
              "      border-radius: 50%;\n",
              "      cursor: pointer;\n",
              "      display: none;\n",
              "      fill: #1967D2;\n",
              "      height: 32px;\n",
              "      padding: 0 0 0 0;\n",
              "      width: 32px;\n",
              "    }\n",
              "\n",
              "    .colab-df-convert:hover {\n",
              "      background-color: #E2EBFA;\n",
              "      box-shadow: 0px 1px 2px rgba(60, 64, 67, 0.3), 0px 1px 3px 1px rgba(60, 64, 67, 0.15);\n",
              "      fill: #174EA6;\n",
              "    }\n",
              "\n",
              "    [theme=dark] .colab-df-convert {\n",
              "      background-color: #3B4455;\n",
              "      fill: #D2E3FC;\n",
              "    }\n",
              "\n",
              "    [theme=dark] .colab-df-convert:hover {\n",
              "      background-color: #434B5C;\n",
              "      box-shadow: 0px 1px 3px 1px rgba(0, 0, 0, 0.15);\n",
              "      filter: drop-shadow(0px 1px 2px rgba(0, 0, 0, 0.3));\n",
              "      fill: #FFFFFF;\n",
              "    }\n",
              "  </style>\n",
              "\n",
              "      <script>\n",
              "        const buttonEl =\n",
              "          document.querySelector('#df-49aa82bc-20b7-40b1-97f0-f5c69611e539 button.colab-df-convert');\n",
              "        buttonEl.style.display =\n",
              "          google.colab.kernel.accessAllowed ? 'block' : 'none';\n",
              "\n",
              "        async function convertToInteractive(key) {\n",
              "          const element = document.querySelector('#df-49aa82bc-20b7-40b1-97f0-f5c69611e539');\n",
              "          const dataTable =\n",
              "            await google.colab.kernel.invokeFunction('convertToInteractive',\n",
              "                                                     [key], {});\n",
              "          if (!dataTable) return;\n",
              "\n",
              "          const docLinkHtml = 'Like what you see? Visit the ' +\n",
              "            '<a target=\"_blank\" href=https://colab.research.google.com/notebooks/data_table.ipynb>data table notebook</a>'\n",
              "            + ' to learn more about interactive tables.';\n",
              "          element.innerHTML = '';\n",
              "          dataTable['output_type'] = 'display_data';\n",
              "          await google.colab.output.renderOutput(dataTable, element);\n",
              "          const docLink = document.createElement('div');\n",
              "          docLink.innerHTML = docLinkHtml;\n",
              "          element.appendChild(docLink);\n",
              "        }\n",
              "      </script>\n",
              "    </div>\n",
              "  </div>\n",
              "  "
            ],
            "text/plain": [
              "   Fuel_Mdot  Tair  Treturn     Tsupply  ...  S = 0.31 S = 0.36  S = 0.41  S = 0.46\n",
              "0          1   283    333.0  363.574744  ...         0        0         0         0\n",
              "1          1   283    333.0  362.349517  ...         0        0         0         0\n",
              "2          1   283    333.0  361.216941  ...         0        0         0         0\n",
              "3          1   283    333.0  360.166890  ...         0        0         0         0\n",
              "4          1   283    333.0  359.190662  ...         0        0         0         0\n",
              "5          1   283    333.0  358.280736  ...         0        0         0         0\n",
              "6          1   283    333.0  357.430579  ...         0        0         0         0\n",
              "7          1   283    333.0  356.634489  ...         0        0         0         0\n",
              "8          1   283    333.0  355.887468  ...         0        0         0         0\n",
              "9          1   283    333.0  355.185115  ...         0        0         0         0\n",
              "\n",
              "[10 rows x 37 columns]"
            ]
          },
          "metadata": {},
          "execution_count": 17
        }
      ],
      "source": [
        "dummies = pd.get_dummies(df.Condition)\n",
        "merged = pd.concat([df,dummies],axis='columns')\n",
        "df_pre_2 = merged.drop(['Condition'], axis='columns')\n",
        "df_pre_2.head(10)"
      ]
    },
    {
      "cell_type": "markdown",
      "metadata": {
        "id": "-O1qFi54P0hB"
      },
      "source": [
        "#**6. Model Training and Classification**"
      ]
    },
    {
      "cell_type": "code",
      "execution_count": 18,
      "metadata": {
        "id": "_wTJNe3C2SpI"
      },
      "outputs": [],
      "source": [
        "from sklearn.tree import DecisionTreeClassifier # Import Decision Tree Classifier\n",
        "from sklearn.model_selection import train_test_split # Import train_test_split function\n",
        "from sklearn import metrics #Import scikit-learn metrics module for accuracy calculation"
      ]
    },
    {
      "cell_type": "markdown",
      "metadata": {
        "id": "psUfIZXF0pPD"
      },
      "source": [
        "##**6.1 Via Decision Tree Classifier**\n",
        "###**Target Variable: Class**"
      ]
    },
    {
      "cell_type": "markdown",
      "metadata": {
        "id": "D_wJl5xAB3C_"
      },
      "source": [
        "##**6.1.1 Model Accuracy**"
      ]
    },
    {
      "cell_type": "code",
      "execution_count": 19,
      "metadata": {
        "colab": {
          "base_uri": "https://localhost:8080/"
        },
        "id": "rgCtK0la1YAF",
        "outputId": "768e1042-bfeb-4144-c728-bd2c2baf75da"
      },
      "outputs": [
        {
          "output_type": "stream",
          "name": "stdout",
          "text": [
            "Accuracy: 95.34\n"
          ]
        }
      ],
      "source": [
        "#split dataset in features and target variable\n",
        "feature_cols = [\"Fuel_Mdot\",\"Tair\",\"Treturn\",\"Tsupply\",\"Water_Mdot\"]\n",
        "X = df[feature_cols] # Features\n",
        "y = df.Class # Target variable\n",
        "\n",
        "# Split dataset into training set and test set\n",
        "X_train, X_test, y_train, y_test = train_test_split(X, y, test_size=0.3, random_state=1) # 70% training and 30% test\n",
        "\n",
        "# Create Decision Tree classifer object\n",
        "clf = DecisionTreeClassifier()\n",
        "\n",
        "# Train Decision Tree Classifer\n",
        "clf = clf.fit(X_train,y_train)\n",
        "\n",
        "#Predict the response for test dataset\n",
        "y_pred = clf.predict(X_test)\n",
        "\n",
        "a_dtree = metrics.accuracy_score(y_test, y_pred)\n",
        "a_dtree = round(a_dtree*100,2)\n",
        "# Model Accuracy, how often is the classifier correct?\n",
        "print(\"Accuracy:\", a_dtree)"
      ]
    },
    {
      "cell_type": "markdown",
      "metadata": {
        "id": "IxNOkZxECE1b"
      },
      "source": [
        "##**6.1.2 Confusion Matrix**"
      ]
    },
    {
      "cell_type": "code",
      "execution_count": 20,
      "metadata": {
        "colab": {
          "base_uri": "https://localhost:8080/",
          "height": 607
        },
        "id": "BklQB-W-7CsE",
        "outputId": "ae1c8571-e0cf-4eeb-9a5a-eea41cf9d730"
      },
      "outputs": [
        {
          "output_type": "display_data",
          "data": {
            "image/png": "[encoded data removed]",
            "text/plain": [
              "<Figure size 1080x720 with 2 Axes>"
            ]
          },
          "metadata": {
            "needs_background": "light"
          }
        }
      ],
      "source": [
        "cm_dtree = confusion_matrix(y_test, y_pred)\n",
        "\n",
        "cmn = cm_dtree.astype('float') / cm_dtree.sum(axis=1)[:, np.newaxis]\n",
        "\n",
        "x_axis_labels = ['Lean' ,'Nominal', 'ExcessAir' ,'Fouling' ,'Scaling'] # labels for x-axis\n",
        "y_axis_labels = ['Lean' ,'Nominal', 'ExcessAir' ,'Fouling' ,'Scaling'] # labels for y-axis\n",
        "\n",
        "plt.figure(figsize=(15,10))\n",
        "plt.title(\"Decision Tree Classifier Confusion Matrix\")\n",
        "sns.heatmap(cmn,annot=True,cmap=\"Reds\",cbar=True, annot_kws={\"size\": 10}, xticklabels=x_axis_labels, yticklabels=y_axis_labels)\n",
        "plt.show()"
      ]
    },
    {
      "cell_type": "markdown",
      "metadata": {
        "id": "JUdwoEXr4IWg"
      },
      "source": [
        "##**6.1.3 Inter-Class Accuracy**"
      ]
    },
    {
      "cell_type": "code",
      "execution_count": 21,
      "metadata": {
        "colab": {
          "base_uri": "https://localhost:8080/"
        },
        "id": "lsTmZ7bt3K0V",
        "outputId": "f06f973a-6436-4b59-e516-3c3a903d3857"
      },
      "outputs": [
        {
          "output_type": "execute_result",
          "data": {
            "text/plain": [
              "{'ExcessAir': 0.9750733137829912,\n",
              " 'Fouling': 0.9908357771260997,\n",
              " 'Lean': 0.9951124144672532,\n",
              " 'Nominal': 0.9627321603128055,\n",
              " 'Scaling': 0.9831378299120235}"
            ]
          },
          "metadata": {},
          "execution_count": 21
        }
      ],
      "source": [
        "classes = ['Lean', 'Nominal' ,'ExcessAir', 'Fouling' ,'Scaling']\n",
        "\n",
        "# We will store the results in a dictionary for easy access later\n",
        "per_class_accuracies = {}\n",
        "\n",
        "# Calculate the accuracy for each one of our classes\n",
        "for idx, cls in enumerate(classes):\n",
        "    # True negatives are all the samples that are not our current GT class (not the current row) \n",
        "    # and were not predicted as the current class (not the current column)\n",
        "    true_negatives = np.sum(np.delete(np.delete(cm_dtree, idx, axis=0), idx, axis=1))\n",
        "    \n",
        "    # True positives are all the samples of our current GT class that were predicted as such\n",
        "    true_positives = cm_dtree[idx, idx]\n",
        "    \n",
        "    # The accuracy for the current class is ratio between correct predictions to all predictions\n",
        "    per_class_accuracies[cls] = (true_positives + true_negatives) / np.sum(cm_dtree)\n",
        "\n",
        "per_class_accuracies"
      ]
    },
    {
      "cell_type": "markdown",
      "metadata": {
        "id": "VXAmX-Jj4QhT"
      },
      "source": [
        "##**6.1.4 Classification Report**"
      ]
    },
    {
      "cell_type": "code",
      "execution_count": 22,
      "metadata": {
        "colab": {
          "base_uri": "https://localhost:8080/"
        },
        "id": "JRdyO0to6188",
        "outputId": "657a1c4b-e62c-432e-df1c-370b52846a3f"
      },
      "outputs": [
        {
          "output_type": "stream",
          "name": "stdout",
          "text": [
            "              precision    recall  f1-score   support\n",
            "\n",
            "   ExcessAir       0.99      0.99      0.99      2151\n",
            "     Fouling       0.94      0.95      0.94      2613\n",
            "        Lean       0.64      0.65      0.65       287\n",
            "     Nominal       0.92      0.93      0.93       526\n",
            "     Scaling       0.98      0.97      0.97      2607\n",
            "\n",
            "    accuracy                           0.95      8184\n",
            "   macro avg       0.90      0.90      0.90      8184\n",
            "weighted avg       0.95      0.95      0.95      8184\n",
            "\n"
          ]
        }
      ],
      "source": [
        "print(metrics.classification_report(y_test, y_pred, digits=2))"
      ]
    },
    {
      "cell_type": "code",
      "execution_count": 23,
      "metadata": {
        "colab": {
          "base_uri": "https://localhost:8080/"
        },
        "id": "wdQ3UzuJcPRj",
        "outputId": "fd035660-2e8a-4af5-f2bf-fe1143e739c4"
      },
      "outputs": [
        {
          "output_type": "execute_result",
          "data": {
            "text/plain": [
              "2027     ExcessAir\n",
              "26694      Nominal\n",
              "4127     ExcessAir\n",
              "18345      Scaling\n",
              "18371      Scaling\n",
              "           ...    \n",
              "1430          Lean\n",
              "8486     ExcessAir\n",
              "4222     ExcessAir\n",
              "18319      Scaling\n",
              "5987     ExcessAir\n",
              "Name: Class, Length: 8184, dtype: object"
            ]
          },
          "metadata": {},
          "execution_count": 23
        }
      ],
      "source": [
        "y_test"
      ]
    },
    {
      "cell_type": "markdown",
      "metadata": {
        "id": "s6EVz1J97KF7"
      },
      "source": [
        "##**6.2 Via Random Forest Classifier**\n",
        "###**Traget Varibale - Class**"
      ]
    },
    {
      "cell_type": "markdown",
      "metadata": {
        "id": "u-_nNi-bDChk"
      },
      "source": [
        "##**6.2.1 Model Accuracy**"
      ]
    },
    {
      "cell_type": "code",
      "execution_count": 24,
      "metadata": {
        "colab": {
          "base_uri": "https://localhost:8080/"
        },
        "id": "e9f-jPoR8KiN",
        "outputId": "ec55ca76-6824-4fd7-d28b-fd0012156f98"
      },
      "outputs": [
        {
          "output_type": "stream",
          "name": "stdout",
          "text": [
            "Accuracy: 70.000\n"
          ]
        }
      ],
      "source": [
        "from sklearn.ensemble import RandomForestClassifier\n",
        "\n",
        "forest = RandomForestClassifier(criterion='gini',\n",
        "                                 n_estimators=5,\n",
        "                                 random_state=1,\n",
        "                                 n_jobs=2)\n",
        "#\n",
        "# Fit the model\n",
        "#\n",
        "forest.fit(X_train, y_train)\n",
        " \n",
        "#\n",
        "# Measure model performance\n",
        "#\n",
        "y_pred = forest.predict(X_test)\n",
        "a_rf = accuracy_score(y_test, y_pred)\n",
        "a_rf = round(a_rf*100,2)\n",
        "print('Accuracy: %.3f' % a_rf)"
      ]
    },
    {
      "cell_type": "markdown",
      "metadata": {
        "id": "Cf9J_aUnDrVd"
      },
      "source": [
        "##**6.2.2 Inter-class Accuracy**"
      ]
    },
    {
      "cell_type": "code",
      "execution_count": 25,
      "metadata": {
        "colab": {
          "base_uri": "https://localhost:8080/"
        },
        "id": "aGP4Mvt2DnHw",
        "outputId": "04aaf3e8-02d5-4aa4-c8f1-148705cb9da8"
      },
      "outputs": [
        {
          "output_type": "execute_result",
          "data": {
            "text/plain": [
              "{'ExcessAir': 0.9608993157380255,\n",
              " 'Fouling': 0.967375366568915,\n",
              " 'Lean': 0.9819159335288368,\n",
              " 'Nominal': 0.865713587487781,\n",
              " 'Scaling': 0.8775659824046921}"
            ]
          },
          "metadata": {},
          "execution_count": 25
        }
      ],
      "source": [
        "cm_rf = confusion_matrix(y_test, y_pred)\n",
        "\n",
        "classes = ['Lean', 'Nominal' ,'ExcessAir', 'Fouling' ,'Scaling']\n",
        "\n",
        "# We will store the results in a dictionary for easy access later\n",
        "per_class_accuracies = {}\n",
        "\n",
        "# Calculate the accuracy for each one of our classes\n",
        "for idx, cls in enumerate(classes):\n",
        "    # True negatives are all the samples that are not our current GT class (not the current row) \n",
        "    # and were not predicted as the current class (not the current column)\n",
        "    true_negatives = np.sum(np.delete(np.delete(cm_dtree, idx, axis=0), idx, axis=1))\n",
        "    \n",
        "    # True positives are all the samples of our current GT class that were predicted as such\n",
        "    true_positives = cm_rf[idx, idx]\n",
        "    \n",
        "    # The accuracy for the current class is ratio between correct predictions to all predictions\n",
        "    per_class_accuracies[cls] = (true_positives + true_negatives) / np.sum(cm_dtree)\n",
        "\n",
        "per_class_accuracies"
      ]
    },
    {
      "cell_type": "markdown",
      "metadata": {
        "id": "EbatXBT5DH2O"
      },
      "source": [
        "##**6.2.3 Classification Report**"
      ]
    },
    {
      "cell_type": "code",
      "execution_count": 26,
      "metadata": {
        "colab": {
          "base_uri": "https://localhost:8080/"
        },
        "id": "AWC-Qce8DNsg",
        "outputId": "6c285e47-c9ea-425c-d6dc-427699c2345e"
      },
      "outputs": [
        {
          "output_type": "stream",
          "name": "stdout",
          "text": [
            "              precision    recall  f1-score   support\n",
            "\n",
            "   ExcessAir       0.85      0.94      0.89      2151\n",
            "     Fouling       0.61      0.64      0.63      2613\n",
            "        Lean       0.27      0.24      0.26       287\n",
            "     Nominal       0.63      0.57      0.60       526\n",
            "     Scaling       0.72      0.64      0.68      2607\n",
            "\n",
            "    accuracy                           0.70      8184\n",
            "   macro avg       0.61      0.61      0.61      8184\n",
            "weighted avg       0.70      0.70      0.70      8184\n",
            "\n"
          ]
        }
      ],
      "source": [
        "print(metrics.classification_report(y_test, y_pred, digits=2))"
      ]
    },
    {
      "cell_type": "markdown",
      "metadata": {
        "id": "kYd_4xSh9_t4"
      },
      "source": [
        "##**6.3 Via K-Nearest Neighbor Classifier**\n"
      ]
    },
    {
      "cell_type": "markdown",
      "metadata": {
        "id": "7HdcOM0uEECO"
      },
      "source": [
        "##**6.3.1 Model Accuracy**"
      ]
    },
    {
      "cell_type": "code",
      "execution_count": 27,
      "metadata": {
        "colab": {
          "base_uri": "https://localhost:8080/"
        },
        "id": "f-9o8dsO9-zY",
        "outputId": "00d0921d-662f-4fcd-b0c2-aaa18207328d"
      },
      "outputs": [
        {
          "output_type": "stream",
          "name": "stdout",
          "text": [
            "Accuracy: 54.860\n"
          ]
        }
      ],
      "source": [
        "from sklearn.preprocessing import StandardScaler\n",
        "scaler = StandardScaler()\n",
        "scaler.fit(X_train)\n",
        "\n",
        "X_train = scaler.transform(X_train)\n",
        "X_test = scaler.transform(X_test)\n",
        "\n",
        "from sklearn.neighbors import KNeighborsClassifier\n",
        "classifier = KNeighborsClassifier(n_neighbors=5)\n",
        "classifier.fit(X_train, y_train)\n",
        "\n",
        "y_pred = classifier.predict(X_test)\n",
        "\n",
        "a_knn = accuracy_score(y_test, y_pred)\n",
        "a_knn = round(a_knn*100,2)\n",
        "print('Accuracy: %.3f' % a_knn)"
      ]
    },
    {
      "cell_type": "markdown",
      "metadata": {
        "id": "Fs4_zw3gEQwo"
      },
      "source": [
        "##**6.3.2 Inter-class Accuracy**"
      ]
    },
    {
      "cell_type": "code",
      "execution_count": 28,
      "metadata": {
        "colab": {
          "base_uri": "https://localhost:8080/"
        },
        "id": "XGP0ihE-Engr",
        "outputId": "32c57d43-3518-4bd5-e54d-8e90d159eda8"
      },
      "outputs": [
        {
          "output_type": "execute_result",
          "data": {
            "text/plain": [
              "{'ExcessAir': 0.9530791788856305,\n",
              " 'Fouling': 0.9365835777126099,\n",
              " 'Lean': 0.9875366568914956,\n",
              " 'Nominal': 0.8088954056695992,\n",
              " 'Scaling': 0.8159824046920822}"
            ]
          },
          "metadata": {},
          "execution_count": 28
        }
      ],
      "source": [
        "cm_knn = confusion_matrix(y_test, y_pred)\n",
        "\n",
        "classes = ['Lean', 'Nominal' ,'ExcessAir', 'Fouling' ,'Scaling']\n",
        "\n",
        "# We will store the results in a dictionary for easy access later\n",
        "per_class_accuracies = {}\n",
        "\n",
        "# Calculate the accuracy for each one of our classes\n",
        "for idx, cls in enumerate(classes):\n",
        "    # True negatives are all the samples that are not our current GT class (not the current row) \n",
        "    # and were not predicted as the current class (not the current column)\n",
        "    true_negatives = np.sum(np.delete(np.delete(cm_dtree, idx, axis=0), idx, axis=1))\n",
        "    \n",
        "    # True positives are all the samples of our current GT class that were predicted as such\n",
        "    true_positives = cm_knn[idx, idx]\n",
        "    \n",
        "    # The accuracy for the current class is ratio between correct predictions to all predictions\n",
        "    per_class_accuracies[cls] = (true_positives + true_negatives) / np.sum(cm_dtree)\n",
        "\n",
        "per_class_accuracies"
      ]
    },
    {
      "cell_type": "markdown",
      "metadata": {
        "id": "b61Z9CXrEXbN"
      },
      "source": [
        "##**6.3.3 Classification Report**"
      ]
    },
    {
      "cell_type": "code",
      "execution_count": 29,
      "metadata": {
        "colab": {
          "base_uri": "https://localhost:8080/"
        },
        "id": "DDD5hmIREslb",
        "outputId": "bc70b1ea-4b5d-49b5-c4b8-5961facb7fae"
      },
      "outputs": [
        {
          "output_type": "stream",
          "name": "stdout",
          "text": [
            "              precision    recall  f1-score   support\n",
            "\n",
            "   ExcessAir       0.59      0.96      0.73      2151\n",
            "     Fouling       0.52      0.46      0.49      2613\n",
            "        Lean       0.07      0.02      0.03       287\n",
            "     Nominal       0.12      0.09      0.10       526\n",
            "     Scaling       0.64      0.44      0.52      2607\n",
            "\n",
            "    accuracy                           0.55      8184\n",
            "   macro avg       0.38      0.40      0.37      8184\n",
            "weighted avg       0.53      0.55      0.52      8184\n",
            "\n"
          ]
        }
      ],
      "source": [
        "print(metrics.classification_report(y_test, y_pred, digits=2))"
      ]
    },
    {
      "cell_type": "markdown",
      "metadata": {
        "id": "mVOxLDihFqnv"
      },
      "source": [
        "##**6.4 Via Extreme Gradient Boost (XGBoost) Classifier**"
      ]
    },
    {
      "cell_type": "markdown",
      "metadata": {
        "id": "gCxSbeCAE7T-"
      },
      "source": [
        "##**6.4.1 Model Accuracy**"
      ]
    },
    {
      "cell_type": "code",
      "execution_count": 30,
      "metadata": {
        "colab": {
          "base_uri": "https://localhost:8080/"
        },
        "id": "2y-Hz2r3B3AM",
        "outputId": "7e0c7f79-a270-4738-9d7d-8db64554dbd5"
      },
      "outputs": [
        {
          "output_type": "stream",
          "name": "stdout",
          "text": [
            "\n",
            "Accuracy :  68.33\n"
          ]
        }
      ],
      "source": [
        "from xgboost import XGBClassifier\n",
        "\n",
        "model = XGBClassifier()\n",
        "model.fit(X_train, y_train)\n",
        "y_pred = model.predict(X_test)\n",
        "a_xg = accuracy_score(y_test, y_pred)\n",
        "a_xg = round(a_xg*100,2)\n",
        "print('\\nAccuracy : ', a_xg)"
      ]
    },
    {
      "cell_type": "markdown",
      "metadata": {
        "id": "kAg3mhWiE_7n"
      },
      "source": [
        "##**6.4.2 Inter-class Accuracy**"
      ]
    },
    {
      "cell_type": "code",
      "execution_count": 31,
      "metadata": {
        "colab": {
          "base_uri": "https://localhost:8080/"
        },
        "id": "c7HGgzjKFRLd",
        "outputId": "24d36237-2f62-4885-ed70-725aa1aacf6e"
      },
      "outputs": [
        {
          "output_type": "execute_result",
          "data": {
            "text/plain": [
              "{'ExcessAir': 0.9535679374389052,\n",
              " 'Fouling': 0.9563782991202346,\n",
              " 'Lean': 0.9959677419354839,\n",
              " 'Nominal': 0.8932062561094819,\n",
              " 'Scaling': 0.8376099706744868}"
            ]
          },
          "metadata": {},
          "execution_count": 31
        }
      ],
      "source": [
        "cm_xg = confusion_matrix(y_test, y_pred)\n",
        "\n",
        "classes = ['Lean', 'Nominal' ,'ExcessAir', 'Fouling' ,'Scaling']\n",
        "\n",
        "# We will store the results in a dictionary for easy access later\n",
        "per_class_accuracies = {}\n",
        "\n",
        "# Calculate the accuracy for each one of our classes\n",
        "for idx, cls in enumerate(classes):\n",
        "    # True negatives are all the samples that are not our current GT class (not the current row) \n",
        "    # and were not predicted as the current class (not the current column)\n",
        "    true_negatives = np.sum(np.delete(np.delete(cm_dtree, idx, axis=0), idx, axis=1))\n",
        "    \n",
        "    # True positives are all the samples of our current GT class that were predicted as such\n",
        "    true_positives = cm_xg[idx, idx]\n",
        "    \n",
        "    # The accuracy for the current class is ratio between correct predictions to all predictions\n",
        "    per_class_accuracies[cls] = (true_positives + true_negatives) / np.sum(cm_dtree)\n",
        "\n",
        "per_class_accuracies"
      ]
    },
    {
      "cell_type": "markdown",
      "metadata": {
        "id": "5dLDrcx4FDio"
      },
      "source": [
        "##**6.4.3 Classification Report**"
      ]
    },
    {
      "cell_type": "code",
      "execution_count": 32,
      "metadata": {
        "colab": {
          "base_uri": "https://localhost:8080/"
        },
        "id": "3NtMm69bFW80",
        "outputId": "6831b751-2c0c-4389-a519-d8195cc86c0b"
      },
      "outputs": [
        {
          "output_type": "stream",
          "name": "stdout",
          "text": [
            "              precision    recall  f1-score   support\n",
            "\n",
            "   ExcessAir       0.57      0.99      0.73      2151\n",
            "     Fouling       0.68      0.73      0.70      2613\n",
            "        Lean       0.56      0.03      0.07       287\n",
            "     Nominal       0.91      0.40      0.55       526\n",
            "     Scaling       0.95      0.51      0.67      2607\n",
            "\n",
            "    accuracy                           0.68      8184\n",
            "   macro avg       0.73      0.53      0.54      8184\n",
            "weighted avg       0.75      0.68      0.66      8184\n",
            "\n"
          ]
        }
      ],
      "source": [
        "print(metrics.classification_report(y_test, y_pred, digits=2))"
      ]
    },
    {
      "cell_type": "markdown",
      "metadata": {
        "id": "h1xjwwXfGDsD"
      },
      "source": [
        "##**6.5 Via Standard Vector Machine (SVM) Classifier**"
      ]
    },
    {
      "cell_type": "markdown",
      "metadata": {
        "id": "FTD9Dfs_Fa0k"
      },
      "source": [
        "##**6.5.1 Model Accuracy**"
      ]
    },
    {
      "cell_type": "code",
      "execution_count": 33,
      "metadata": {
        "colab": {
          "base_uri": "https://localhost:8080/"
        },
        "id": "WtCMIS-GCWJm",
        "outputId": "3ce32848-b4b5-436d-bcc8-5a0079f0b0e5"
      },
      "outputs": [
        {
          "output_type": "stream",
          "name": "stdout",
          "text": [
            "Accuracy : 62.27\n"
          ]
        }
      ],
      "source": [
        "from sklearn.preprocessing import StandardScaler\n",
        "from sklearn.metrics import accuracy_score\n",
        "from sklearn.svm import SVC\n",
        "\n",
        "scaler = StandardScaler()\n",
        "X_train = scaler.fit_transform(X_train)\n",
        "X_test = scaler.transform(X_test)\n",
        "\n",
        "svc=SVC() \n",
        "svc.fit(X_train,y_train)\n",
        "y_pred=svc.predict(X_test)\n",
        "a_svm = accuracy_score(y_test, y_pred)\n",
        "a_svm = round(a_svm*100,2)\n",
        "print('Accuracy : {0:0.2f}'. format(a_svm))"
      ]
    },
    {
      "cell_type": "markdown",
      "metadata": {
        "id": "PwuvZtYeFgHD"
      },
      "source": [
        "##**6.5.2 Inter-class Accuracy**"
      ]
    },
    {
      "cell_type": "code",
      "execution_count": 34,
      "metadata": {
        "colab": {
          "base_uri": "https://localhost:8080/"
        },
        "id": "k8O2ivCXF1KR",
        "outputId": "55cae838-5fe7-45f0-cea3-e9a261a77093"
      },
      "outputs": [
        {
          "output_type": "execute_result",
          "data": {
            "text/plain": [
              "{'ExcessAir': 0.9523460410557185,\n",
              " 'Fouling': 0.9711632453567938,\n",
              " 'Lean': 0.9959677419354839,\n",
              " 'Nominal': 0.8157380254154448,\n",
              " 'Scaling': 0.8409090909090909}"
            ]
          },
          "metadata": {},
          "execution_count": 34
        }
      ],
      "source": [
        "cm_svm = confusion_matrix(y_test, y_pred)\n",
        "\n",
        "classes = ['Lean', 'Nominal' ,'ExcessAir', 'Fouling' ,'Scaling']\n",
        "\n",
        "# We will store the results in a dictionary for easy access later\n",
        "per_class_accuracies = {}\n",
        "\n",
        "# Calculate the accuracy for each one of our classes\n",
        "for idx, cls in enumerate(classes):\n",
        "    # True negatives are all the samples that are not our current GT class (not the current row) \n",
        "    # and were not predicted as the current class (not the current column)\n",
        "    true_negatives = np.sum(np.delete(np.delete(cm_dtree, idx, axis=0), idx, axis=1))\n",
        "    \n",
        "    # True positives are all the samples of our current GT class that were predicted as such\n",
        "    true_positives = cm_svm[idx, idx]\n",
        "    \n",
        "    # The accuracy for the current class is ratio between correct predictions to all predictions\n",
        "    per_class_accuracies[cls] = (true_positives + true_negatives) / np.sum(cm_dtree)\n",
        "\n",
        "per_class_accuracies"
      ]
    },
    {
      "cell_type": "markdown",
      "metadata": {
        "id": "ON1QAG84FlCi"
      },
      "source": [
        "##**6.5.3 Classification Report**"
      ]
    },
    {
      "cell_type": "code",
      "execution_count": 35,
      "metadata": {
        "colab": {
          "base_uri": "https://localhost:8080/"
        },
        "id": "VgYYPLHHF7QG",
        "outputId": "05bfcd3f-ae17-40c0-bd51-6ecd7206d0c6"
      },
      "outputs": [
        {
          "output_type": "stream",
          "name": "stdout",
          "text": [
            "              precision    recall  f1-score   support\n",
            "\n",
            "   ExcessAir       0.65      0.99      0.78      2151\n",
            "     Fouling       0.64      0.49      0.55      2613\n",
            "        Lean       0.00      0.00      0.00       287\n",
            "     Nominal       0.34      0.63      0.44       526\n",
            "     Scaling       0.72      0.52      0.60      2607\n",
            "\n",
            "    accuracy                           0.62      8184\n",
            "   macro avg       0.47      0.53      0.47      8184\n",
            "weighted avg       0.62      0.62      0.60      8184\n",
            "\n"
          ]
        },
        {
          "output_type": "stream",
          "name": "stderr",
          "text": [
            "/usr/local/lib/python3.7/dist-packages/sklearn/metrics/_classification.py:1248: UndefinedMetricWarning: Precision and F-score are ill-defined and being set to 0.0 in labels with no predicted samples. Use `zero_division` parameter to control this behavior.\n",
            "  _warn_prf(average, modifier, msg_start, len(result))\n",
            "/usr/local/lib/python3.7/dist-packages/sklearn/metrics/_classification.py:1248: UndefinedMetricWarning: Precision and F-score are ill-defined and being set to 0.0 in labels with no predicted samples. Use `zero_division` parameter to control this behavior.\n",
            "  _warn_prf(average, modifier, msg_start, len(result))\n",
            "/usr/local/lib/python3.7/dist-packages/sklearn/metrics/_classification.py:1248: UndefinedMetricWarning: Precision and F-score are ill-defined and being set to 0.0 in labels with no predicted samples. Use `zero_division` parameter to control this behavior.\n",
            "  _warn_prf(average, modifier, msg_start, len(result))\n"
          ]
        }
      ],
      "source": [
        "print(metrics.classification_report(y_test, y_pred, digits=2))"
      ]
    },
    {
      "cell_type": "markdown",
      "metadata": {
        "id": "5VgAsxzUHd6c"
      },
      "source": [
        "##**6.6 Via Auto Machine Learning**"
      ]
    },
    {
      "cell_type": "code",
      "execution_count": 36,
      "metadata": {
        "colab": {
          "base_uri": "https://localhost:8080/"
        },
        "id": "S2U1fEflIV3W",
        "outputId": "45f5abc7-9df7-44f8-c280-25e1150949af"
      },
      "outputs": [
        {
          "output_type": "stream",
          "name": "stdout",
          "text": [
            "Reading package lists... Done\n",
            "Building dependency tree       \n",
            "Reading state information... Done\n",
            "swig is already the newest version (3.0.12-1).\n",
            "0 upgraded, 0 newly installed, 0 to remove and 37 not upgraded.\n",
            "Requirement already satisfied: Cython in /usr/local/lib/python3.7/dist-packages (0.29.24)\n",
            "Requirement already satisfied: numpy in /usr/local/lib/python3.7/dist-packages (1.19.5)\n",
            "Requirement already satisfied: auto-sklearn in /usr/local/lib/python3.7/dist-packages (0.14.2)\n",
            "Requirement already satisfied: liac-arff in /usr/local/lib/python3.7/dist-packages (from auto-sklearn) (2.5.0)\n",
            "Requirement already satisfied: typing-extensions in /usr/local/lib/python3.7/dist-packages (from auto-sklearn) (3.10.0.2)\n",
            "Requirement already satisfied: threadpoolctl in /usr/local/lib/python3.7/dist-packages (from auto-sklearn) (3.0.0)\n",
            "Requirement already satisfied: pynisher>=0.6.3 in /usr/local/lib/python3.7/dist-packages (from auto-sklearn) (0.6.4)\n",
            "Requirement already satisfied: numpy>=1.9.0 in /usr/local/lib/python3.7/dist-packages (from auto-sklearn) (1.19.5)\n",
            "Requirement already satisfied: setuptools in /usr/local/lib/python3.7/dist-packages (from auto-sklearn) (57.4.0)\n",
            "Requirement already satisfied: dask<2021.07 in /usr/local/lib/python3.7/dist-packages (from auto-sklearn) (2021.6.2)\n",
            "Requirement already satisfied: scikit-learn<0.25.0,>=0.24.0 in /usr/local/lib/python3.7/dist-packages (from auto-sklearn) (0.24.2)\n",
            "Requirement already satisfied: distributed<2021.07,>=2.2.0 in /usr/local/lib/python3.7/dist-packages (from auto-sklearn) (2021.6.2)\n",
            "Requirement already satisfied: smac>=0.14 in /usr/local/lib/python3.7/dist-packages (from auto-sklearn) (1.1.1)\n",
            "Requirement already satisfied: pyyaml in /usr/local/lib/python3.7/dist-packages (from auto-sklearn) (3.13)\n",
            "Requirement already satisfied: scipy>=1.7.0 in /usr/local/lib/python3.7/dist-packages (from auto-sklearn) (1.7.0)\n",
            "Requirement already satisfied: ConfigSpace<0.5,>=0.4.14 in /usr/local/lib/python3.7/dist-packages (from auto-sklearn) (0.4.20)\n",
            "Requirement already satisfied: joblib in /usr/local/lib/python3.7/dist-packages (from auto-sklearn) (1.1.0)\n",
            "Requirement already satisfied: pandas>=1.0 in /usr/local/lib/python3.7/dist-packages (from auto-sklearn) (1.1.5)\n",
            "Requirement already satisfied: pyrfr<0.9,>=0.8.1 in /usr/local/lib/python3.7/dist-packages (from auto-sklearn) (0.8.2)\n",
            "Requirement already satisfied: cython in /usr/local/lib/python3.7/dist-packages (from ConfigSpace<0.5,>=0.4.14->auto-sklearn) (0.29.24)\n",
            "Requirement already satisfied: pyparsing in /usr/local/lib/python3.7/dist-packages (from ConfigSpace<0.5,>=0.4.14->auto-sklearn) (3.0.6)\n",
            "Requirement already satisfied: partd>=0.3.10 in /usr/local/lib/python3.7/dist-packages (from dask<2021.07->auto-sklearn) (1.2.0)\n",
            "Requirement already satisfied: toolz>=0.8.2 in /usr/local/lib/python3.7/dist-packages (from dask<2021.07->auto-sklearn) (0.11.2)\n",
            "Requirement already satisfied: cloudpickle>=1.1.1 in /usr/local/lib/python3.7/dist-packages (from dask<2021.07->auto-sklearn) (2.0.0)\n",
            "Requirement already satisfied: fsspec>=0.6.0 in /usr/local/lib/python3.7/dist-packages (from dask<2021.07->auto-sklearn) (2021.11.1)\n",
            "Requirement already satisfied: tblib>=1.6.0 in /usr/local/lib/python3.7/dist-packages (from distributed<2021.07,>=2.2.0->auto-sklearn) (1.7.0)\n",
            "Requirement already satisfied: sortedcontainers!=2.0.0,!=2.0.1 in /usr/local/lib/python3.7/dist-packages (from distributed<2021.07,>=2.2.0->auto-sklearn) (2.4.0)\n",
            "Requirement already satisfied: zict>=0.1.3 in /usr/local/lib/python3.7/dist-packages (from distributed<2021.07,>=2.2.0->auto-sklearn) (2.0.0)\n",
            "Requirement already satisfied: psutil>=5.0 in /usr/local/lib/python3.7/dist-packages (from distributed<2021.07,>=2.2.0->auto-sklearn) (5.4.8)\n",
            "Requirement already satisfied: tornado>=5 in /usr/local/lib/python3.7/dist-packages (from distributed<2021.07,>=2.2.0->auto-sklearn) (5.1.1)\n",
            "Requirement already satisfied: click>=6.6 in /usr/local/lib/python3.7/dist-packages (from distributed<2021.07,>=2.2.0->auto-sklearn) (7.1.2)\n",
            "Requirement already satisfied: msgpack>=0.6.0 in /usr/local/lib/python3.7/dist-packages (from distributed<2021.07,>=2.2.0->auto-sklearn) (1.0.3)\n",
            "Requirement already satisfied: python-dateutil>=2.7.3 in /usr/local/lib/python3.7/dist-packages (from pandas>=1.0->auto-sklearn) (2.8.2)\n",
            "Requirement already satisfied: pytz>=2017.2 in /usr/local/lib/python3.7/dist-packages (from pandas>=1.0->auto-sklearn) (2018.9)\n",
            "Requirement already satisfied: locket in /usr/local/lib/python3.7/dist-packages (from partd>=0.3.10->dask<2021.07->auto-sklearn) (0.2.1)\n",
            "Requirement already satisfied: six>=1.5 in /usr/local/lib/python3.7/dist-packages (from python-dateutil>=2.7.3->pandas>=1.0->auto-sklearn) (1.15.0)\n",
            "Requirement already satisfied: emcee>=3.0.0 in /usr/local/lib/python3.7/dist-packages (from smac>=0.14->auto-sklearn) (3.1.1)\n",
            "Requirement already satisfied: heapdict in /usr/local/lib/python3.7/dist-packages (from zict>=0.1.3->distributed<2021.07,>=2.2.0->auto-sklearn) (1.0.1)\n"
          ]
        }
      ],
      "source": [
        "!apt-get install swig -y\n",
        "!pip install Cython numpy\n",
        "!pip install auto-sklearn"
      ]
    },
    {
      "cell_type": "code",
      "execution_count": 37,
      "metadata": {
        "colab": {
          "base_uri": "https://localhost:8080/"
        },
        "id": "zLmCm7onk5aA",
        "outputId": "69e0a1a5-bcde-41e1-b4a6-3ab6bbbc277a"
      },
      "outputs": [
        {
          "output_type": "stream",
          "name": "stdout",
          "text": [
            "1.7.0\n"
          ]
        }
      ],
      "source": [
        "import scipy\n",
        "print(scipy.__version__)"
      ]
    },
    {
      "cell_type": "code",
      "execution_count": 38,
      "metadata": {
        "colab": {
          "base_uri": "https://localhost:8080/"
        },
        "id": "RYhvNOppIkAq",
        "outputId": "859299d3-5fe4-468e-deb3-57aa3f2a94d3"
      },
      "outputs": [
        {
          "output_type": "stream",
          "name": "stdout",
          "text": [
            "Requirement already satisfied: scipy==1.7.0 in /usr/local/lib/python3.7/dist-packages (1.7.0)\n",
            "Requirement already satisfied: numpy<1.23.0,>=1.16.5 in /usr/local/lib/python3.7/dist-packages (from scipy==1.7.0) (1.19.5)\n"
          ]
        }
      ],
      "source": [
        "pip install scipy==1.7.0"
      ]
    },
    {
      "cell_type": "code",
      "execution_count": 39,
      "metadata": {
        "colab": {
          "base_uri": "https://localhost:8080/"
        },
        "id": "er-062wZ2Zfi",
        "outputId": "7fbee810-4408-4d72-a280-726fcdb3a179"
      },
      "outputs": [
        {
          "output_type": "stream",
          "name": "stdout",
          "text": [
            "1.7.0\n"
          ]
        }
      ],
      "source": [
        "import scipy\n",
        "print(scipy.__version__)"
      ]
    },
    {
      "cell_type": "code",
      "execution_count": 40,
      "metadata": {
        "id": "vwtpZpjUzNg1"
      },
      "outputs": [],
      "source": [
        "import sklearn\n",
        "import pandas as pd\n",
        "import autosklearn.classification as classifier\n",
        "from sklearn.model_selection import train_test_split "
      ]
    },
    {
      "cell_type": "markdown",
      "metadata": {
        "id": "fi_KJWfbI6YC"
      },
      "source": [
        "##**6.6.1 Model Accuracy**"
      ]
    },
    {
      "cell_type": "code",
      "execution_count": 41,
      "metadata": {
        "colab": {
          "base_uri": "https://localhost:8080/"
        },
        "id": "Vn2kxLN5Hdcp",
        "outputId": "ac5250a9-cdb2-4ecf-b47a-bccb41a23b24"
      },
      "outputs": [
        {
          "output_type": "stream",
          "name": "stdout",
          "text": [
            "Accuracy:  96.21\n"
          ]
        }
      ],
      "source": [
        "automlclassifier = classifier.AutoSklearnClassifier(time_left_for_this_task=3600, per_run_time_limit=90)\n",
        "automlclassifier.fit(X_train,y_train)\n",
        "\n",
        "y_pred=automlclassifier.predict(X_test)\n",
        "\n",
        "a_ml = accuracy_score(y_test, y_pred)\n",
        "a_ml = round(a_ml*100,2)\n",
        "print(\"Accuracy: \", a_ml)\n",
        "\n",
        "# automlclassifier.show_models()"
      ]
    },
    {
      "cell_type": "code",
      "execution_count": 42,
      "metadata": {
        "colab": {
          "base_uri": "https://localhost:8080/",
          "height": 105
        },
        "id": "HSX1dlp8y0_D",
        "outputId": "47da3db0-2f1f-4fc9-9ea2-551ae07c5a3e"
      },
      "outputs": [
        {
          "output_type": "execute_result",
          "data": {
            "application/vnd.google.colaboratory.intrinsic+json": {
              "type": "string"
            },
            "text/plain": [
              "\"[(0.300000, SimpleClassificationPipeline({'balancing:strategy': 'none', 'classifier:__choice__': 'adaboost', 'data_preprocessor:__choice__': 'feature_type', 'feature_preprocessor:__choice__': 'extra_trees_preproc_for_classification', 'classifier:adaboost:algorithm': 'SAMME', 'classifier:adaboost:learning_rate': 0.2488118679557668, 'classifier:adaboost:max_depth': 2, 'classifier:adaboost:n_estimators': 375, 'data_preprocessor:feature_type:categorical_transformer:categorical_encoding:__choice__': 'encoding', 'data_preprocessor:feature_type:categorical_transformer:category_coalescence:__choice__': 'minority_coalescer', 'data_preprocessor:feature_type:numerical_transformer:imputation:strategy': 'mean', 'data_preprocessor:feature_type:numerical_transformer:rescaling:__choice__': 'robust_scaler', 'feature_preprocessor:extra_trees_preproc_for_classification:bootstrap': 'True', 'feature_preprocessor:extra_trees_preproc_for_classification:criterion': 'gini', 'feature_preprocessor:extra_trees_preproc_for_classification:max_depth': 'None', 'feature_preprocessor:extra_trees_preproc_for_classification:max_features': 0.7673948270285893, 'feature_preprocessor:extra_trees_preproc_for_classification:max_leaf_nodes': 'None', 'feature_preprocessor:extra_trees_preproc_for_classification:min_impurity_decrease': 0.0, 'feature_preprocessor:extra_trees_preproc_for_classification:min_samples_leaf': 14, 'feature_preprocessor:extra_trees_preproc_for_classification:min_samples_split': 20, 'feature_preprocessor:extra_trees_preproc_for_classification:min_weight_fraction_leaf': 0.0, 'feature_preprocessor:extra_trees_preproc_for_classification:n_estimators': 100, 'data_preprocessor:feature_type:categorical_transformer:category_coalescence:minority_coalescer:minimum_fraction': 0.021781107665033612, 'data_preprocessor:feature_type:numerical_transformer:rescaling:robust_scaler:q_max': 0.864576951391157, 'data_preprocessor:feature_type:numerical_transformer:rescaling:robust_scaler:q_min': 0.04189164525170969},\\ndataset_properties={\\n  'task': 2,\\n  'sparse': False,\\n  'multilabel': False,\\n  'multiclass': True,\\n  'target_type': 'classification',\\n  'signed': False})),\\n(0.300000, SimpleClassificationPipeline({'balancing:strategy': 'weighting', 'classifier:__choice__': 'adaboost', 'data_preprocessor:__choice__': 'feature_type', 'feature_preprocessor:__choice__': 'pca', 'classifier:adaboost:algorithm': 'SAMME', 'classifier:adaboost:learning_rate': 0.5466894452184573, 'classifier:adaboost:max_depth': 6, 'classifier:adaboost:n_estimators': 396, 'data_preprocessor:feature_type:categorical_transformer:categorical_encoding:__choice__': 'no_encoding', 'data_preprocessor:feature_type:categorical_transformer:category_coalescence:__choice__': 'minority_coalescer', 'data_preprocessor:feature_type:numerical_transformer:imputation:strategy': 'median', 'data_preprocessor:feature_type:numerical_transformer:rescaling:__choice__': 'minmax', 'feature_preprocessor:pca:keep_variance': 0.7479846385352894, 'feature_preprocessor:pca:whiten': 'False', 'data_preprocessor:feature_type:categorical_transformer:category_coalescence:minority_coalescer:minimum_fraction': 0.02261593918760676},\\ndataset_properties={\\n  'task': 2,\\n  'sparse': False,\\n  'multilabel': False,\\n  'multiclass': True,\\n  'target_type': 'classification',\\n  'signed': False})),\\n(0.100000, SimpleClassificationPipeline({'balancing:strategy': 'weighting', 'classifier:__choice__': 'adaboost', 'data_preprocessor:__choice__': 'feature_type', 'feature_preprocessor:__choice__': 'liblinear_svc_preprocessor', 'classifier:adaboost:algorithm': 'SAMME', 'classifier:adaboost:learning_rate': 0.037410563205443614, 'classifier:adaboost:max_depth': 5, 'classifier:adaboost:n_estimators': 494, 'data_preprocessor:feature_type:categorical_transformer:categorical_encoding:__choice__': 'encoding', 'data_preprocessor:feature_type:categorical_transformer:category_coalescence:__choice__': 'minority_coalescer', 'data_preprocessor:feature_type:numerical_transformer:imputation:strategy': 'most_frequent', 'data_preprocessor:feature_type:numerical_transformer:rescaling:__choice__': 'none', 'feature_preprocessor:liblinear_svc_preprocessor:C': 33.26648426028845, 'feature_preprocessor:liblinear_svc_preprocessor:dual': 'False', 'feature_preprocessor:liblinear_svc_preprocessor:fit_intercept': 'True', 'feature_preprocessor:liblinear_svc_preprocessor:intercept_scaling': 1, 'feature_preprocessor:liblinear_svc_preprocessor:loss': 'squared_hinge', 'feature_preprocessor:liblinear_svc_preprocessor:multi_class': 'ovr', 'feature_preprocessor:liblinear_svc_preprocessor:penalty': 'l1', 'feature_preprocessor:liblinear_svc_preprocessor:tol': 6.382727897126597e-05, 'data_preprocessor:feature_type:categorical_transformer:category_coalescence:minority_coalescer:minimum_fraction': 0.04050582958922856},\\ndataset_properties={\\n  'task': 2,\\n  'sparse': False,\\n  'multilabel': False,\\n  'multiclass': True,\\n  'target_type': 'classification',\\n  'signed': False})),\\n(0.040000, SimpleClassificationPipeline({'balancing:strategy': 'none', 'classifier:__choice__': 'random_forest', 'data_preprocessor:__choice__': 'feature_type', 'feature_preprocessor:__choice__': 'polynomial', 'classifier:random_forest:bootstrap': 'True', 'classifier:random_forest:criterion': 'entropy', 'classifier:random_forest:max_depth': 'None', 'classifier:random_forest:max_features': 0.9212904662395499, 'classifier:random_forest:max_leaf_nodes': 'None', 'classifier:random_forest:min_impurity_decrease': 0.0, 'classifier:random_forest:min_samples_leaf': 4, 'classifier:random_forest:min_samples_split': 3, 'classifier:random_forest:min_weight_fraction_leaf': 0.0, 'data_preprocessor:feature_type:categorical_transformer:categorical_encoding:__choice__': 'encoding', 'data_preprocessor:feature_type:categorical_transformer:category_coalescence:__choice__': 'minority_coalescer', 'data_preprocessor:feature_type:numerical_transformer:imputation:strategy': 'most_frequent', 'data_preprocessor:feature_type:numerical_transformer:rescaling:__choice__': 'minmax', 'feature_preprocessor:polynomial:degree': 2, 'feature_preprocessor:polynomial:include_bias': 'True', 'feature_preprocessor:polynomial:interaction_only': 'True', 'data_preprocessor:feature_type:categorical_transformer:category_coalescence:minority_coalescer:minimum_fraction': 0.14361166245871673},\\ndataset_properties={\\n  'task': 2,\\n  'sparse': False,\\n  'multilabel': False,\\n  'multiclass': True,\\n  'target_type': 'classification',\\n  'signed': False})),\\n(0.040000, SimpleClassificationPipeline({'balancing:strategy': 'none', 'classifier:__choice__': 'random_forest', 'data_preprocessor:__choice__': 'feature_type', 'feature_preprocessor:__choice__': 'polynomial', 'classifier:random_forest:bootstrap': 'True', 'classifier:random_forest:criterion': 'entropy', 'classifier:random_forest:max_depth': 'None', 'classifier:random_forest:max_features': 0.9361600425014094, 'classifier:random_forest:max_leaf_nodes': 'None', 'classifier:random_forest:min_impurity_decrease': 0.0, 'classifier:random_forest:min_samples_leaf': 4, 'classifier:random_forest:min_samples_split': 3, 'classifier:random_forest:min_weight_fraction_leaf': 0.0, 'data_preprocessor:feature_type:categorical_transformer:categorical_encoding:__choice__': 'no_encoding', 'data_preprocessor:feature_type:categorical_transformer:category_coalescence:__choice__': 'minority_coalescer', 'data_preprocessor:feature_type:numerical_transformer:imputation:strategy': 'median', 'data_preprocessor:feature_type:numerical_transformer:rescaling:__choice__': 'minmax', 'feature_preprocessor:polynomial:degree': 2, 'feature_preprocessor:polynomial:include_bias': 'True', 'feature_preprocessor:polynomial:interaction_only': 'True', 'data_preprocessor:feature_type:categorical_transformer:category_coalescence:minority_coalescer:minimum_fraction': 0.1441431189324576},\\ndataset_properties={\\n  'task': 2,\\n  'sparse': False,\\n  'multilabel': False,\\n  'multiclass': True,\\n  'target_type': 'classification',\\n  'signed': False})),\\n(0.040000, SimpleClassificationPipeline({'balancing:strategy': 'none', 'classifier:__choice__': 'random_forest', 'data_preprocessor:__choice__': 'feature_type', 'feature_preprocessor:__choice__': 'pca', 'classifier:random_forest:bootstrap': 'True', 'classifier:random_forest:criterion': 'entropy', 'classifier:random_forest:max_depth': 'None', 'classifier:random_forest:max_features': 0.957378563462267, 'classifier:random_forest:max_leaf_nodes': 'None', 'classifier:random_forest:min_impurity_decrease': 0.0, 'classifier:random_forest:min_samples_leaf': 8, 'classifier:random_forest:min_samples_split': 9, 'classifier:random_forest:min_weight_fraction_leaf': 0.0, 'data_preprocessor:feature_type:categorical_transformer:categorical_encoding:__choice__': 'no_encoding', 'data_preprocessor:feature_type:categorical_transformer:category_coalescence:__choice__': 'minority_coalescer', 'data_preprocessor:feature_type:numerical_transformer:imputation:strategy': 'mean', 'data_preprocessor:feature_type:numerical_transformer:rescaling:__choice__': 'quantile_transformer', 'feature_preprocessor:pca:keep_variance': 0.9999, 'feature_preprocessor:pca:whiten': 'False', 'data_preprocessor:feature_type:categorical_transformer:category_coalescence:minority_coalescer:minimum_fraction': 0.163904809045865, 'data_preprocessor:feature_type:numerical_transformer:rescaling:quantile_transformer:n_quantiles': 1492, 'data_preprocessor:feature_type:numerical_transformer:rescaling:quantile_transformer:output_distribution': 'uniform'},\\ndataset_properties={\\n  'task': 2,\\n  'sparse': False,\\n  'multilabel': False,\\n  'multiclass': True,\\n  'target_type': 'classification',\\n  'signed': False})),\\n(0.040000, SimpleClassificationPipeline({'balancing:strategy': 'none', 'classifier:__choice__': 'adaboost', 'data_preprocessor:__choice__': 'feature_type', 'feature_preprocessor:__choice__': 'extra_trees_preproc_for_classification', 'classifier:adaboost:algorithm': 'SAMME', 'classifier:adaboost:learning_rate': 0.04431151176424995, 'classifier:adaboost:max_depth': 8, 'classifier:adaboost:n_estimators': 182, 'data_preprocessor:feature_type:categorical_transformer:categorical_encoding:__choice__': 'encoding', 'data_preprocessor:feature_type:categorical_transformer:category_coalescence:__choice__': 'no_coalescense', 'data_preprocessor:feature_type:numerical_transformer:imputation:strategy': 'median', 'data_preprocessor:feature_type:numerical_transformer:rescaling:__choice__': 'normalize', 'feature_preprocessor:extra_trees_preproc_for_classification:bootstrap': 'False', 'feature_preprocessor:extra_trees_preproc_for_classification:criterion': 'entropy', 'feature_preprocessor:extra_trees_preproc_for_classification:max_depth': 'None', 'feature_preprocessor:extra_trees_preproc_for_classification:max_features': 0.8118707180466225, 'feature_preprocessor:extra_trees_preproc_for_classification:max_leaf_nodes': 'None', 'feature_preprocessor:extra_trees_preproc_for_classification:min_impurity_decrease': 0.0, 'feature_preprocessor:extra_trees_preproc_for_classification:min_samples_leaf': 14, 'feature_preprocessor:extra_trees_preproc_for_classification:min_samples_split': 8, 'feature_preprocessor:extra_trees_preproc_for_classification:min_weight_fraction_leaf': 0.0, 'feature_preprocessor:extra_trees_preproc_for_classification:n_estimators': 100},\\ndataset_properties={\\n  'task': 2,\\n  'sparse': False,\\n  'multilabel': False,\\n  'multiclass': True,\\n  'target_type': 'classification',\\n  'signed': False})),\\n(0.040000, SimpleClassificationPipeline({'balancing:strategy': 'none', 'classifier:__choice__': 'liblinear_svc', 'data_preprocessor:__choice__': 'feature_type', 'feature_preprocessor:__choice__': 'polynomial', 'classifier:liblinear_svc:C': 9.197152610256415, 'classifier:liblinear_svc:dual': 'False', 'classifier:liblinear_svc:fit_intercept': 'True', 'classifier:liblinear_svc:intercept_scaling': 1, 'classifier:liblinear_svc:loss': 'squared_hinge', 'classifier:liblinear_svc:multi_class': 'ovr', 'classifier:liblinear_svc:penalty': 'l2', 'classifier:liblinear_svc:tol': 0.037528538680558714, 'data_preprocessor:feature_type:categorical_transformer:categorical_encoding:__choice__': 'one_hot_encoding', 'data_preprocessor:feature_type:categorical_transformer:category_coalescence:__choice__': 'minority_coalescer', 'data_preprocessor:feature_type:numerical_transformer:imputation:strategy': 'mean', 'data_preprocessor:feature_type:numerical_transformer:rescaling:__choice__': 'quantile_transformer', 'feature_preprocessor:polynomial:degree': 3, 'feature_preprocessor:polynomial:include_bias': 'True', 'feature_preprocessor:polynomial:interaction_only': 'False', 'data_preprocessor:feature_type:categorical_transformer:category_coalescence:minority_coalescer:minimum_fraction': 0.09858623054908597, 'data_preprocessor:feature_type:numerical_transformer:rescaling:quantile_transformer:n_quantiles': 1968, 'data_preprocessor:feature_type:numerical_transformer:rescaling:quantile_transformer:output_distribution': 'normal'},\\ndataset_properties={\\n  'task': 2,\\n  'sparse': False,\\n  'multilabel': False,\\n  'multiclass': True,\\n  'target_type': 'classification',\\n  'signed': False})),\\n(0.040000, SimpleClassificationPipeline({'balancing:strategy': 'weighting', 'classifier:__choice__': 'sgd', 'data_preprocessor:__choice__': 'feature_type', 'feature_preprocessor:__choice__': 'no_preprocessing', 'classifier:sgd:alpha': 3.791604858957042e-07, 'classifier:sgd:average': 'False', 'classifier:sgd:fit_intercept': 'True', 'classifier:sgd:learning_rate': 'invscaling', 'classifier:sgd:loss': 'squared_hinge', 'classifier:sgd:penalty': 'l2', 'classifier:sgd:tol': 0.0018571013580780203, 'data_preprocessor:feature_type:categorical_transformer:categorical_encoding:__choice__': 'encoding', 'data_preprocessor:feature_type:categorical_transformer:category_coalescence:__choice__': 'minority_coalescer', 'data_preprocessor:feature_type:numerical_transformer:imputation:strategy': 'most_frequent', 'data_preprocessor:feature_type:numerical_transformer:rescaling:__choice__': 'normalize', 'classifier:sgd:eta0': 8.790413138287203e-07, 'classifier:sgd:power_t': 0.058011893137644883, 'data_preprocessor:feature_type:categorical_transformer:category_coalescence:minority_coalescer:minimum_fraction': 0.0003758390540340326},\\ndataset_properties={\\n  'task': 2,\\n  'sparse': False,\\n  'multilabel': False,\\n  'multiclass': True,\\n  'target_type': 'classification',\\n  'signed': False})),\\n(0.020000, SimpleClassificationPipeline({'balancing:strategy': 'none', 'classifier:__choice__': 'liblinear_svc', 'data_preprocessor:__choice__': 'feature_type', 'feature_preprocessor:__choice__': 'polynomial', 'classifier:liblinear_svc:C': 1.7436459892311962, 'classifier:liblinear_svc:dual': 'False', 'classifier:liblinear_svc:fit_intercept': 'True', 'classifier:liblinear_svc:intercept_scaling': 1, 'classifier:liblinear_svc:loss': 'squared_hinge', 'classifier:liblinear_svc:multi_class': 'ovr', 'classifier:liblinear_svc:penalty': 'l2', 'classifier:liblinear_svc:tol': 7.923855874490447e-05, 'data_preprocessor:feature_type:categorical_transformer:categorical_encoding:__choice__': 'no_encoding', 'data_preprocessor:feature_type:categorical_transformer:category_coalescence:__choice__': 'no_coalescense', 'data_preprocessor:feature_type:numerical_transformer:imputation:strategy': 'median', 'data_preprocessor:feature_type:numerical_transformer:rescaling:__choice__': 'quantile_transformer', 'feature_preprocessor:polynomial:degree': 3, 'feature_preprocessor:polynomial:include_bias': 'True', 'feature_preprocessor:polynomial:interaction_only': 'True', 'data_preprocessor:feature_type:numerical_transformer:rescaling:quantile_transformer:n_quantiles': 1675, 'data_preprocessor:feature_type:numerical_transformer:rescaling:quantile_transformer:output_distribution': 'normal'},\\ndataset_properties={\\n  'task': 2,\\n  'sparse': False,\\n  'multilabel': False,\\n  'multiclass': True,\\n  'target_type': 'classification',\\n  'signed': False})),\\n(0.020000, SimpleClassificationPipeline({'balancing:strategy': 'weighting', 'classifier:__choice__': 'lda', 'data_preprocessor:__choice__': 'feature_type', 'feature_preprocessor:__choice__': 'liblinear_svc_preprocessor', 'classifier:lda:shrinkage': 'manual', 'classifier:lda:tol': 0.0007215763283486354, 'data_preprocessor:feature_type:categorical_transformer:categorical_encoding:__choice__': 'no_encoding', 'data_preprocessor:feature_type:categorical_transformer:category_coalescence:__choice__': 'no_coalescense', 'data_preprocessor:feature_type:numerical_transformer:imputation:strategy': 'median', 'data_preprocessor:feature_type:numerical_transformer:rescaling:__choice__': 'quantile_transformer', 'feature_preprocessor:liblinear_svc_preprocessor:C': 2.160480406584884, 'feature_preprocessor:liblinear_svc_preprocessor:dual': 'False', 'feature_preprocessor:liblinear_svc_preprocessor:fit_intercept': 'True', 'feature_preprocessor:liblinear_svc_preprocessor:intercept_scaling': 1, 'feature_preprocessor:liblinear_svc_preprocessor:loss': 'squared_hinge', 'feature_preprocessor:liblinear_svc_preprocessor:multi_class': 'ovr', 'feature_preprocessor:liblinear_svc_preprocessor:penalty': 'l1', 'feature_preprocessor:liblinear_svc_preprocessor:tol': 0.010943990816220809, 'classifier:lda:shrinkage_factor': 0.3306135150299744, 'data_preprocessor:feature_type:numerical_transformer:rescaling:quantile_transformer:n_quantiles': 851, 'data_preprocessor:feature_type:numerical_transformer:rescaling:quantile_transformer:output_distribution': 'uniform'},\\ndataset_properties={\\n  'task': 2,\\n  'sparse': False,\\n  'multilabel': False,\\n  'multiclass': True,\\n  'target_type': 'classification',\\n  'signed': False})),\\n(0.020000, SimpleClassificationPipeline({'balancing:strategy': 'none', 'classifier:__choice__': 'qda', 'data_preprocessor:__choice__': 'feature_type', 'feature_preprocessor:__choice__': 'polynomial', 'classifier:qda:reg_param': 0.7358328028192839, 'data_preprocessor:feature_type:categorical_transformer:categorical_encoding:__choice__': 'no_encoding', 'data_preprocessor:feature_type:categorical_transformer:category_coalescence:__choice__': 'minority_coalescer', 'data_preprocessor:feature_type:numerical_transformer:imputation:strategy': 'most_frequent', 'data_preprocessor:feature_type:numerical_transformer:rescaling:__choice__': 'quantile_transformer', 'feature_preprocessor:polynomial:degree': 3, 'feature_preprocessor:polynomial:include_bias': 'False', 'feature_preprocessor:polynomial:interaction_only': 'False', 'data_preprocessor:feature_type:categorical_transformer:category_coalescence:minority_coalescer:minimum_fraction': 0.12025066732599979, 'data_preprocessor:feature_type:numerical_transformer:rescaling:quantile_transformer:n_quantiles': 1670, 'data_preprocessor:feature_type:numerical_transformer:rescaling:quantile_transformer:output_distribution': 'normal'},\\ndataset_properties={\\n  'task': 2,\\n  'sparse': False,\\n  'multilabel': False,\\n  'multiclass': True,\\n  'target_type': 'classification',\\n  'signed': False})),\\n]\""
            ]
          },
          "metadata": {},
          "execution_count": 42
        }
      ],
      "source": [
        "automlclassifier.show_models()"
      ]
    },
    {
      "cell_type": "code",
      "execution_count": 43,
      "metadata": {
        "colab": {
          "base_uri": "https://localhost:8080/",
          "height": 607
        },
        "id": "-Qv3tIB5HNzn",
        "outputId": "cd4c73c3-892d-493e-dfae-1356be0168b1"
      },
      "outputs": [
        {
          "output_type": "display_data",
          "data": {
            "image/png": "[encoded data removed]",
            "text/plain": [
              "<Figure size 1080x720 with 2 Axes>"
            ]
          },
          "metadata": {
            "needs_background": "light"
          }
        }
      ],
      "source": [
        "cm_dtree = confusion_matrix(y_test, y_pred)\n",
        "\n",
        "cmn = cm_dtree.astype('float') / cm_dtree.sum(axis=1)[:, np.newaxis]\n",
        "\n",
        "x_axis_labels = ['Lean' ,'Nominal', 'ExcessAir' ,'Fouling' ,'Scaling'] # labels for x-axis\n",
        "y_axis_labels = ['Lean' ,'Nominal', 'ExcessAir' ,'Fouling' ,'Scaling'] # labels for y-axis\n",
        "\n",
        "plt.figure(figsize=(15,10))\n",
        "plt.title(\"Decision Tree Classifier Confusion Matrix\")\n",
        "sns.heatmap(cmn,annot=True,cmap=\"Reds\",cbar=True, annot_kws={\"size\": 10}, xticklabels=x_axis_labels, yticklabels=y_axis_labels)\n",
        "plt.show()"
      ]
    },
    {
      "cell_type": "markdown",
      "metadata": {
        "id": "Kvy_AybDI_Rn"
      },
      "source": [
        "##**6.6.2 Inter-class Accuracy**"
      ]
    },
    {
      "cell_type": "code",
      "execution_count": 44,
      "metadata": {
        "colab": {
          "base_uri": "https://localhost:8080/"
        },
        "id": "OEGn3FewJQon",
        "outputId": "dbe4af64-f708-45ee-a485-ff73e8d4970a"
      },
      "outputs": [
        {
          "output_type": "execute_result",
          "data": {
            "text/plain": [
              "{'ExcessAir': 0.9771505376344086,\n",
              " 'Fouling': 0.9912023460410557,\n",
              " 'Lean': 0.9968230694037146,\n",
              " 'Nominal': 0.9709188660801564,\n",
              " 'Scaling': 0.988147605083089}"
            ]
          },
          "metadata": {},
          "execution_count": 44
        }
      ],
      "source": [
        "cm_ml = confusion_matrix(y_test, y_pred)\n",
        "\n",
        "classes = ['Lean', 'Nominal' ,'ExcessAir', 'Fouling' ,'Scaling']\n",
        "\n",
        "# We will store the results in a dictionary for easy access later\n",
        "per_class_accuracies = {}\n",
        "\n",
        "# Calculate the accuracy for each one of our classes\n",
        "for idx, cls in enumerate(classes):\n",
        "    # True negatives are all the samples that are not our current GT class (not the current row) \n",
        "    # and were not predicted as the current class (not the current column)\n",
        "    true_negatives = np.sum(np.delete(np.delete(cm_dtree, idx, axis=0), idx, axis=1))\n",
        "    \n",
        "    # True positives are all the samples of our current GT class that were predicted as such\n",
        "    true_positives = cm_ml[idx, idx]\n",
        "    \n",
        "    # The accuracy for the current class is ratio between correct predictions to all predictions\n",
        "    per_class_accuracies[cls] = (true_positives + true_negatives) / np.sum(cm_dtree)\n",
        "\n",
        "per_class_accuracies"
      ]
    },
    {
      "cell_type": "markdown",
      "metadata": {
        "id": "2GjrEuOHJGmb"
      },
      "source": [
        "##**6.6.3 Classification Report**"
      ]
    },
    {
      "cell_type": "code",
      "execution_count": 45,
      "metadata": {
        "colab": {
          "base_uri": "https://localhost:8080/"
        },
        "id": "SzTtdZpZJMqt",
        "outputId": "605dc21e-9998-449f-ef31-0a03a6879fbb"
      },
      "outputs": [
        {
          "output_type": "stream",
          "name": "stdout",
          "text": [
            "              precision    recall  f1-score   support\n",
            "\n",
            "   ExcessAir       0.99      1.00      0.99      2151\n",
            "     Fouling       0.94      0.97      0.95      2613\n",
            "        Lean       0.71      0.59      0.64       287\n",
            "     Nominal       0.93      0.93      0.93       526\n",
            "     Scaling       0.98      0.98      0.98      2607\n",
            "\n",
            "    accuracy                           0.96      8184\n",
            "   macro avg       0.91      0.89      0.90      8184\n",
            "weighted avg       0.96      0.96      0.96      8184\n",
            "\n"
          ]
        }
      ],
      "source": [
        "print(metrics.classification_report(y_test, y_pred, digits=2))"
      ]
    },
    {
      "cell_type": "markdown",
      "metadata": {
        "id": "6Oe_MLweXO2G"
      },
      "source": [
        "#**Model Training and Classification**\n",
        "##**Target Variable: Condition**"
      ]
    },
    {
      "cell_type": "code",
      "execution_count": 46,
      "metadata": {
        "colab": {
          "base_uri": "https://localhost:8080/"
        },
        "id": "mfjquX1KWByg",
        "outputId": "6fa9548b-8e65-4854-c726-d624337968b2"
      },
      "outputs": [
        {
          "output_type": "stream",
          "name": "stdout",
          "text": [
            "Accuracy: 0.9552785923753666\n",
            "\n",
            "\n"
          ]
        }
      ],
      "source": [
        "#split dataset in features and target variable\n",
        "features = [\"Fuel_Mdot\",\"Tair\",\"Treturn\",\"Tsupply\",\"Water_Mdot\"]\n",
        "X = df[features] # Features\n",
        "y = df.Condition # Target variable\n",
        "\n",
        "\n",
        "# Split dataset into training set and test set\n",
        "X_train, X_test, y_train, y_test = train_test_split(X, y, test_size=0.3, random_state=1) # 70% training and 30% test\n",
        "\n",
        "\n",
        "from sklearn.tree import DecisionTreeClassifier\n",
        "import sklearn.metrics as metrics\n",
        "\n",
        "# Create Decision Tree classifer object\n",
        "clf = DecisionTreeClassifier()\n",
        "\n",
        "# Train Decision Tree Classifer\n",
        "clf = clf.fit(X_train,y_train)\n",
        "\n",
        "#Predict the response for test dataset\n",
        "y_pred = clf.predict(X_test)\n",
        "\n",
        "print(\"Accuracy:\",metrics.accuracy_score(y_test, y_pred))\n",
        "print(\"\\n\")\n"
      ]
    },
    {
      "cell_type": "code",
      "execution_count": 47,
      "metadata": {
        "colab": {
          "base_uri": "https://localhost:8080/",
          "height": 912
        },
        "id": "1mloTg9bo0D2",
        "outputId": "fa7b2164-f952-41dd-ad55-8515be1574a6"
      },
      "outputs": [
        {
          "output_type": "display_data",
          "data": {
            "image/png": "[encoded data removed]",
            "text/plain": [
              "<Figure size 1440x1080 with 2 Axes>"
            ]
          },
          "metadata": {
            "needs_background": "light"
          }
        }
      ],
      "source": [
        "cm_dtree = confusion_matrix(y_test, y_pred)\n",
        "\n",
        "cmn = cm_dtree.astype('float') / cm_dtree.sum(axis=1)[:, np.newaxis]\n",
        "\n",
        "x_axis_labels = ['%=0.05', '%=0.1',\t'%=0.15',\t'%=0.20',\t'%=0.25',\t'%=0.3',\t'%=0.35',\t\n",
        "                 '%=0.40',\t'%=0.45',\t'%=0.50',\t'F = 0.01',\t'F = 0.06',\t'F = 0.11',\t'F = 0.16',\t'F = 0.21',\n",
        "                 'F = 0.26',\t'F = 0.31',\t'F = 0.36',\t'F = 0.41',\t'F = 0.46',\t'Nominal',\t'S = 0.01',\t'S = 0.06',\t\n",
        "                 'S = 0.11',\t'S = 0.16',\t'S = 0.21',\t'S = 0.26',\t'S = 0.31',\t'S = 0.36',\t'S = 0.41',\t'S = 0.46'] # labels for x-axis\n",
        "y_axis_labels =['%=0.05', '%=0.1',\t'%=0.15',\t'%=0.20',\t'%=0.25',\t'%=0.3',\t'%=0.35',\t\n",
        "                 '%=0.40',\t'%=0.45',\t'%=0.50',\t'F = 0.01',\t'F = 0.06',\t'F = 0.11',\t'F = 0.16',\t'F = 0.21',\n",
        "                 'F = 0.26',\t'F = 0.31',\t'F = 0.36',\t'F = 0.41',\t'F = 0.46',\t'Nominal',\t'S = 0.01',\t'S = 0.06',\t\n",
        "                 'S = 0.11',\t'S = 0.16',\t'S = 0.21',\t'S = 0.26',\t'S = 0.31',\t'S = 0.36',\t'S = 0.41',\t'S = 0.46'] # labels for y-axis\n",
        "\n",
        "plt.figure(figsize=(20,15))\n",
        "plt.title(\"Decision Tree Classifier Confusion Matrix\")\n",
        "sns.heatmap(cmn,annot=True,cmap=\"Reds\",cbar=True, annot_kws={\"size\": 10}, xticklabels=x_axis_labels, yticklabels=y_axis_labels)\n",
        "plt.show()"
      ]
    },
    {
      "cell_type": "markdown",
      "metadata": {
        "id": "BlQHtCq_goKd"
      },
      "source": [
        "#**Generating Alert Messages**"
      ]
    },
    {
      "cell_type": "code",
      "execution_count": 48,
      "metadata": {
        "colab": {
          "base_uri": "https://localhost:8080/"
        },
        "id": "bwz6uvgsWN4x",
        "outputId": "ac677677-9268-42f2-daee-f5c9f04284b9"
      },
      "outputs": [
        {
          "output_type": "stream",
          "name": "stdout",
          "text": [
            "Boiler has 46.0 % of Scaling\n"
          ]
        }
      ],
      "source": [
        "# pr=['F = 0.21']\n",
        "\n",
        "pr = clf.predict([['4'\t,'297',\t'333.0000002',\t'335.25235',\t'9']])\n",
        "# pr = clf.predict([['1',\t'283'\t,'333.0000002',\t'342.3244007'\t,'9.5']])\n",
        "\n",
        "if (pr[0][0] == '%'):\n",
        "  if (pr[0][2:]=='0.1'):\n",
        "    print(\"Boiler operating at Nominal Condition\")\n",
        "  elif (pr[0][2:]<'0.1'):\n",
        "    print(\"Boiler operating at \", float(pr[0][2:])*100 , \" % Lean Condition\")\n",
        "  else:\n",
        "    print(\"Boiler operating at \", float(pr[0][2:])*100 , \" % Excess Air\")\n",
        "\n",
        "elif (pr[0][0] == 'F'):\n",
        "  print(\"Boiler has\", float(pr[0][4:])*100, \"% of Fouling\")\n",
        "else:\n",
        "  print(\"Boiler has\", float(pr[0][4:])*100, \"% of Scaling\")"
      ]
    },
    {
      "cell_type": "code",
      "execution_count": 49,
      "metadata": {
        "colab": {
          "base_uri": "https://localhost:8080/"
        },
        "id": "6iGuGoEkTB-U",
        "outputId": "41ff9926-07d7-438f-c0ce-57acd2f8afbe"
      },
      "outputs": [
        {
          "output_type": "stream",
          "name": "stdout",
          "text": [
            "Boiler operating at Nominal Condition\n"
          ]
        }
      ],
      "source": [
        "\n",
        "\n",
        "pr = clf.predict([['1',\t'283'\t,'333.0000002',\t'342.3244007'\t,'9.5']])\n",
        "\n",
        "if (pr[0][0] == '%'):\n",
        "  if (pr[0][2:]=='0.1'):\n",
        "    print(\"Boiler operating at Nominal Condition\")\n",
        "  elif (pr[0][2:]<'0.1'):\n",
        "    print(\"Boiler operating at \", float(pr[0][2:])*100 , \" % Lean Condition\")\n",
        "  else:\n",
        "    print(\"Boiler operating at \", float(pr[0][2:])*100 , \" % Excess Air\")\n",
        "\n",
        "elif (pr[0][0] == 'F'):\n",
        "  print(\"Boiler has\", float(pr[0][4:])*100, \"% of Fouling\")\n",
        "else:\n",
        "  print(\"Boiler has\", float(pr[0][4:])*100, \"% of Scaling\")"
      ]
    },
    {
      "cell_type": "code",
      "execution_count": 50,
      "metadata": {
        "colab": {
          "base_uri": "https://localhost:8080/"
        },
        "id": "VxRHjat2WDd_",
        "outputId": "84c2daeb-76ec-4ad6-91dd-d91dff0fe9d3"
      },
      "outputs": [
        {
          "output_type": "stream",
          "name": "stdout",
          "text": [
            "Boiler operating at  20.0  % Excess Air\n"
          ]
        }
      ],
      "source": [
        "pr = clf.predict([['1','283','333','356.3152528','3.5']])\n",
        "\n",
        "if (pr[0][0] == '%'):\n",
        "  if (pr[0][2:]=='0.1'):\n",
        "    print(\"Boiler operating at Nominal Condition\")\n",
        "  elif (pr[0][2:]<'0.1'):\n",
        "    print(\"Boiler operating at \", float(pr[0][2:])*100 , \" % Lean Condition\")\n",
        "  else:\n",
        "    print(\"Boiler operating at \", float(pr[0][2:])*100 , \" % Excess Air\")\n",
        "\n",
        "elif (pr[0][0] == 'F'):\n",
        "  print(\"Boiler has\", float(pr[0][4:])*100, \"% of Fouling\")\n",
        "else:\n",
        "  print(\"Boiler has\", float(pr[0][4:])*100, \"% of Scaling\")"
      ]
    },
    {
      "cell_type": "code",
      "execution_count": 51,
      "metadata": {
        "colab": {
          "base_uri": "https://localhost:8080/"
        },
        "id": "2CJMfj6EWLdE",
        "outputId": "6a81c3f5-a2d0-4ccb-8ff5-67f7bda67d82"
      },
      "outputs": [
        {
          "output_type": "stream",
          "name": "stdout",
          "text": [
            "Boiler operating at  5.0  % Lean Condition\n"
          ]
        }
      ],
      "source": [
        "pr = clf.predict([['1','283','333','359.2389633','3.5']])\n",
        "\n",
        "if (pr[0][0] == '%'):\n",
        "  if (pr[0][2:]=='0.1'):\n",
        "    print(\"Boiler operating at Nominal Condition\")\n",
        "  elif (pr[0][2:]<'0.1'):\n",
        "    print(\"Boiler operating at \", float(pr[0][2:])*100 , \" % Lean Condition\")\n",
        "  else:\n",
        "    print(\"Boiler operating at \", float(pr[0][2:])*100 , \" % Excess Air\")\n",
        "\n",
        "elif (pr[0][0] == 'F'):\n",
        "  print(\"Boiler has\", float(pr[0][4:])*100, \"% of Fouling\")\n",
        "else:\n",
        "  print(\"Boiler has\", float(pr[0][4:])*100, \"% of Scaling\")"
      ]
    },
    {
      "cell_type": "code",
      "execution_count": 52,
      "metadata": {
        "colab": {
          "base_uri": "https://localhost:8080/"
        },
        "id": "1RAQtIPcWUIW",
        "outputId": "7feb5a45-7a89-459f-8f9f-ad331f9d153a"
      },
      "outputs": [
        {
          "output_type": "stream",
          "name": "stdout",
          "text": [
            "Boiler has 31.0 % of Fouling\n"
          ]
        }
      ],
      "source": [
        "pr = clf.predict([['1','287','333.0000001','337.9953434','8']])\n",
        "\n",
        "if (pr[0][0] == '%'):\n",
        "  if (pr[0][2:]=='0.1'):\n",
        "    print(\"Boiler operating at Nominal Condition\")\n",
        "  elif (pr[0][2:]<'0.1'):\n",
        "    print(\"Boiler operating at \", float(pr[0][2:])*100 , \" % Lean Condition\")\n",
        "  else:\n",
        "    print(\"Boiler operating at \", float(pr[0][2:])*100 , \" % Excess Air\")\n",
        "\n",
        "elif (pr[0][0] == 'F'):\n",
        "  print(\"Boiler has\", float(pr[0][4:])*100, \"% of Fouling\")\n",
        "else:\n",
        "  print(\"Boiler has\", float(pr[0][4:])*100, \"% of Scaling\")"
      ]
    },
    {
      "cell_type": "markdown",
      "metadata": {
        "id": "FSaPiRmSGM7A"
      },
      "source": [
        "#**7. Comparative Study of Classification Models**"
      ]
    },
    {
      "cell_type": "code",
      "execution_count": 53,
      "metadata": {
        "colab": {
          "base_uri": "https://localhost:8080/",
          "height": 621
        },
        "id": "8Fk4pf5lElXy",
        "outputId": "9dc57a26-c97c-4262-9efc-440ea291f617"
      },
      "outputs": [
        {
          "output_type": "display_data",
          "data": {
            "image/png": "[encoded data removed]",
            "text/plain": [
              "<Figure size 1080x720 with 1 Axes>"
            ]
          },
          "metadata": {
            "needs_background": "light"
          }
        }
      ],
      "source": [
        "\n",
        "# importing library\n",
        "import matplotlib.pyplot as plt\n",
        "  \n",
        "# function to add value labels\n",
        "def addlabels(x,y):\n",
        "    for i in range(len(x)):\n",
        "        plt.text(i,y[i],y[i])\n",
        "  \n",
        "if __name__ == '__main__':\n",
        "\n",
        "    x = ['Auto ML','Decision Tree',  'Random Forest' , 'XG Boost' , 'SVM', 'KNN']\n",
        "    y = [a_ml, a_dtree, a_rf, a_xg, a_svm, a_knn]\n",
        "\n",
        "    plt.figure(figsize=(15,10))  \n",
        "    plt.bar(x, y, color=['orange', 'blue', 'red', 'purple', 'green', 'brown']) \n",
        "    addlabels(x, y)\n",
        "      \n",
        "    plt.title(\"Comparison of Accuracies for Classification Models\")\n",
        "    plt.xlabel(\"Classifier\")\n",
        "    plt.ylabel(\"Accuracy\")\n",
        "    plt.show()"
      ]
    },
    {
      "cell_type": "markdown",
      "metadata": {
        "id": "yg61mAYYPqLM"
      },
      "source": [
        "#**8. Ranking of Features**"
      ]
    },
    {
      "cell_type": "markdown",
      "metadata": {
        "id": "_X5KTUYJPzNe"
      },
      "source": [
        "##**8.1 For Decision Tree Classifier**"
      ]
    },
    {
      "cell_type": "markdown",
      "metadata": {
        "id": "iohJogwWRcEg"
      },
      "source": [
        "##**Imapact of features on `ExcessAir`**"
      ]
    },
    {
      "cell_type": "code",
      "execution_count": 54,
      "metadata": {
        "colab": {
          "base_uri": "https://localhost:8080/",
          "height": 652
        },
        "id": "5CGVbbYAquX7",
        "outputId": "7ea68392-aa7b-4396-da77-a1079cc2b9d5"
      },
      "outputs": [
        {
          "output_type": "stream",
          "name": "stdout",
          "text": [
            "Accuracy: 0.9953567937438905\n",
            "\n",
            "\n",
            "Feature: 0, Score: 0.00103\n",
            "Feature: 1, Score: 0.00462\n",
            "Feature: 2, Score: 0.00000\n",
            "Feature: 3, Score: 0.62888\n",
            "Feature: 4, Score: 0.36546\n"
          ]
        },
        {
          "output_type": "display_data",
          "data": {
            "image/png": "[encoded data removed]",
            "text/plain": [
              "<Figure size 1080x576 with 1 Axes>"
            ]
          },
          "metadata": {
            "needs_background": "light"
          }
        }
      ],
      "source": [
        "#split dataset in features and target variable\n",
        "f_e = [\"Fuel_Mdot\",\"Tair\",\"Treturn\",\"Tsupply\",\"Water_Mdot\"]\n",
        "X_e = df_pre_1[f_e] # Features\n",
        "y_e = df_pre_1.ExcessAir # Target variable\n",
        "\n",
        "\n",
        "# Split dataset into training set and test set\n",
        "X_train_e, X_test_e, y_train_e, y_test_e = train_test_split(X_e, y_e, test_size=0.3, random_state=1) # 70% training and 30% test\n",
        "\n",
        "\n",
        "# Create Decision Tree classifer object\n",
        "clf = DecisionTreeClassifier()\n",
        "\n",
        "# Train Decision Tree Classifer\n",
        "clf = clf.fit(X_train_e,y_train_e)\n",
        "\n",
        "#Predict the response for test dataset\n",
        "y_pred_e = clf.predict(X_test_e)\n",
        "\n",
        "print(\"Accuracy:\",metrics.accuracy_score(y_test_e, y_pred_e))\n",
        "print(\"\\n\")\n",
        "plt.figure(figsize = (15,8))\n",
        "importance = clf.feature_importances_\n",
        "for i,v in enumerate(importance):\n",
        "\tprint('Feature: %0d, Score: %.5f' % (i,v))\n",
        "# plot feature importance\n",
        "plt.bar([x for x in range(len(importance))], importance)\n",
        "plt.title(\"Impact of features on 'ExcessAir' \")\n",
        "plt.xlabel(\"Features\")\n",
        "plt.ylabel(\"Impact Score\")\n",
        "plt.show()"
      ]
    },
    {
      "cell_type": "markdown",
      "metadata": {
        "id": "3O8V_JFWTS4g"
      },
      "source": [
        "##**Imapact of features on `Fouling`**"
      ]
    },
    {
      "cell_type": "code",
      "execution_count": 55,
      "metadata": {
        "colab": {
          "base_uri": "https://localhost:8080/",
          "height": 617
        },
        "id": "eArLVAm2TEKF",
        "outputId": "51cb3c40-d88b-4b01-d2e6-c376e77ad048"
      },
      "outputs": [
        {
          "output_type": "stream",
          "name": "stdout",
          "text": [
            "Accuracy: 0.9649315738025416\n",
            "Feature: 0, Score: 0.01474\n",
            "Feature: 1, Score: 0.05064\n",
            "Feature: 2, Score: 0.00000\n",
            "Feature: 3, Score: 0.61250\n",
            "Feature: 4, Score: 0.32212\n"
          ]
        },
        {
          "output_type": "display_data",
          "data": {
            "image/png": "[encoded data removed]",
            "text/plain": [
              "<Figure size 1080x576 with 1 Axes>"
            ]
          },
          "metadata": {
            "needs_background": "light"
          }
        }
      ],
      "source": [
        "#split dataset in features and target variable\n",
        "f_f = [\"Fuel_Mdot\",\"Tair\",\"Treturn\",\"Tsupply\",\"Water_Mdot\"]\n",
        "X_f = df_pre_1[f_f] # Features\n",
        "y_f = df_pre_1.Fouling # Target variable\n",
        "\n",
        "\n",
        "# Split dataset into training set and test set\n",
        "X_train_f, X_test_f, y_train_f, y_test_f = train_test_split(X_f, y_f, test_size=0.3, random_state=1) # 70% training and 30% test\n",
        "\n",
        "\n",
        "from sklearn.tree import DecisionTreeClassifier\n",
        "import sklearn.metrics as metrics\n",
        "\n",
        "# Create Decision Tree classifer object\n",
        "clf = DecisionTreeClassifier()\n",
        "\n",
        "# Train Decision Tree Classifer\n",
        "clf = clf.fit(X_train_f,y_train_f)\n",
        "\n",
        "#Predict the response for test dataset\n",
        "y_pred_f = clf.predict(X_test_f)\n",
        "\n",
        "print(\"Accuracy:\",metrics.accuracy_score(y_test_f, y_pred_f))\n",
        "\n",
        "\n",
        "plt.figure(figsize = (15,8))\n",
        "importance = clf.feature_importances_\n",
        "for i,v in enumerate(importance):\n",
        "\tprint('Feature: %0d, Score: %.5f' % (i,v))\n",
        "# plot feature importance\n",
        "plt.bar([x for x in range(len(importance))], importance)\n",
        "plt.title(\"Impact of features on 'Fouling' \")\n",
        "plt.xlabel(\"Features\")\n",
        "plt.ylabel(\"Impact Score\")\n",
        "plt.show()"
      ]
    },
    {
      "cell_type": "markdown",
      "metadata": {
        "id": "tCjXk8ReT8Qr"
      },
      "source": [
        "##**Imapact of features on `Scaling`**"
      ]
    },
    {
      "cell_type": "code",
      "execution_count": 56,
      "metadata": {
        "colab": {
          "base_uri": "https://localhost:8080/",
          "height": 617
        },
        "id": "3i7z3cT0T1uT",
        "outputId": "6e5b4749-128e-42a9-9600-709f04a44cdd"
      },
      "outputs": [
        {
          "output_type": "stream",
          "name": "stdout",
          "text": [
            "Accuracy: 0.9841153470185728\n",
            "Feature: 0, Score: 0.00573\n",
            "Feature: 1, Score: 0.04909\n",
            "Feature: 2, Score: 0.00000\n",
            "Feature: 3, Score: 0.67165\n",
            "Feature: 4, Score: 0.27354\n"
          ]
        },
        {
          "output_type": "display_data",
          "data": {
            "image/png": "[encoded data removed]",
            "text/plain": [
              "<Figure size 1080x576 with 1 Axes>"
            ]
          },
          "metadata": {
            "needs_background": "light"
          }
        }
      ],
      "source": [
        "#split dataset in features and target variable\n",
        "f_s = [\"Fuel_Mdot\",\"Tair\",\"Treturn\",\"Tsupply\",\"Water_Mdot\"]\n",
        "X_s = df_pre_1[f_s] # Features\n",
        "y_s = df_pre_1.Scaling # Target variable\n",
        "\n",
        "\n",
        "# Split dataset into training set and test set\n",
        "X_train_s, X_test_s, y_train_s, y_test_s = train_test_split(X_s, y_s, test_size=0.3, random_state=1) # 70% training and 30% test\n",
        "\n",
        "\n",
        "from sklearn.tree import DecisionTreeClassifier\n",
        "import sklearn.metrics as metrics\n",
        "\n",
        "# Create Decision Tree classifer object\n",
        "clf = DecisionTreeClassifier()\n",
        "\n",
        "# Train Decision Tree Classifer\n",
        "clf = clf.fit(X_train_s,y_train_s)\n",
        "\n",
        "#Predict the response for test dataset\n",
        "y_pred_s = clf.predict(X_test_s)\n",
        "\n",
        "print(\"Accuracy:\",metrics.accuracy_score(y_test_s, y_pred_s))\n",
        "\n",
        "plt.figure(figsize = (15,8))\n",
        "importance = clf.feature_importances_\n",
        "for i,v in enumerate(importance):\n",
        "\tprint('Feature: %0d, Score: %.5f' % (i,v))\n",
        "\n",
        "#plot feature importance\n",
        "\n",
        "plt.bar([x for x in range(len(importance))], importance)\n",
        "plt.title(\"Impact of features on 'Scaling' \")\n",
        "plt.xlabel(\"Features\")\n",
        "plt.ylabel(\"Impact Score\")\n",
        "plt.show()"
      ]
    },
    {
      "cell_type": "markdown",
      "metadata": {
        "id": "7qzfDn02UgWS"
      },
      "source": [
        "##**Imapact of features on `Lean`**"
      ]
    },
    {
      "cell_type": "code",
      "execution_count": 57,
      "metadata": {
        "colab": {
          "base_uri": "https://localhost:8080/",
          "height": 617
        },
        "id": "LjM9KxkRUWq_",
        "outputId": "204fcbff-451a-48a9-d361-9a86a08231e4"
      },
      "outputs": [
        {
          "output_type": "stream",
          "name": "stdout",
          "text": [
            "Accuracy: 0.9778836754643206\n",
            "Feature: 0, Score: 0.08395\n",
            "Feature: 1, Score: 0.16208\n",
            "Feature: 2, Score: 0.00000\n",
            "Feature: 3, Score: 0.60037\n",
            "Feature: 4, Score: 0.15360\n"
          ]
        },
        {
          "output_type": "display_data",
          "data": {
            "image/png": "[encoded data removed]",
            "text/plain": [
              "<Figure size 1080x576 with 1 Axes>"
            ]
          },
          "metadata": {
            "needs_background": "light"
          }
        }
      ],
      "source": [
        "#split dataset in features and target variable\n",
        "f_l = [\"Fuel_Mdot\",\"Tair\",\"Treturn\",\"Tsupply\",\"Water_Mdot\"]\n",
        "X_l = df_pre_1[f_l] # Features\n",
        "y_l = df_pre_1.Lean # Target variable\n",
        "\n",
        "\n",
        "# Split dataset into training set and test set\n",
        "X_train_l, X_test_l, y_train_l, y_test_l = train_test_split(X_l, y_l, test_size=0.3, random_state=1) # 70% training and 30% test\n",
        "\n",
        "\n",
        "from sklearn.tree import DecisionTreeClassifier\n",
        "import sklearn.metrics as metrics\n",
        "\n",
        "# Create Decision Tree classifer object\n",
        "clf = DecisionTreeClassifier()\n",
        "\n",
        "# Train Decision Tree Classifer\n",
        "clf = clf.fit(X_train_l,y_train_l)\n",
        "\n",
        "#Predict the response for test dataset\n",
        "y_pred_l = clf.predict(X_test_l)\n",
        "\n",
        "print(\"Accuracy:\",metrics.accuracy_score(y_test_l, y_pred_l))\n",
        "\n",
        "plt.figure(figsize = (15,8))\n",
        "importance = clf.feature_importances_\n",
        "for i,v in enumerate(importance):\n",
        "\tprint('Feature: %0d, Score: %.5f' % (i,v))\n",
        "#plot feature importance\n",
        "plt.bar([x for x in range(len(importance))], importance)\n",
        "plt.title(\"Impact of features on 'Lean' \")\n",
        "plt.xlabel(\"Features\")\n",
        "plt.ylabel(\"Impact Score\")\n",
        "plt.show()"
      ]
    },
    {
      "cell_type": "markdown",
      "metadata": {
        "id": "49jYd1VEVeO9"
      },
      "source": [
        "##**Imapact of features on `Nominal`**"
      ]
    },
    {
      "cell_type": "code",
      "execution_count": 58,
      "metadata": {
        "colab": {
          "base_uri": "https://localhost:8080/",
          "height": 617
        },
        "id": "HzTecaYNVY3k",
        "outputId": "cf7536fe-d55f-46f9-bcd4-86a3b8bfe96b"
      },
      "outputs": [
        {
          "output_type": "stream",
          "name": "stdout",
          "text": [
            "Accuracy: 0.988514173998045\n",
            "Feature: 0, Score: 0.02405\n",
            "Feature: 1, Score: 0.08121\n",
            "Feature: 2, Score: 0.00000\n",
            "Feature: 3, Score: 0.62455\n",
            "Feature: 4, Score: 0.27020\n"
          ]
        },
        {
          "output_type": "display_data",
          "data": {
            "image/png": "[encoded data removed]",
            "text/plain": [
              "<Figure size 1080x576 with 1 Axes>"
            ]
          },
          "metadata": {
            "needs_background": "light"
          }
        }
      ],
      "source": [
        "#split dataset in features and target variable\n",
        "f_n = [\"Fuel_Mdot\",\"Tair\",\"Treturn\",\"Tsupply\",\"Water_Mdot\"]\n",
        "X_n = df_pre_1[f_n] # Features\n",
        "y_n = df_pre_1.Nominal # Target variable\n",
        "\n",
        "\n",
        "# Split dataset into training set and test set\n",
        "X_train_n, X_test_n, y_train_n, y_test_n = train_test_split(X_n, y_n, test_size=0.3, random_state=1) # 70% training and 30% test\n",
        "\n",
        "\n",
        "from sklearn.tree import DecisionTreeClassifier\n",
        "import sklearn.metrics as metrics\n",
        "\n",
        "# Create Decision Tree classifer object\n",
        "clf = DecisionTreeClassifier()\n",
        "\n",
        "# Train Decision Tree Classifer\n",
        "clf = clf.fit(X_train_n,y_train_n)\n",
        "\n",
        "#Predict the response for test dataset\n",
        "y_pred_n = clf.predict(X_test_n)\n",
        "\n",
        "print(\"Accuracy:\",metrics.accuracy_score(y_test_n, y_pred_n))\n",
        "\n",
        "plt.figure(figsize = (15,8))\n",
        "importance = clf.feature_importances_\n",
        "for i,v in enumerate(importance):\n",
        "\tprint('Feature: %0d, Score: %.5f' % (i,v))\n",
        "# plot feature importance\n",
        "plt.bar([x for x in range(len(importance))], importance)\n",
        "plt.title(\"Impact of features on 'Nominal' \")\n",
        "plt.xlabel(\"Features\")\n",
        "plt.ylabel(\"Impact Score\")\n",
        "plt.show()"
      ]
    },
    {
      "cell_type": "markdown",
      "metadata": {
        "id": "VbJWKHqGP_xP"
      },
      "source": [
        "##**8.2 For Auto ML**"
      ]
    },
    {
      "cell_type": "markdown",
      "metadata": {
        "id": "mYyfKuocSc5l"
      },
      "source": [
        "##**Imapact of features on `ExcessAir`**"
      ]
    },
    {
      "cell_type": "code",
      "execution_count": 59,
      "metadata": {
        "colab": {
          "base_uri": "https://localhost:8080/",
          "height": 652
        },
        "id": "W8Oi6kkYSc5m",
        "outputId": "7a73241c-6a54-4129-a6b7-3476c507fcc2"
      },
      "outputs": [
        {
          "output_type": "stream",
          "name": "stdout",
          "text": [
            "Accuracy: 0.9974340175953079\n",
            "\n",
            "\n",
            "Feature: 0, Score: 0.02405\n",
            "Feature: 1, Score: 0.08121\n",
            "Feature: 2, Score: 0.00000\n",
            "Feature: 3, Score: 0.62455\n",
            "Feature: 4, Score: 0.27020\n"
          ]
        },
        {
          "output_type": "display_data",
          "data": {
            "image/png": "[encoded data removed]",
            "text/plain": [
              "<Figure size 1080x576 with 1 Axes>"
            ]
          },
          "metadata": {
            "needs_background": "light"
          }
        }
      ],
      "source": [
        "#split dataset in features and target variable\n",
        "f_e = [\"Fuel_Mdot\",\"Tair\",\"Treturn\",\"Tsupply\",\"Water_Mdot\"]\n",
        "X_e = df_pre_1[f_e] # Features\n",
        "y_e = df_pre_1.ExcessAir # Target variable\n",
        "\n",
        "\n",
        "# Split dataset into training set and test set\n",
        "X_train_e, X_test_e, y_train_e, y_test_e = train_test_split(X_e, y_e, test_size=0.3, random_state=1) # 70% training and 30% test\n",
        "\n",
        "\n",
        "automlclassifier = classifier.AutoSklearnClassifier(time_left_for_this_task=100, per_run_time_limit=30)\n",
        "automlclassifier.fit(X_train_e,y_train_e)\n",
        "\n",
        "y_pred_e=automlclassifier.predict(X_test_e)\n",
        "\n",
        "print(\"Accuracy:\",metrics.accuracy_score(y_test_e, y_pred_e))\n",
        "print(\"\\n\")\n",
        "\n",
        "plt.figure(figsize = (15,8))\n",
        "importance = clf.feature_importances_\n",
        "for i,v in enumerate(importance):\n",
        "\tprint('Feature: %0d, Score: %.5f' % (i,v))\n",
        "# # plot feature importance\n",
        "plt.bar([x for x in range(len(importance))], importance)\n",
        "plt.title(\"Impact of features on 'Excess Air' \")\n",
        "plt.xlabel(\"Features\")\n",
        "plt.ylabel(\"Impact Score\")\n",
        "plt.show()"
      ]
    },
    {
      "cell_type": "markdown",
      "metadata": {
        "id": "TxzpHwDHSc5m"
      },
      "source": [
        "##**Imapact of features on `Fouling`**"
      ]
    },
    {
      "cell_type": "code",
      "execution_count": 60,
      "metadata": {
        "colab": {
          "base_uri": "https://localhost:8080/",
          "height": 652
        },
        "id": "oFGod_4USc5m",
        "outputId": "0b778c13-fc9d-4897-cd4a-9b4cdc3f91e1"
      },
      "outputs": [
        {
          "output_type": "stream",
          "name": "stdout",
          "text": [
            "Accuracy: 0.9535679374389052\n",
            "\n",
            "\n",
            "Feature: 0, Score: 0.02405\n",
            "Feature: 1, Score: 0.08121\n",
            "Feature: 2, Score: 0.00000\n",
            "Feature: 3, Score: 0.62455\n",
            "Feature: 4, Score: 0.27020\n"
          ]
        },
        {
          "output_type": "display_data",
          "data": {
            "image/png": "[encoded data removed]",
            "text/plain": [
              "<Figure size 1080x576 with 1 Axes>"
            ]
          },
          "metadata": {
            "needs_background": "light"
          }
        }
      ],
      "source": [
        "#split dataset in features and target variable\n",
        "f_f = [\"Fuel_Mdot\",\"Tair\",\"Treturn\",\"Tsupply\",\"Water_Mdot\"]\n",
        "X_f = df_pre_1[f_f] # Features\n",
        "y_f = df_pre_1.Fouling # Target variable\n",
        "\n",
        "\n",
        "# Split dataset into training set and test set\n",
        "X_train_f, X_test_f, y_train_f, y_test_f = train_test_split(X_f, y_f, test_size=0.3, random_state=1) # 70% training and 30% test\n",
        "\n",
        "\n",
        "automlclassifier = classifier.AutoSklearnClassifier(time_left_for_this_task=100, per_run_time_limit=30)\n",
        "automlclassifier.fit(X_train_f,y_train_f)\n",
        "\n",
        "y_pred_f=automlclassifier.predict(X_test_f)\n",
        "\n",
        "print(\"Accuracy:\",metrics.accuracy_score(y_test_f, y_pred_f))\n",
        "print(\"\\n\")\n",
        "\n",
        "\n",
        "plt.figure(figsize = (15,8))\n",
        "importance = clf.feature_importances_\n",
        "for i,v in enumerate(importance):\n",
        "\tprint('Feature: %0d, Score: %.5f' % (i,v))\n",
        "# plot feature importance\n",
        "plt.bar([x for x in range(len(importance))], importance)\n",
        "plt.title(\"Impact of features on 'Fouling' \")\n",
        "plt.xlabel(\"Features\")\n",
        "plt.ylabel(\"Impact Score\")\n",
        "plt.show()"
      ]
    },
    {
      "cell_type": "markdown",
      "metadata": {
        "id": "x3o2_7MHSc5n"
      },
      "source": [
        "##**Imapact of features on `Scaling`**"
      ]
    },
    {
      "cell_type": "code",
      "execution_count": 61,
      "metadata": {
        "colab": {
          "base_uri": "https://localhost:8080/",
          "height": 652
        },
        "id": "S8T-FjvESc5n",
        "outputId": "d6ce0bd1-e1be-4899-e3d8-9527e620cb21"
      },
      "outputs": [
        {
          "output_type": "stream",
          "name": "stdout",
          "text": [
            "Accuracy: 0.9649315738025416\n",
            "\n",
            "\n",
            "Feature: 0, Score: 0.02405\n",
            "Feature: 1, Score: 0.08121\n",
            "Feature: 2, Score: 0.00000\n",
            "Feature: 3, Score: 0.62455\n",
            "Feature: 4, Score: 0.27020\n"
          ]
        },
        {
          "output_type": "display_data",
          "data": {
            "image/png": "[encoded data removed]",
            "text/plain": [
              "<Figure size 1080x576 with 1 Axes>"
            ]
          },
          "metadata": {
            "needs_background": "light"
          }
        }
      ],
      "source": [
        "#split dataset in features and target variable\n",
        "f_s = [\"Fuel_Mdot\",\"Tair\",\"Treturn\",\"Tsupply\",\"Water_Mdot\"]\n",
        "X_s = df_pre_1[f_s] # Features\n",
        "y_s = df_pre_1.Scaling # Target variable\n",
        "\n",
        "\n",
        "# Split dataset into training set and test set\n",
        "X_train_s, X_test_s, y_train_s, y_test_s = train_test_split(X_s, y_s, test_size=0.3, random_state=1) # 70% training and 30% test\n",
        "\n",
        "\n",
        "automlclassifier = classifier.AutoSklearnClassifier(time_left_for_this_task=100, per_run_time_limit=30)\n",
        "automlclassifier.fit(X_train_s,y_train_s)\n",
        "\n",
        "y_pred_s=automlclassifier.predict(X_test_s)\n",
        "\n",
        "print(\"Accuracy:\",metrics.accuracy_score(y_test_s, y_pred_s))\n",
        "print(\"\\n\")\n",
        "\n",
        "\n",
        "plt.figure(figsize = (15,8))\n",
        "importance = clf.feature_importances_\n",
        "for i,v in enumerate(importance):\n",
        "\tprint('Feature: %0d, Score: %.5f' % (i,v))\n",
        "# plot feature importance\n",
        "plt.bar([x for x in range(len(importance))], importance)\n",
        "plt.title(\"Impact of features on 'Scaling' \")\n",
        "plt.xlabel(\"Features\")\n",
        "plt.ylabel(\"Impact Score\")\n",
        "plt.show()"
      ]
    },
    {
      "cell_type": "markdown",
      "metadata": {
        "id": "V4UTn486Sc5o"
      },
      "source": [
        "##**Imapact of features on `Lean`**"
      ]
    },
    {
      "cell_type": "code",
      "execution_count": 62,
      "metadata": {
        "colab": {
          "base_uri": "https://localhost:8080/",
          "height": 982
        },
        "id": "Ki3wpfOhSc5o",
        "outputId": "9ca2c81f-eaa3-483e-e272-1edc7c398a38"
      },
      "outputs": [
        {
          "output_type": "stream",
          "name": "stdout",
          "text": [
            "[WARNING] [2022-01-06 14:20:28,128:Client-EnsembleBuilder] No models better than random - using Dummy loss!Number of models besides current dummy model: 1. Number of dummy models: 1\n",
            "[WARNING] [2022-01-06 14:20:35,498:Client-EnsembleBuilder] No models better than random - using Dummy loss!Number of models besides current dummy model: 2. Number of dummy models: 1\n",
            "[WARNING] [2022-01-06 14:20:44,125:Client-EnsembleBuilder] No models better than random - using Dummy loss!Number of models besides current dummy model: 3. Number of dummy models: 1\n",
            "[WARNING] [2022-01-06 14:20:50,150:Client-EnsembleBuilder] No models better than random - using Dummy loss!Number of models besides current dummy model: 4. Number of dummy models: 1\n",
            "[WARNING] [2022-01-06 14:20:54,824:Client-EnsembleBuilder] No models better than random - using Dummy loss!Number of models besides current dummy model: 5. Number of dummy models: 1\n",
            "[WARNING] [2022-01-06 14:20:57,160:Client-EnsembleBuilder] No models better than random - using Dummy loss!Number of models besides current dummy model: 5. Number of dummy models: 1\n",
            "[WARNING] [2022-01-06 14:20:58,328:Client-EnsembleBuilder] No models better than random - using Dummy loss!Number of models besides current dummy model: 5. Number of dummy models: 1\n",
            "[WARNING] [2022-01-06 14:21:00,600:Client-EnsembleBuilder] No models better than random - using Dummy loss!Number of models besides current dummy model: 6. Number of dummy models: 1\n",
            "[WARNING] [2022-01-06 14:21:03,516:Client-EnsembleBuilder] No models better than random - using Dummy loss!Number of models besides current dummy model: 6. Number of dummy models: 1\n",
            "[WARNING] [2022-01-06 14:21:04,649:Client-EnsembleBuilder] No models better than random - using Dummy loss!Number of models besides current dummy model: 6. Number of dummy models: 1\n",
            "[WARNING] [2022-01-06 14:21:30,217:Client-EnsembleBuilder] No models better than random - using Dummy loss!Number of models besides current dummy model: 7. Number of dummy models: 1\n",
            "[WARNING] [2022-01-06 14:21:31,420:Client-EnsembleBuilder] No models better than random - using Dummy loss!Number of models besides current dummy model: 7. Number of dummy models: 1\n",
            "[WARNING] [2022-01-06 14:21:35,692:Client-EnsembleBuilder] No models better than random - using Dummy loss!Number of models besides current dummy model: 8. Number of dummy models: 1\n",
            "[WARNING] [2022-01-06 14:21:36,983:Client-EnsembleBuilder] No models better than random - using Dummy loss!Number of models besides current dummy model: 8. Number of dummy models: 1\n",
            "[WARNING] [2022-01-06 14:21:39,272:Client-EnsembleBuilder] No models better than random - using Dummy loss!Number of models besides current dummy model: 8. Number of dummy models: 1\n",
            "[WARNING] [2022-01-06 14:21:42,578:Client-EnsembleBuilder] No models better than random - using Dummy loss!Number of models besides current dummy model: 9. Number of dummy models: 1\n",
            "[WARNING] [2022-01-06 14:21:43,858:Client-EnsembleBuilder] No models better than random - using Dummy loss!Number of models besides current dummy model: 9. Number of dummy models: 1\n",
            "[WARNING] [2022-01-06 14:21:45,996:Client-EnsembleBuilder] No models better than random - using Dummy loss!Number of models besides current dummy model: 9. Number of dummy models: 1\n",
            "[WARNING] [2022-01-06 14:21:48,103:Client-EnsembleBuilder] No models better than random - using Dummy loss!Number of models besides current dummy model: 9. Number of dummy models: 1\n",
            "Accuracy: 0.9649315738025416\n",
            "\n",
            "\n",
            "Feature: 0, Score: 0.02405\n",
            "Feature: 1, Score: 0.08121\n",
            "Feature: 2, Score: 0.00000\n",
            "Feature: 3, Score: 0.62455\n",
            "Feature: 4, Score: 0.27020\n"
          ]
        },
        {
          "output_type": "display_data",
          "data": {
            "image/png": "[encoded data removed]",
            "text/plain": [
              "<Figure size 1080x576 with 1 Axes>"
            ]
          },
          "metadata": {
            "needs_background": "light"
          }
        }
      ],
      "source": [
        "#split dataset in features and target variable\n",
        "f_l = [\"Fuel_Mdot\",\"Tair\",\"Treturn\",\"Tsupply\",\"Water_Mdot\"]\n",
        "X_l = df_pre_1[f_l] # Features\n",
        "y_l = df_pre_1.Lean # Target variable\n",
        "\n",
        "\n",
        "# Split dataset into training set and test set\n",
        "X_train_l, X_test_l, y_train_l, y_test_l = train_test_split(X_l, y_l, test_size=0.3, random_state=1) # 70% training and 30% test\n",
        "\n",
        "\n",
        "automlclassifier = classifier.AutoSklearnClassifier(time_left_for_this_task=100, per_run_time_limit=30)\n",
        "automlclassifier.fit(X_train_l,y_train_l)\n",
        "\n",
        "y_pred_l=automlclassifier.predict(X_test_l)\n",
        "\n",
        "print(\"Accuracy:\",metrics.accuracy_score(y_test_l, y_pred_l))\n",
        "print(\"\\n\")\n",
        "\n",
        "\n",
        "plt.figure(figsize = (15,8))\n",
        "importance = clf.feature_importances_\n",
        "for i,v in enumerate(importance):\n",
        "\tprint('Feature: %0d, Score: %.5f' % (i,v))\n",
        "# plot feature importance\n",
        "plt.bar([x for x in range(len(importance))], importance)\n",
        "plt.title(\"Impact of features on 'Lean' \")\n",
        "plt.xlabel(\"Features\")\n",
        "plt.ylabel(\"Impact Score\")\n",
        "plt.show()"
      ]
    },
    {
      "cell_type": "markdown",
      "metadata": {
        "id": "VFkT2PphSc5p"
      },
      "source": [
        "##**Imapact of features on `Nominal`**"
      ]
    },
    {
      "cell_type": "code",
      "execution_count": 63,
      "metadata": {
        "colab": {
          "base_uri": "https://localhost:8080/",
          "height": 652
        },
        "id": "BjjdkW-ASc5p",
        "outputId": "be0ad369-da75-41ed-bb02-fa13fd22a97a"
      },
      "outputs": [
        {
          "output_type": "stream",
          "name": "stdout",
          "text": [
            "Accuracy: 0.9875366568914956\n",
            "\n",
            "\n",
            "Feature: 0, Score: 0.02405\n",
            "Feature: 1, Score: 0.08121\n",
            "Feature: 2, Score: 0.00000\n",
            "Feature: 3, Score: 0.62455\n",
            "Feature: 4, Score: 0.27020\n"
          ]
        },
        {
          "output_type": "display_data",
          "data": {
            "image/png": "[encoded data removed]",
            "text/plain": [
              "<Figure size 1080x576 with 1 Axes>"
            ]
          },
          "metadata": {
            "needs_background": "light"
          }
        }
      ],
      "source": [
        "#split dataset in features and target variable\n",
        "f_n = [\"Fuel_Mdot\",\"Tair\",\"Treturn\",\"Tsupply\",\"Water_Mdot\"]\n",
        "X_n = df_pre_1[f_n] # Features\n",
        "y_n = df_pre_1.Nominal # Target variable\n",
        "\n",
        "\n",
        "# Split dataset into training set and test set\n",
        "X_train_n, X_test_n, y_train_n, y_test_n = train_test_split(X_n, y_n, test_size=0.3, random_state=1) # 70% training and 30% test\n",
        "\n",
        "\n",
        "automlclassifier = classifier.AutoSklearnClassifier(time_left_for_this_task=100, per_run_time_limit=30)\n",
        "automlclassifier.fit(X_train_n,y_train_n)\n",
        "\n",
        "y_pred_n=automlclassifier.predict(X_test_n)\n",
        "\n",
        "print(\"Accuracy:\",metrics.accuracy_score(y_test_n, y_pred_n))\n",
        "print(\"\\n\")\n",
        "\n",
        "\n",
        "plt.figure(figsize = (15,8))\n",
        "importance = clf.feature_importances_\n",
        "for i,v in enumerate(importance):\n",
        "\tprint('Feature: %0d, Score: %.5f' % (i,v))\n",
        "# plot feature importance\n",
        "plt.bar([x for x in range(len(importance))], importance)\n",
        "plt.title(\"Impact of features on 'Nominal' \")\n",
        "plt.xlabel(\"Features\")\n",
        "plt.ylabel(\"Impact Score\")\n",
        "plt.show()"
      ]
    },
    {
      "cell_type": "markdown",
      "metadata": {
        "id": "CTce3Q5_d_ST"
      },
      "source": [
        "#**9. Effect on Accuracy after Feature Selection**"
      ]
    },
    {
      "cell_type": "markdown",
      "metadata": {
        "id": "7FgLMwkZe5PX"
      },
      "source": [
        "##**9.1 Through Decision Tree Classifier**"
      ]
    },
    {
      "cell_type": "code",
      "execution_count": 64,
      "metadata": {
        "colab": {
          "base_uri": "https://localhost:8080/"
        },
        "id": "X45_XiQTd_B4",
        "outputId": "9c5ac5d6-fae2-4325-feef-fa3815c53ba7"
      },
      "outputs": [
        {
          "output_type": "stream",
          "name": "stdout",
          "text": [
            "Accuracy: 95.36\n"
          ]
        }
      ],
      "source": [
        "#split dataset in features and target variable\n",
        "feature_cols = [\"Fuel_Mdot\",\"Tair\",\"Tsupply\",\"Water_Mdot\"]\n",
        "X = df[feature_cols] # Features\n",
        "y = df.Class # Target variable\n",
        "\n",
        "# Split dataset into training set and test set\n",
        "X_train, X_test, y_train, y_test = train_test_split(X, y, test_size=0.3, random_state=1) # 70% training and 30% test\n",
        "\n",
        "# Create Decision Tree classifer object\n",
        "clf = DecisionTreeClassifier()\n",
        "\n",
        "# Train Decision Tree Classifer\n",
        "clf = clf.fit(X_train,y_train)\n",
        "\n",
        "#Predict the response for test dataset\n",
        "y_pred = clf.predict(X_test)\n",
        "\n",
        "a_dtree1 = metrics.accuracy_score(y_test, y_pred)\n",
        "a_dtree1 = round(a_dtree1*100,2)\n",
        "# Model Accuracy, how often is the classifier correct?\n",
        "print(\"Accuracy:\", a_dtree1)"
      ]
    },
    {
      "cell_type": "markdown",
      "metadata": {
        "id": "Q_JxnMCRe-Vu"
      },
      "source": [
        "##**9.2 Through Auto ML**"
      ]
    },
    {
      "cell_type": "code",
      "execution_count": null,
      "metadata": {
        "id": "xboD0ttNeXmW"
      },
      "outputs": [],
      "source": [
        "automlclassifier = classifier.AutoSklearnClassifier(time_left_for_this_task=2700, per_run_time_limit=90)\n",
        "automlclassifier.fit(X_train,y_train)\n",
        "\n",
        "y_pred=automlclassifier.predict(X_test)\n",
        "\n",
        "a_ml1 = accuracy_score(y_test, y_pred)\n",
        "a_ml1 = round(a_ml1*100,2)\n",
        "print(\"Accuracy: \", a_ml1)"
      ]
    },
    {
      "cell_type": "code",
      "execution_count": null,
      "metadata": {
        "id": "kSfqpV71e2p5"
      },
      "outputs": [],
      "source": [
        "import numpy as np\n",
        "import matplotlib.pyplot as plt\n",
        "\n",
        "# function to add value labels\n",
        "def addlabels(x,y):\n",
        "    for i in range(len(x)):\n",
        "        plt.text(i,y[i],y[i])\n",
        "\n",
        "# set width of bar\n",
        "barWidth = 0.25\n",
        "fig = plt.subplots(figsize =(15, 10))\n",
        " \n",
        "# set height of bar\n",
        "Decision_Tree = [95.21,95.25]\n",
        "Auto_ml = [93.28, 93.43]\n",
        "\n",
        "# Set position of bar on X axis\n",
        "br1 = np.arange(len(Auto_ml))\n",
        "br2 = [x + barWidth for x in br1]\n",
        "br3 = [x + barWidth for x in br2]\n",
        " \n",
        "# Make the plot\n",
        "plt.bar(br1, Decision_Tree, color ='lightpink', width = barWidth,\n",
        "        edgecolor ='grey', label ='Accuracy after Feature Selection')\n",
        "plt.bar(br2, Auto_ml, color ='lightgreen', width = barWidth,\n",
        "        edgecolor ='grey', label ='Accuracy before Feature Selection')\n",
        "\n",
        " \n",
        "# Adding Xticks\n",
        "plt.xlabel('Classifier', fontweight ='bold', fontsize = 15)\n",
        "plt.ylabel('Accuracy', fontweight ='bold', fontsize = 15)\n",
        "plt.xticks([r + barWidth for r in range(len(Auto_ml))],\n",
        "        ['Decision Tree',\"Auto ML\"])\n",
        " \n",
        "plt.legend()\n",
        "plt.show()\n",
        " \n",
        "\n",
        "  \n",
        "if __name__ == '__main__':\n",
        "\n",
        "    x = ['Auto ML','Decision Tree',  'Random Forest' , 'XG Boost' , 'SVM', 'KNN']\n",
        "    y = [a_ml, a_dtree, a_rf, a_xg, a_svm, a_knn]\n",
        "\n",
        "    plt.figure(figsize=(15,10))  \n",
        "    plt.bar(x, y, color=['orange', 'blue', 'red', 'purple', 'green', 'brown']) \n",
        "    addlabels(x, y)\n",
        "      \n",
        "    plt.title(\"Comparison of Accuracies for Classification Models\")\n",
        "    plt.xlabel(\"Classifier\")\n",
        "    plt.ylabel(\"Accuracy\")\n",
        "    plt.show()"
      ]
    },
    {
      "cell_type": "code",
      "execution_count": null,
      "metadata": {
        "id": "XYFzdYBAjzsX"
      },
      "outputs": [],
      "source": [
        ""
      ]
    }
  ],
  "metadata": {
    "accelerator": "GPU",
    "colab": {
      "collapsed_sections": [],
      "name": "PHM_Boiler.ipynb",
      "provenance": []
    },
    "kernelspec": {
      "display_name": "Python 3",
      "name": "python3"
    },
    "language_info": {
      "name": "python"
    }
  },
  "nbformat": 4,
  "nbformat_minor": 0
}