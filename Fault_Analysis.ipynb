{
  "cells": [
    {
      "cell_type": "markdown",
      "metadata": {
        "id": "m9hJaqZgKiK1"
      },
      "source": [
        "#**1. IMPORTING LIBRARIES**"
      ]
    },
    {
      "cell_type": "code",
      "execution_count": null,
      "metadata": {
        "id": "-Ftieih2Itp7"
      },
      "outputs": [],
      "source": [
        "import pandas as pd\n",
        "import numpy as np\n",
        "from sklearn.metrics import confusion_matrix, accuracy_score, recall_score, precision_score\n",
        "import keras\n",
        "import seaborn as sns\n",
        "from keras.models import Sequential\n",
        "from sklearn.model_selection import train_test_split\n",
        "from sklearn.linear_model import LinearRegression\n",
        "from sklearn import datasets, linear_model\n",
        "import matplotlib.pyplot as plt\n",
        "%matplotlib inline"
      ]
    },
    {
      "cell_type": "markdown",
      "metadata": {
        "id": "Wmv4VsXNK0rA"
      },
      "source": [
        "#**2. LOADING DATASET**"
      ]
    },
    {
      "cell_type": "code",
      "execution_count": null,
      "metadata": {
        "colab": {
          "base_uri": "https://localhost:8080/",
          "height": 206
        },
        "id": "9M4ZyYGUKLg1",
        "outputId": "4fce3226-1307-4ace-82f6-03c4ec030792"
      },
      "outputs": [
        {
          "output_type": "execute_result",
          "data": {
            "text/html": [
              "\n",
              "  <div id=\"df-b311a345-ec3e-4f60-a247-190e5428dbff\">\n",
              "    <div class=\"colab-df-container\">\n",
              "      <div>\n",
              "<style scoped>\n",
              "    .dataframe tbody tr th:only-of-type {\n",
              "        vertical-align: middle;\n",
              "    }\n",
              "\n",
              "    .dataframe tbody tr th {\n",
              "        vertical-align: top;\n",
              "    }\n",
              "\n",
              "    .dataframe thead th {\n",
              "        text-align: right;\n",
              "    }\n",
              "</style>\n",
              "<table border=\"1\" class=\"dataframe\">\n",
              "  <thead>\n",
              "    <tr style=\"text-align: right;\">\n",
              "      <th></th>\n",
              "      <th>Fuel_Mdot</th>\n",
              "      <th>Tair</th>\n",
              "      <th>Treturn</th>\n",
              "      <th>Tsupply</th>\n",
              "      <th>Water_Mdot</th>\n",
              "      <th>Condition</th>\n",
              "      <th>Class</th>\n",
              "    </tr>\n",
              "  </thead>\n",
              "  <tbody>\n",
              "    <tr>\n",
              "      <th>0</th>\n",
              "      <td>1</td>\n",
              "      <td>283</td>\n",
              "      <td>333.0</td>\n",
              "      <td>363.574744</td>\n",
              "      <td>3.0</td>\n",
              "      <td>%=0.05</td>\n",
              "      <td>Lean</td>\n",
              "    </tr>\n",
              "    <tr>\n",
              "      <th>1</th>\n",
              "      <td>1</td>\n",
              "      <td>283</td>\n",
              "      <td>333.0</td>\n",
              "      <td>362.349517</td>\n",
              "      <td>3.0</td>\n",
              "      <td>%=0.1</td>\n",
              "      <td>Nominal</td>\n",
              "    </tr>\n",
              "    <tr>\n",
              "      <th>2</th>\n",
              "      <td>1</td>\n",
              "      <td>283</td>\n",
              "      <td>333.0</td>\n",
              "      <td>361.216941</td>\n",
              "      <td>3.0</td>\n",
              "      <td>%=0.15</td>\n",
              "      <td>ExcessAir</td>\n",
              "    </tr>\n",
              "    <tr>\n",
              "      <th>3</th>\n",
              "      <td>1</td>\n",
              "      <td>283</td>\n",
              "      <td>333.0</td>\n",
              "      <td>360.166890</td>\n",
              "      <td>3.0</td>\n",
              "      <td>%=0.20</td>\n",
              "      <td>ExcessAir</td>\n",
              "    </tr>\n",
              "    <tr>\n",
              "      <th>4</th>\n",
              "      <td>1</td>\n",
              "      <td>283</td>\n",
              "      <td>333.0</td>\n",
              "      <td>359.190662</td>\n",
              "      <td>3.0</td>\n",
              "      <td>%=0.25</td>\n",
              "      <td>ExcessAir</td>\n",
              "    </tr>\n",
              "  </tbody>\n",
              "</table>\n",
              "</div>\n",
              "      <button class=\"colab-df-convert\" onclick=\"convertToInteractive('df-b311a345-ec3e-4f60-a247-190e5428dbff')\"\n",
              "              title=\"Convert this dataframe to an interactive table.\"\n",
              "              style=\"display:none;\">\n",
              "        \n",
              "  <svg xmlns=\"http://www.w3.org/2000/svg\" height=\"24px\"viewBox=\"0 0 24 24\"\n",
              "       width=\"24px\">\n",
              "    <path d=\"M0 0h24v24H0V0z\" fill=\"none\"/>\n",
              "    <path d=\"M18.56 5.44l.94 2.06.94-2.06 2.06-.94-2.06-.94-.94-2.06-.94 2.06-2.06.94zm-11 1L8.5 8.5l.94-2.06 2.06-.94-2.06-.94L8.5 2.5l-.94 2.06-2.06.94zm10 10l.94 2.06.94-2.06 2.06-.94-2.06-.94-.94-2.06-.94 2.06-2.06.94z\"/><path d=\"M17.41 7.96l-1.37-1.37c-.4-.4-.92-.59-1.43-.59-.52 0-1.04.2-1.43.59L10.3 9.45l-7.72 7.72c-.78.78-.78 2.05 0 2.83L4 21.41c.39.39.9.59 1.41.59.51 0 1.02-.2 1.41-.59l7.78-7.78 2.81-2.81c.8-.78.8-2.07 0-2.86zM5.41 20L4 18.59l7.72-7.72 1.47 1.35L5.41 20z\"/>\n",
              "  </svg>\n",
              "      </button>\n",
              "      \n",
              "  <style>\n",
              "    .colab-df-container {\n",
              "      display:flex;\n",
              "      flex-wrap:wrap;\n",
              "      gap: 12px;\n",
              "    }\n",
              "\n",
              "    .colab-df-convert {\n",
              "      background-color: #E8F0FE;\n",
              "      border: none;\n",
              "      border-radius: 50%;\n",
              "      cursor: pointer;\n",
              "      display: none;\n",
              "      fill: #1967D2;\n",
              "      height: 32px;\n",
              "      padding: 0 0 0 0;\n",
              "      width: 32px;\n",
              "    }\n",
              "\n",
              "    .colab-df-convert:hover {\n",
              "      background-color: #E2EBFA;\n",
              "      box-shadow: 0px 1px 2px rgba(60, 64, 67, 0.3), 0px 1px 3px 1px rgba(60, 64, 67, 0.15);\n",
              "      fill: #174EA6;\n",
              "    }\n",
              "\n",
              "    [theme=dark] .colab-df-convert {\n",
              "      background-color: #3B4455;\n",
              "      fill: #D2E3FC;\n",
              "    }\n",
              "\n",
              "    [theme=dark] .colab-df-convert:hover {\n",
              "      background-color: #434B5C;\n",
              "      box-shadow: 0px 1px 3px 1px rgba(0, 0, 0, 0.15);\n",
              "      filter: drop-shadow(0px 1px 2px rgba(0, 0, 0, 0.3));\n",
              "      fill: #FFFFFF;\n",
              "    }\n",
              "  </style>\n",
              "\n",
              "      <script>\n",
              "        const buttonEl =\n",
              "          document.querySelector('#df-b311a345-ec3e-4f60-a247-190e5428dbff button.colab-df-convert');\n",
              "        buttonEl.style.display =\n",
              "          google.colab.kernel.accessAllowed ? 'block' : 'none';\n",
              "\n",
              "        async function convertToInteractive(key) {\n",
              "          const element = document.querySelector('#df-b311a345-ec3e-4f60-a247-190e5428dbff');\n",
              "          const dataTable =\n",
              "            await google.colab.kernel.invokeFunction('convertToInteractive',\n",
              "                                                     [key], {});\n",
              "          if (!dataTable) return;\n",
              "\n",
              "          const docLinkHtml = 'Like what you see? Visit the ' +\n",
              "            '<a target=\"_blank\" href=https://colab.research.google.com/notebooks/data_table.ipynb>data table notebook</a>'\n",
              "            + ' to learn more about interactive tables.';\n",
              "          element.innerHTML = '';\n",
              "          dataTable['output_type'] = 'display_data';\n",
              "          await google.colab.output.renderOutput(dataTable, element);\n",
              "          const docLink = document.createElement('div');\n",
              "          docLink.innerHTML = docLinkHtml;\n",
              "          element.appendChild(docLink);\n",
              "        }\n",
              "      </script>\n",
              "    </div>\n",
              "  </div>\n",
              "  "
            ],
            "text/plain": [
              "   Fuel_Mdot  Tair  Treturn     Tsupply  Water_Mdot Condition      Class\n",
              "0          1   283    333.0  363.574744         3.0    %=0.05       Lean\n",
              "1          1   283    333.0  362.349517         3.0     %=0.1    Nominal\n",
              "2          1   283    333.0  361.216941         3.0    %=0.15  ExcessAir\n",
              "3          1   283    333.0  360.166890         3.0    %=0.20  ExcessAir\n",
              "4          1   283    333.0  359.190662         3.0    %=0.25  ExcessAir"
            ]
          },
          "metadata": {},
          "execution_count": 2
        }
      ],
      "source": [
        "df=pd.read_csv('/content/drive/MyDrive/FDAI/dataset.csv')\n",
        "df.head(5)"
      ]
    },
    {
      "cell_type": "markdown",
      "metadata": {
        "id": "q_ClhDnucjYv"
      },
      "source": [
        "#**3. DATASET ANALYSIS**"
      ]
    },
    {
      "cell_type": "markdown",
      "metadata": {
        "id": "PPI1TFjK_bTS"
      },
      "source": [
        "##**3.1 Rows and Columns**"
      ]
    },
    {
      "cell_type": "code",
      "execution_count": null,
      "metadata": {
        "colab": {
          "base_uri": "https://localhost:8080/"
        },
        "id": "3wZ7Cq9EK929",
        "outputId": "6b39ec88-cbc3-4abf-cc74-a1c8781f2647"
      },
      "outputs": [
        {
          "output_type": "stream",
          "name": "stdout",
          "text": [
            "Shape of the dataset is:  (27280, 7)\n"
          ]
        }
      ],
      "source": [
        "#Determining Number of Rows and Columns of the dataset\n",
        "print(\"Shape of the dataset is: \",df.shape)"
      ]
    },
    {
      "cell_type": "markdown",
      "metadata": {
        "id": "yD4KAbLL_jVM"
      },
      "source": [
        "##**3.2 Data-type and Null Values**"
      ]
    },
    {
      "cell_type": "code",
      "execution_count": null,
      "metadata": {
        "colab": {
          "base_uri": "https://localhost:8080/"
        },
        "id": "T6OwPx7mNIEp",
        "outputId": "eac73fdb-3d67-4de5-87ae-de94cd38e381"
      },
      "outputs": [
        {
          "output_type": "stream",
          "name": "stdout",
          "text": [
            "<class 'pandas.core.frame.DataFrame'>\n",
            "RangeIndex: 27280 entries, 0 to 27279\n",
            "Data columns (total 7 columns):\n",
            " #   Column      Non-Null Count  Dtype  \n",
            "---  ------      --------------  -----  \n",
            " 0   Fuel_Mdot   27280 non-null  int64  \n",
            " 1   Tair        27280 non-null  int64  \n",
            " 2   Treturn     27280 non-null  float64\n",
            " 3   Tsupply     27280 non-null  float64\n",
            " 4   Water_Mdot  27280 non-null  float64\n",
            " 5   Condition   27280 non-null  object \n",
            " 6   Class       27280 non-null  object \n",
            "dtypes: float64(3), int64(2), object(2)\n",
            "memory usage: 1.5+ MB\n"
          ]
        }
      ],
      "source": [
        "\n",
        "\n",
        "\n",
        "\n",
        "\n",
        "#Determining the data-type and NULL Values of columns\n",
        "df.info()"
      ]
    },
    {
      "cell_type": "markdown",
      "metadata": {
        "id": "CTa2ut6FADzW"
      },
      "source": [
        "##**3.3 Unique Classes**"
      ]
    },
    {
      "cell_type": "code",
      "execution_count": null,
      "metadata": {
        "colab": {
          "base_uri": "https://localhost:8080/"
        },
        "id": "NYyokCJ3PXQp",
        "outputId": "75c5f4e9-2b7d-45c5-8537-8ebfb1b07790"
      },
      "outputs": [
        {
          "output_type": "stream",
          "name": "stdout",
          "text": [
            "Number of unique classes:  5\n",
            "\n",
            "Types of classes:  ['Lean' 'Nominal' 'ExcessAir' 'Fouling' 'Scaling']\n"
          ]
        }
      ],
      "source": [
        "#Determining types of unique faults in the dataset\n",
        "print(\"Number of unique classes: \",len(pd.unique(df['Class'])))\n",
        "print(\"\\nTypes of classes: \",df.Class.unique())"
      ]
    },
    {
      "cell_type": "code",
      "execution_count": null,
      "metadata": {
        "colab": {
          "base_uri": "https://localhost:8080/"
        },
        "id": "aNlgZ04wNN9f",
        "outputId": "34d75dd2-2bbc-4f2b-893f-1f5fac62bc56"
      },
      "outputs": [
        {
          "output_type": "execute_result",
          "data": {
            "text/plain": [
              "Scaling      32.258065\n",
              "Fouling      32.258065\n",
              "ExcessAir    25.806452\n",
              "Nominal       6.451613\n",
              "Lean          3.225806\n",
              "Name: Class, dtype: float64"
            ]
          },
          "metadata": {},
          "execution_count": 6
        }
      ],
      "source": [
        "#Determining the percentage of each class in the dataset\n",
        "class_rate = df.Class.value_counts() / 27280\n",
        "class_rate*100"
      ]
    },
    {
      "cell_type": "code",
      "execution_count": null,
      "metadata": {
        "colab": {
          "base_uri": "https://localhost:8080/"
        },
        "id": "-QDo8Qlk4lQ5",
        "outputId": "a757cde4-0d9e-4d16-b0b5-34fd28bf8128"
      },
      "outputs": [
        {
          "output_type": "execute_result",
          "data": {
            "text/plain": [
              "([<matplotlib.patches.Wedge at 0x7fe3a5412ed0>,\n",
              "  <matplotlib.patches.Wedge at 0x7fe3a5423390>,\n",
              "  <matplotlib.patches.Wedge at 0x7fe3a5423350>,\n",
              "  <matplotlib.patches.Wedge at 0x7fe3a5423a10>,\n",
              "  <matplotlib.patches.Wedge at 0x7fe3a54308d0>],\n",
              " [Text(0.5818604395536556, 0.933508665670773, 'Scaling'),\n",
              "  Text(-1.0943562456479174, 0.111285253342008, 'Fouling'),\n",
              "  Text(0.16657039762645068, -1.0873151809087218, 'ExcessAir'),\n",
              "  Text(1.0108535167938453, -0.43379161769853913, 'Nominal'),\n",
              "  Text(1.0943562339262245, -0.11128536861066199, 'Lean')])"
            ]
          },
          "metadata": {},
          "execution_count": 7
        },
        {
          "output_type": "display_data",
          "data": {
            "image/png": "[encoded data removed]",
            "text/plain": [
              "<Figure size 1080x720 with 1 Axes>"
            ]
          },
          "metadata": {}
        }
      ],
      "source": [
        "plt.figure(figsize=(15,10))\n",
        "data = np.array([32.258065, 32.258065, 25.806452, 6.451613, 3.225806])\n",
        "class_unique = ['Scaling' ,'Fouling', 'ExcessAir' ,'Nominal' ,'Lean']\n",
        "\n",
        "plt.pie( data , labels = class_unique)\n"
      ]
    },
    {
      "cell_type": "markdown",
      "metadata": {
        "id": "9B-MSlZ6AKHG"
      },
      "source": [
        "##**3.4 Unique Conditions**"
      ]
    },
    {
      "cell_type": "code",
      "execution_count": null,
      "metadata": {
        "colab": {
          "base_uri": "https://localhost:8080/"
        },
        "id": "rAoxpKUL2_jG",
        "outputId": "f24fa73a-0250-4017-a88e-912edc45ec89"
      },
      "outputs": [
        {
          "output_type": "stream",
          "name": "stdout",
          "text": [
            "Number of conditions:  31\n",
            "\n",
            "Types of conditions: \n",
            " ['%=0.05' '%=0.1' '%=0.15' '%=0.20' '%=0.25' '%=0.3' '%=0.35' '%=0.40'\n",
            " '%=0.45' '%=0.50' 'F = 0.01' 'F = 0.06' 'F = 0.11' 'F = 0.16' 'F = 0.21'\n",
            " 'F = 0.26' 'F = 0.31' 'F = 0.36' 'F = 0.41' 'F = 0.46' 'S = 0.01'\n",
            " 'S = 0.06' 'S = 0.11' 'S = 0.16' 'S = 0.21' 'S = 0.26' 'S = 0.31'\n",
            " 'S = 0.36' 'S = 0.41' 'S = 0.46' 'Nominal']\n"
          ]
        }
      ],
      "source": [
        "#Determing the types of unique conditions for the occurence of faults\n",
        "print(\"Number of conditions: \",len(pd.unique(df['Condition'])))\n",
        "print(\"\\nTypes of conditions: \\n\",df.Condition.unique())"
      ]
    },
    {
      "cell_type": "code",
      "execution_count": null,
      "metadata": {
        "colab": {
          "base_uri": "https://localhost:8080/"
        },
        "id": "_OTKnAKgAfbb",
        "outputId": "cea4ecd7-3d50-41a1-96fd-d1ccc4eff69f"
      },
      "outputs": [
        {
          "output_type": "execute_result",
          "data": {
            "text/plain": [
              "F = 0.36    3.225806\n",
              "S = 0.01    3.225806\n",
              "%=0.35      3.225806\n",
              "F = 0.46    3.225806\n",
              "S = 0.06    3.225806\n",
              "F = 0.16    3.225806\n",
              "S = 0.46    3.225806\n",
              "F = 0.41    3.225806\n",
              "Nominal     3.225806\n",
              "S = 0.36    3.225806\n",
              "F = 0.21    3.225806\n",
              "%=0.15      3.225806\n",
              "F = 0.01    3.225806\n",
              "%=0.40      3.225806\n",
              "S = 0.26    3.225806\n",
              "S = 0.21    3.225806\n",
              "S = 0.31    3.225806\n",
              "%=0.3       3.225806\n",
              "%=0.45      3.225806\n",
              "S = 0.16    3.225806\n",
              "F = 0.06    3.225806\n",
              "F = 0.26    3.225806\n",
              "F = 0.31    3.225806\n",
              "%=0.05      3.225806\n",
              "%=0.50      3.225806\n",
              "%=0.25      3.225806\n",
              "F = 0.11    3.225806\n",
              "S = 0.11    3.225806\n",
              "%=0.1       3.225806\n",
              "%=0.20      3.225806\n",
              "S = 0.41    3.225806\n",
              "Name: Condition, dtype: float64"
            ]
          },
          "metadata": {},
          "execution_count": 9
        }
      ],
      "source": [
        "#Determining the percentage of each condition in the dataset\n",
        "class_rate = df.Condition.value_counts() / 27280\n",
        "class_rate*100"
      ]
    },
    {
      "cell_type": "markdown",
      "metadata": {
        "id": "G1wFF1ZgCPUy"
      },
      "source": [
        "#**4. DATA VISUALIZATION**"
      ]
    },
    {
      "cell_type": "code",
      "execution_count": null,
      "metadata": {
        "colab": {
          "base_uri": "https://localhost:8080/"
        },
        "id": "TzgrqUHrCUHM",
        "outputId": "49a8bc7e-606c-4914-b905-a5abebb81d8a"
      },
      "outputs": [
        {
          "output_type": "execute_result",
          "data": {
            "text/plain": [
              "<matplotlib.axes._subplots.AxesSubplot at 0x7fe3a53ed850>"
            ]
          },
          "metadata": {},
          "execution_count": 10
        },
        {
          "output_type": "display_data",
          "data": {
            "image/png": "[encoded data removed]",
            "text/plain": [
              "<Figure size 1080x720 with 1 Axes>"
            ]
          },
          "metadata": {
            "needs_background": "light"
          }
        }
      ],
      "source": [
        "\n",
        "plt.figure(figsize=(15,10))\n",
        "\n",
        "plt.xlabel(\"Fuel Flow Rate [kg/s]\")\n",
        "df['Fuel_Mdot'].plot.hist()"
      ]
    },
    {
      "cell_type": "code",
      "execution_count": null,
      "metadata": {
        "colab": {
          "base_uri": "https://localhost:8080/"
        },
        "id": "EZxpQUYaCzjr",
        "outputId": "e288212a-c3be-4c2f-9654-c831e5a2f372"
      },
      "outputs": [
        {
          "output_type": "execute_result",
          "data": {
            "text/plain": [
              "<matplotlib.axes._subplots.AxesSubplot at 0x7fe3a4f23310>"
            ]
          },
          "metadata": {},
          "execution_count": 11
        },
        {
          "output_type": "display_data",
          "data": {
            "image/png": "[encoded data removed]",
            "text/plain": [
              "<Figure size 1080x720 with 1 Axes>"
            ]
          },
          "metadata": {
            "needs_background": "light"
          }
        }
      ],
      "source": [
        "plt.figure(figsize=(15,10))\n",
        "plt.xlabel(\"Boiler Loop Flow Rate [kg/s]\")\n",
        "df['Water_Mdot'].plot.hist()"
      ]
    },
    {
      "cell_type": "code",
      "execution_count": null,
      "metadata": {
        "colab": {
          "base_uri": "https://localhost:8080/"
        },
        "id": "3mj-IrABC5rG",
        "outputId": "f70459f8-0fae-4663-858d-d9a13b6b48c5"
      },
      "outputs": [
        {
          "output_type": "execute_result",
          "data": {
            "text/plain": [
              "<matplotlib.axes._subplots.AxesSubplot at 0x7fe3a4e1de90>"
            ]
          },
          "metadata": {},
          "execution_count": 12
        },
        {
          "output_type": "display_data",
          "data": {
            "image/png": "[encoded data removed]",
            "text/plain": [
              "<Figure size 1080x720 with 1 Axes>"
            ]
          },
          "metadata": {
            "needs_background": "light"
          }
        }
      ],
      "source": [
        "plt.figure(figsize=(15,10))\n",
        "plt.xlabel(\"Ambient AirCondition [K]\")\n",
        "df['Tair'].plot.hist()"
      ]
    },
    {
      "cell_type": "code",
      "execution_count": null,
      "metadata": {
        "colab": {
          "base_uri": "https://localhost:8080/"
        },
        "id": "YN0bagkgC-OL",
        "outputId": "3c3f5561-477e-4b78-b3b0-5854e4ec959f"
      },
      "outputs": [
        {
          "output_type": "execute_result",
          "data": {
            "text/plain": [
              "<matplotlib.axes._subplots.AxesSubplot at 0x7fe3a4d58d50>"
            ]
          },
          "metadata": {},
          "execution_count": 13
        },
        {
          "output_type": "display_data",
          "data": {
            "image/png": "[encoded data removed]",
            "text/plain": [
              "<Figure size 1080x720 with 1 Axes>"
            ]
          },
          "metadata": {
            "needs_background": "light"
          }
        }
      ],
      "source": [
        "plt.figure(figsize=(15,10))\n",
        "plt.xlabel(\"Boiler Entering Water Temperature [K]\")\n",
        "df['Treturn'].plot.hist()"
      ]
    },
    {
      "cell_type": "code",
      "execution_count": null,
      "metadata": {
        "colab": {
          "base_uri": "https://localhost:8080/"
        },
        "id": "CILgwS5BDA7J",
        "outputId": "8b8e812b-d6d3-4f42-a768-e8db5fbe5a15"
      },
      "outputs": [
        {
          "output_type": "execute_result",
          "data": {
            "text/plain": [
              "<matplotlib.axes._subplots.AxesSubplot at 0x7fe3a4cdfc90>"
            ]
          },
          "metadata": {},
          "execution_count": 14
        },
        {
          "output_type": "display_data",
          "data": {
            "image/png": "[encoded data removed]",
            "text/plain": [
              "<Figure size 1080x720 with 1 Axes>"
            ]
          },
          "metadata": {
            "needs_background": "light"
          }
        }
      ],
      "source": [
        "plt.figure(figsize=(15,10))\n",
        "plt.xlabel(\"Boiler Leaving Water Temperature [K]\")\n",
        "df['Tsupply'].plot.hist()"
      ]
    },
    {
      "cell_type": "code",
      "execution_count": null,
      "metadata": {
        "colab": {
          "base_uri": "https://localhost:8080/"
        },
        "id": "bxpoRJS_rKyx",
        "outputId": "af69d713-9c87-4443-d138-d67db140c7ed"
      },
      "outputs": [
        {
          "output_type": "stream",
          "name": "stderr",
          "text": [
            "/usr/local/lib/python3.7/dist-packages/ipykernel_launcher.py:8: FutureWarning: Support for multi-dimensional indexing (e.g. `obj[:, None]`) is deprecated and will be removed in a future version.  Convert to a numpy array before indexing instead.\n",
            "  \n"
          ]
        },
        {
          "output_type": "execute_result",
          "data": {
            "text/plain": [
              "<matplotlib.axes._subplots.AxesSubplot at 0x7fe3a4c6b590>"
            ]
          },
          "metadata": {},
          "execution_count": 15
        },
        {
          "output_type": "display_data",
          "data": {
            "image/png": "[encoded data removed]",
            "text/plain": [
              "<Figure size 1080x720 with 2 Axes>"
            ]
          },
          "metadata": {
            "needs_background": "light"
          }
        }
      ],
      "source": [
        "## Checking for correlation between different variables\n",
        "\n",
        "import seaborn as sns\n",
        "df_features =df[['Fuel_Mdot', 'Tair',\t'Treturn',\t'Tsupply',\t'Water_Mdot']]\n",
        "plt.figure(figsize = (15,10))\n",
        "df_features_corr = df_features.corr()\n",
        "\n",
        "c = df_features_corr.astype('float') / df_features_corr.sum(axis=1)[:, np.newaxis]\n",
        "sns.heatmap(df_features_corr,annot=True)"
      ]
    },
    {
      "cell_type": "markdown",
      "metadata": {
        "id": "B0jpXnAqsV0m"
      },
      "source": [
        "**Observations from Correlation Matrix**\n",
        "\n",
        "* There is a negative correlation between:\n",
        "  * Treturn - Tsupply\n",
        "  * Water_Mdot - Tsupply\n",
        "  * ***Description: Variables are inversely proportional to each other***\n",
        "\n",
        "* There is a positive correlation between:\n",
        "  * Tsupply - Fuel_Mdot\n",
        "  * Tsupply - Tair\n",
        "  * Water_Mdot - Treturn\n",
        "  * ***Description: Variables are proportional to each other***\n",
        "\n",
        "* There is NO correlation between:\n",
        "  * Water_Mdot - Fuel_Mdot\n",
        "  * Water_Mdot - Tair\n",
        "  * Tair - Fuel_Mdot\n",
        "  * Treturn - Fuel_Mdot\n",
        "  * Treturn - Tair\n",
        "  * ***Description: The variables are independent of each other and has no predictive relationship***\n"
      ]
    },
    {
      "cell_type": "markdown",
      "metadata": {
        "id": "3W_0Kbexq4v0"
      },
      "source": [
        "#**5. DATA PREPROCESSING**"
      ]
    },
    {
      "cell_type": "markdown",
      "metadata": {
        "id": "p2aZoDoPR_D2"
      },
      "source": [
        "##**5.1 Processing of Categorical Variables**"
      ]
    },
    {
      "cell_type": "markdown",
      "metadata": {
        "id": "oEDbDFWAAtBi"
      },
      "source": [
        "##**5.1.1 Dummy Variable - Class**"
      ]
    },
    {
      "cell_type": "code",
      "execution_count": null,
      "metadata": {
        "colab": {
          "base_uri": "https://localhost:8080/",
          "height": 363
        },
        "id": "GRfUYwe0SDw5",
        "outputId": "bb3cf33b-35c4-4187-ef75-1f6ca57c03e9"
      },
      "outputs": [
        {
          "output_type": "execute_result",
          "data": {
            "text/html": [
              "\n",
              "  <div id=\"df-a17acacf-dbcb-4ca9-93af-9a7818e8f2b2\">\n",
              "    <div class=\"colab-df-container\">\n",
              "      <div>\n",
              "<style scoped>\n",
              "    .dataframe tbody tr th:only-of-type {\n",
              "        vertical-align: middle;\n",
              "    }\n",
              "\n",
              "    .dataframe tbody tr th {\n",
              "        vertical-align: top;\n",
              "    }\n",
              "\n",
              "    .dataframe thead th {\n",
              "        text-align: right;\n",
              "    }\n",
              "</style>\n",
              "<table border=\"1\" class=\"dataframe\">\n",
              "  <thead>\n",
              "    <tr style=\"text-align: right;\">\n",
              "      <th></th>\n",
              "      <th>Fuel_Mdot</th>\n",
              "      <th>Tair</th>\n",
              "      <th>Treturn</th>\n",
              "      <th>Tsupply</th>\n",
              "      <th>Water_Mdot</th>\n",
              "      <th>Condition</th>\n",
              "      <th>ExcessAir</th>\n",
              "      <th>Fouling</th>\n",
              "      <th>Lean</th>\n",
              "      <th>Nominal</th>\n",
              "      <th>Scaling</th>\n",
              "    </tr>\n",
              "  </thead>\n",
              "  <tbody>\n",
              "    <tr>\n",
              "      <th>0</th>\n",
              "      <td>1</td>\n",
              "      <td>283</td>\n",
              "      <td>333.0</td>\n",
              "      <td>363.574744</td>\n",
              "      <td>3.0</td>\n",
              "      <td>%=0.05</td>\n",
              "      <td>0</td>\n",
              "      <td>0</td>\n",
              "      <td>1</td>\n",
              "      <td>0</td>\n",
              "      <td>0</td>\n",
              "    </tr>\n",
              "    <tr>\n",
              "      <th>1</th>\n",
              "      <td>1</td>\n",
              "      <td>283</td>\n",
              "      <td>333.0</td>\n",
              "      <td>362.349517</td>\n",
              "      <td>3.0</td>\n",
              "      <td>%=0.1</td>\n",
              "      <td>0</td>\n",
              "      <td>0</td>\n",
              "      <td>0</td>\n",
              "      <td>1</td>\n",
              "      <td>0</td>\n",
              "    </tr>\n",
              "    <tr>\n",
              "      <th>2</th>\n",
              "      <td>1</td>\n",
              "      <td>283</td>\n",
              "      <td>333.0</td>\n",
              "      <td>361.216941</td>\n",
              "      <td>3.0</td>\n",
              "      <td>%=0.15</td>\n",
              "      <td>1</td>\n",
              "      <td>0</td>\n",
              "      <td>0</td>\n",
              "      <td>0</td>\n",
              "      <td>0</td>\n",
              "    </tr>\n",
              "    <tr>\n",
              "      <th>3</th>\n",
              "      <td>1</td>\n",
              "      <td>283</td>\n",
              "      <td>333.0</td>\n",
              "      <td>360.166890</td>\n",
              "      <td>3.0</td>\n",
              "      <td>%=0.20</td>\n",
              "      <td>1</td>\n",
              "      <td>0</td>\n",
              "      <td>0</td>\n",
              "      <td>0</td>\n",
              "      <td>0</td>\n",
              "    </tr>\n",
              "    <tr>\n",
              "      <th>4</th>\n",
              "      <td>1</td>\n",
              "      <td>283</td>\n",
              "      <td>333.0</td>\n",
              "      <td>359.190662</td>\n",
              "      <td>3.0</td>\n",
              "      <td>%=0.25</td>\n",
              "      <td>1</td>\n",
              "      <td>0</td>\n",
              "      <td>0</td>\n",
              "      <td>0</td>\n",
              "      <td>0</td>\n",
              "    </tr>\n",
              "    <tr>\n",
              "      <th>5</th>\n",
              "      <td>1</td>\n",
              "      <td>283</td>\n",
              "      <td>333.0</td>\n",
              "      <td>358.280736</td>\n",
              "      <td>3.0</td>\n",
              "      <td>%=0.3</td>\n",
              "      <td>1</td>\n",
              "      <td>0</td>\n",
              "      <td>0</td>\n",
              "      <td>0</td>\n",
              "      <td>0</td>\n",
              "    </tr>\n",
              "    <tr>\n",
              "      <th>6</th>\n",
              "      <td>1</td>\n",
              "      <td>283</td>\n",
              "      <td>333.0</td>\n",
              "      <td>357.430579</td>\n",
              "      <td>3.0</td>\n",
              "      <td>%=0.35</td>\n",
              "      <td>1</td>\n",
              "      <td>0</td>\n",
              "      <td>0</td>\n",
              "      <td>0</td>\n",
              "      <td>0</td>\n",
              "    </tr>\n",
              "    <tr>\n",
              "      <th>7</th>\n",
              "      <td>1</td>\n",
              "      <td>283</td>\n",
              "      <td>333.0</td>\n",
              "      <td>356.634489</td>\n",
              "      <td>3.0</td>\n",
              "      <td>%=0.40</td>\n",
              "      <td>1</td>\n",
              "      <td>0</td>\n",
              "      <td>0</td>\n",
              "      <td>0</td>\n",
              "      <td>0</td>\n",
              "    </tr>\n",
              "    <tr>\n",
              "      <th>8</th>\n",
              "      <td>1</td>\n",
              "      <td>283</td>\n",
              "      <td>333.0</td>\n",
              "      <td>355.887468</td>\n",
              "      <td>3.0</td>\n",
              "      <td>%=0.45</td>\n",
              "      <td>1</td>\n",
              "      <td>0</td>\n",
              "      <td>0</td>\n",
              "      <td>0</td>\n",
              "      <td>0</td>\n",
              "    </tr>\n",
              "    <tr>\n",
              "      <th>9</th>\n",
              "      <td>1</td>\n",
              "      <td>283</td>\n",
              "      <td>333.0</td>\n",
              "      <td>355.185115</td>\n",
              "      <td>3.0</td>\n",
              "      <td>%=0.50</td>\n",
              "      <td>1</td>\n",
              "      <td>0</td>\n",
              "      <td>0</td>\n",
              "      <td>0</td>\n",
              "      <td>0</td>\n",
              "    </tr>\n",
              "  </tbody>\n",
              "</table>\n",
              "</div>\n",
              "      <button class=\"colab-df-convert\" onclick=\"convertToInteractive('df-a17acacf-dbcb-4ca9-93af-9a7818e8f2b2')\"\n",
              "              title=\"Convert this dataframe to an interactive table.\"\n",
              "              style=\"display:none;\">\n",
              "        \n",
              "  <svg xmlns=\"http://www.w3.org/2000/svg\" height=\"24px\"viewBox=\"0 0 24 24\"\n",
              "       width=\"24px\">\n",
              "    <path d=\"M0 0h24v24H0V0z\" fill=\"none\"/>\n",
              "    <path d=\"M18.56 5.44l.94 2.06.94-2.06 2.06-.94-2.06-.94-.94-2.06-.94 2.06-2.06.94zm-11 1L8.5 8.5l.94-2.06 2.06-.94-2.06-.94L8.5 2.5l-.94 2.06-2.06.94zm10 10l.94 2.06.94-2.06 2.06-.94-2.06-.94-.94-2.06-.94 2.06-2.06.94z\"/><path d=\"M17.41 7.96l-1.37-1.37c-.4-.4-.92-.59-1.43-.59-.52 0-1.04.2-1.43.59L10.3 9.45l-7.72 7.72c-.78.78-.78 2.05 0 2.83L4 21.41c.39.39.9.59 1.41.59.51 0 1.02-.2 1.41-.59l7.78-7.78 2.81-2.81c.8-.78.8-2.07 0-2.86zM5.41 20L4 18.59l7.72-7.72 1.47 1.35L5.41 20z\"/>\n",
              "  </svg>\n",
              "      </button>\n",
              "      \n",
              "  <style>\n",
              "    .colab-df-container {\n",
              "      display:flex;\n",
              "      flex-wrap:wrap;\n",
              "      gap: 12px;\n",
              "    }\n",
              "\n",
              "    .colab-df-convert {\n",
              "      background-color: #E8F0FE;\n",
              "      border: none;\n",
              "      border-radius: 50%;\n",
              "      cursor: pointer;\n",
              "      display: none;\n",
              "      fill: #1967D2;\n",
              "      height: 32px;\n",
              "      padding: 0 0 0 0;\n",
              "      width: 32px;\n",
              "    }\n",
              "\n",
              "    .colab-df-convert:hover {\n",
              "      background-color: #E2EBFA;\n",
              "      box-shadow: 0px 1px 2px rgba(60, 64, 67, 0.3), 0px 1px 3px 1px rgba(60, 64, 67, 0.15);\n",
              "      fill: #174EA6;\n",
              "    }\n",
              "\n",
              "    [theme=dark] .colab-df-convert {\n",
              "      background-color: #3B4455;\n",
              "      fill: #D2E3FC;\n",
              "    }\n",
              "\n",
              "    [theme=dark] .colab-df-convert:hover {\n",
              "      background-color: #434B5C;\n",
              "      box-shadow: 0px 1px 3px 1px rgba(0, 0, 0, 0.15);\n",
              "      filter: drop-shadow(0px 1px 2px rgba(0, 0, 0, 0.3));\n",
              "      fill: #FFFFFF;\n",
              "    }\n",
              "  </style>\n",
              "\n",
              "      <script>\n",
              "        const buttonEl =\n",
              "          document.querySelector('#df-a17acacf-dbcb-4ca9-93af-9a7818e8f2b2 button.colab-df-convert');\n",
              "        buttonEl.style.display =\n",
              "          google.colab.kernel.accessAllowed ? 'block' : 'none';\n",
              "\n",
              "        async function convertToInteractive(key) {\n",
              "          const element = document.querySelector('#df-a17acacf-dbcb-4ca9-93af-9a7818e8f2b2');\n",
              "          const dataTable =\n",
              "            await google.colab.kernel.invokeFunction('convertToInteractive',\n",
              "                                                     [key], {});\n",
              "          if (!dataTable) return;\n",
              "\n",
              "          const docLinkHtml = 'Like what you see? Visit the ' +\n",
              "            '<a target=\"_blank\" href=https://colab.research.google.com/notebooks/data_table.ipynb>data table notebook</a>'\n",
              "            + ' to learn more about interactive tables.';\n",
              "          element.innerHTML = '';\n",
              "          dataTable['output_type'] = 'display_data';\n",
              "          await google.colab.output.renderOutput(dataTable, element);\n",
              "          const docLink = document.createElement('div');\n",
              "          docLink.innerHTML = docLinkHtml;\n",
              "          element.appendChild(docLink);\n",
              "        }\n",
              "      </script>\n",
              "    </div>\n",
              "  </div>\n",
              "  "
            ],
            "text/plain": [
              "   Fuel_Mdot  Tair  Treturn     Tsupply  ...  Fouling Lean  Nominal  Scaling\n",
              "0          1   283    333.0  363.574744  ...        0    1        0        0\n",
              "1          1   283    333.0  362.349517  ...        0    0        1        0\n",
              "2          1   283    333.0  361.216941  ...        0    0        0        0\n",
              "3          1   283    333.0  360.166890  ...        0    0        0        0\n",
              "4          1   283    333.0  359.190662  ...        0    0        0        0\n",
              "5          1   283    333.0  358.280736  ...        0    0        0        0\n",
              "6          1   283    333.0  357.430579  ...        0    0        0        0\n",
              "7          1   283    333.0  356.634489  ...        0    0        0        0\n",
              "8          1   283    333.0  355.887468  ...        0    0        0        0\n",
              "9          1   283    333.0  355.185115  ...        0    0        0        0\n",
              "\n",
              "[10 rows x 11 columns]"
            ]
          },
          "metadata": {},
          "execution_count": 3
        }
      ],
      "source": [
        "dummies = pd.get_dummies(df.Class)\n",
        "merged = pd.concat([df,dummies],axis='columns')\n",
        "df_pre_1 = merged.drop(['Class'], axis='columns')\n",
        "df_pre_1.head(10)"
      ]
    },
    {
      "cell_type": "markdown",
      "metadata": {
        "id": "jVjh99uRAzvX"
      },
      "source": [
        "##**5.1.2 Dummy Variable - Condition**"
      ]
    },
    {
      "cell_type": "code",
      "execution_count": null,
      "metadata": {
        "colab": {
          "base_uri": "https://localhost:8080/",
          "height": 444
        },
        "id": "NNBwxhnlAyqn",
        "outputId": "b0b16b68-a00a-4584-ff05-2f93a4076cae"
      },
      "outputs": [
        {
          "output_type": "execute_result",
          "data": {
            "text/html": [
              "\n",
              "  <div id=\"df-ffe58a3d-8158-43fd-97e2-bbba4b7ee0b3\">\n",
              "    <div class=\"colab-df-container\">\n",
              "      <div>\n",
              "<style scoped>\n",
              "    .dataframe tbody tr th:only-of-type {\n",
              "        vertical-align: middle;\n",
              "    }\n",
              "\n",
              "    .dataframe tbody tr th {\n",
              "        vertical-align: top;\n",
              "    }\n",
              "\n",
              "    .dataframe thead th {\n",
              "        text-align: right;\n",
              "    }\n",
              "</style>\n",
              "<table border=\"1\" class=\"dataframe\">\n",
              "  <thead>\n",
              "    <tr style=\"text-align: right;\">\n",
              "      <th></th>\n",
              "      <th>Fuel_Mdot</th>\n",
              "      <th>Tair</th>\n",
              "      <th>Treturn</th>\n",
              "      <th>Tsupply</th>\n",
              "      <th>Water_Mdot</th>\n",
              "      <th>Class</th>\n",
              "      <th>%=0.05</th>\n",
              "      <th>%=0.1</th>\n",
              "      <th>%=0.15</th>\n",
              "      <th>%=0.20</th>\n",
              "      <th>%=0.25</th>\n",
              "      <th>%=0.3</th>\n",
              "      <th>%=0.35</th>\n",
              "      <th>%=0.40</th>\n",
              "      <th>%=0.45</th>\n",
              "      <th>%=0.50</th>\n",
              "      <th>F = 0.01</th>\n",
              "      <th>F = 0.06</th>\n",
              "      <th>F = 0.11</th>\n",
              "      <th>F = 0.16</th>\n",
              "      <th>F = 0.21</th>\n",
              "      <th>F = 0.26</th>\n",
              "      <th>F = 0.31</th>\n",
              "      <th>F = 0.36</th>\n",
              "      <th>F = 0.41</th>\n",
              "      <th>F = 0.46</th>\n",
              "      <th>Nominal</th>\n",
              "      <th>S = 0.01</th>\n",
              "      <th>S = 0.06</th>\n",
              "      <th>S = 0.11</th>\n",
              "      <th>S = 0.16</th>\n",
              "      <th>S = 0.21</th>\n",
              "      <th>S = 0.26</th>\n",
              "      <th>S = 0.31</th>\n",
              "      <th>S = 0.36</th>\n",
              "      <th>S = 0.41</th>\n",
              "      <th>S = 0.46</th>\n",
              "    </tr>\n",
              "  </thead>\n",
              "  <tbody>\n",
              "    <tr>\n",
              "      <th>0</th>\n",
              "      <td>1</td>\n",
              "      <td>283</td>\n",
              "      <td>333.0</td>\n",
              "      <td>363.574744</td>\n",
              "      <td>3.0</td>\n",
              "      <td>Lean</td>\n",
              "      <td>1</td>\n",
              "      <td>0</td>\n",
              "      <td>0</td>\n",
              "      <td>0</td>\n",
              "      <td>0</td>\n",
              "      <td>0</td>\n",
              "      <td>0</td>\n",
              "      <td>0</td>\n",
              "      <td>0</td>\n",
              "      <td>0</td>\n",
              "      <td>0</td>\n",
              "      <td>0</td>\n",
              "      <td>0</td>\n",
              "      <td>0</td>\n",
              "      <td>0</td>\n",
              "      <td>0</td>\n",
              "      <td>0</td>\n",
              "      <td>0</td>\n",
              "      <td>0</td>\n",
              "      <td>0</td>\n",
              "      <td>0</td>\n",
              "      <td>0</td>\n",
              "      <td>0</td>\n",
              "      <td>0</td>\n",
              "      <td>0</td>\n",
              "      <td>0</td>\n",
              "      <td>0</td>\n",
              "      <td>0</td>\n",
              "      <td>0</td>\n",
              "      <td>0</td>\n",
              "      <td>0</td>\n",
              "    </tr>\n",
              "    <tr>\n",
              "      <th>1</th>\n",
              "      <td>1</td>\n",
              "      <td>283</td>\n",
              "      <td>333.0</td>\n",
              "      <td>362.349517</td>\n",
              "      <td>3.0</td>\n",
              "      <td>Nominal</td>\n",
              "      <td>0</td>\n",
              "      <td>1</td>\n",
              "      <td>0</td>\n",
              "      <td>0</td>\n",
              "      <td>0</td>\n",
              "      <td>0</td>\n",
              "      <td>0</td>\n",
              "      <td>0</td>\n",
              "      <td>0</td>\n",
              "      <td>0</td>\n",
              "      <td>0</td>\n",
              "      <td>0</td>\n",
              "      <td>0</td>\n",
              "      <td>0</td>\n",
              "      <td>0</td>\n",
              "      <td>0</td>\n",
              "      <td>0</td>\n",
              "      <td>0</td>\n",
              "      <td>0</td>\n",
              "      <td>0</td>\n",
              "      <td>0</td>\n",
              "      <td>0</td>\n",
              "      <td>0</td>\n",
              "      <td>0</td>\n",
              "      <td>0</td>\n",
              "      <td>0</td>\n",
              "      <td>0</td>\n",
              "      <td>0</td>\n",
              "      <td>0</td>\n",
              "      <td>0</td>\n",
              "      <td>0</td>\n",
              "    </tr>\n",
              "    <tr>\n",
              "      <th>2</th>\n",
              "      <td>1</td>\n",
              "      <td>283</td>\n",
              "      <td>333.0</td>\n",
              "      <td>361.216941</td>\n",
              "      <td>3.0</td>\n",
              "      <td>ExcessAir</td>\n",
              "      <td>0</td>\n",
              "      <td>0</td>\n",
              "      <td>1</td>\n",
              "      <td>0</td>\n",
              "      <td>0</td>\n",
              "      <td>0</td>\n",
              "      <td>0</td>\n",
              "      <td>0</td>\n",
              "      <td>0</td>\n",
              "      <td>0</td>\n",
              "      <td>0</td>\n",
              "      <td>0</td>\n",
              "      <td>0</td>\n",
              "      <td>0</td>\n",
              "      <td>0</td>\n",
              "      <td>0</td>\n",
              "      <td>0</td>\n",
              "      <td>0</td>\n",
              "      <td>0</td>\n",
              "      <td>0</td>\n",
              "      <td>0</td>\n",
              "      <td>0</td>\n",
              "      <td>0</td>\n",
              "      <td>0</td>\n",
              "      <td>0</td>\n",
              "      <td>0</td>\n",
              "      <td>0</td>\n",
              "      <td>0</td>\n",
              "      <td>0</td>\n",
              "      <td>0</td>\n",
              "      <td>0</td>\n",
              "    </tr>\n",
              "    <tr>\n",
              "      <th>3</th>\n",
              "      <td>1</td>\n",
              "      <td>283</td>\n",
              "      <td>333.0</td>\n",
              "      <td>360.166890</td>\n",
              "      <td>3.0</td>\n",
              "      <td>ExcessAir</td>\n",
              "      <td>0</td>\n",
              "      <td>0</td>\n",
              "      <td>0</td>\n",
              "      <td>1</td>\n",
              "      <td>0</td>\n",
              "      <td>0</td>\n",
              "      <td>0</td>\n",
              "      <td>0</td>\n",
              "      <td>0</td>\n",
              "      <td>0</td>\n",
              "      <td>0</td>\n",
              "      <td>0</td>\n",
              "      <td>0</td>\n",
              "      <td>0</td>\n",
              "      <td>0</td>\n",
              "      <td>0</td>\n",
              "      <td>0</td>\n",
              "      <td>0</td>\n",
              "      <td>0</td>\n",
              "      <td>0</td>\n",
              "      <td>0</td>\n",
              "      <td>0</td>\n",
              "      <td>0</td>\n",
              "      <td>0</td>\n",
              "      <td>0</td>\n",
              "      <td>0</td>\n",
              "      <td>0</td>\n",
              "      <td>0</td>\n",
              "      <td>0</td>\n",
              "      <td>0</td>\n",
              "      <td>0</td>\n",
              "    </tr>\n",
              "    <tr>\n",
              "      <th>4</th>\n",
              "      <td>1</td>\n",
              "      <td>283</td>\n",
              "      <td>333.0</td>\n",
              "      <td>359.190662</td>\n",
              "      <td>3.0</td>\n",
              "      <td>ExcessAir</td>\n",
              "      <td>0</td>\n",
              "      <td>0</td>\n",
              "      <td>0</td>\n",
              "      <td>0</td>\n",
              "      <td>1</td>\n",
              "      <td>0</td>\n",
              "      <td>0</td>\n",
              "      <td>0</td>\n",
              "      <td>0</td>\n",
              "      <td>0</td>\n",
              "      <td>0</td>\n",
              "      <td>0</td>\n",
              "      <td>0</td>\n",
              "      <td>0</td>\n",
              "      <td>0</td>\n",
              "      <td>0</td>\n",
              "      <td>0</td>\n",
              "      <td>0</td>\n",
              "      <td>0</td>\n",
              "      <td>0</td>\n",
              "      <td>0</td>\n",
              "      <td>0</td>\n",
              "      <td>0</td>\n",
              "      <td>0</td>\n",
              "      <td>0</td>\n",
              "      <td>0</td>\n",
              "      <td>0</td>\n",
              "      <td>0</td>\n",
              "      <td>0</td>\n",
              "      <td>0</td>\n",
              "      <td>0</td>\n",
              "    </tr>\n",
              "    <tr>\n",
              "      <th>5</th>\n",
              "      <td>1</td>\n",
              "      <td>283</td>\n",
              "      <td>333.0</td>\n",
              "      <td>358.280736</td>\n",
              "      <td>3.0</td>\n",
              "      <td>ExcessAir</td>\n",
              "      <td>0</td>\n",
              "      <td>0</td>\n",
              "      <td>0</td>\n",
              "      <td>0</td>\n",
              "      <td>0</td>\n",
              "      <td>1</td>\n",
              "      <td>0</td>\n",
              "      <td>0</td>\n",
              "      <td>0</td>\n",
              "      <td>0</td>\n",
              "      <td>0</td>\n",
              "      <td>0</td>\n",
              "      <td>0</td>\n",
              "      <td>0</td>\n",
              "      <td>0</td>\n",
              "      <td>0</td>\n",
              "      <td>0</td>\n",
              "      <td>0</td>\n",
              "      <td>0</td>\n",
              "      <td>0</td>\n",
              "      <td>0</td>\n",
              "      <td>0</td>\n",
              "      <td>0</td>\n",
              "      <td>0</td>\n",
              "      <td>0</td>\n",
              "      <td>0</td>\n",
              "      <td>0</td>\n",
              "      <td>0</td>\n",
              "      <td>0</td>\n",
              "      <td>0</td>\n",
              "      <td>0</td>\n",
              "    </tr>\n",
              "    <tr>\n",
              "      <th>6</th>\n",
              "      <td>1</td>\n",
              "      <td>283</td>\n",
              "      <td>333.0</td>\n",
              "      <td>357.430579</td>\n",
              "      <td>3.0</td>\n",
              "      <td>ExcessAir</td>\n",
              "      <td>0</td>\n",
              "      <td>0</td>\n",
              "      <td>0</td>\n",
              "      <td>0</td>\n",
              "      <td>0</td>\n",
              "      <td>0</td>\n",
              "      <td>1</td>\n",
              "      <td>0</td>\n",
              "      <td>0</td>\n",
              "      <td>0</td>\n",
              "      <td>0</td>\n",
              "      <td>0</td>\n",
              "      <td>0</td>\n",
              "      <td>0</td>\n",
              "      <td>0</td>\n",
              "      <td>0</td>\n",
              "      <td>0</td>\n",
              "      <td>0</td>\n",
              "      <td>0</td>\n",
              "      <td>0</td>\n",
              "      <td>0</td>\n",
              "      <td>0</td>\n",
              "      <td>0</td>\n",
              "      <td>0</td>\n",
              "      <td>0</td>\n",
              "      <td>0</td>\n",
              "      <td>0</td>\n",
              "      <td>0</td>\n",
              "      <td>0</td>\n",
              "      <td>0</td>\n",
              "      <td>0</td>\n",
              "    </tr>\n",
              "    <tr>\n",
              "      <th>7</th>\n",
              "      <td>1</td>\n",
              "      <td>283</td>\n",
              "      <td>333.0</td>\n",
              "      <td>356.634489</td>\n",
              "      <td>3.0</td>\n",
              "      <td>ExcessAir</td>\n",
              "      <td>0</td>\n",
              "      <td>0</td>\n",
              "      <td>0</td>\n",
              "      <td>0</td>\n",
              "      <td>0</td>\n",
              "      <td>0</td>\n",
              "      <td>0</td>\n",
              "      <td>1</td>\n",
              "      <td>0</td>\n",
              "      <td>0</td>\n",
              "      <td>0</td>\n",
              "      <td>0</td>\n",
              "      <td>0</td>\n",
              "      <td>0</td>\n",
              "      <td>0</td>\n",
              "      <td>0</td>\n",
              "      <td>0</td>\n",
              "      <td>0</td>\n",
              "      <td>0</td>\n",
              "      <td>0</td>\n",
              "      <td>0</td>\n",
              "      <td>0</td>\n",
              "      <td>0</td>\n",
              "      <td>0</td>\n",
              "      <td>0</td>\n",
              "      <td>0</td>\n",
              "      <td>0</td>\n",
              "      <td>0</td>\n",
              "      <td>0</td>\n",
              "      <td>0</td>\n",
              "      <td>0</td>\n",
              "    </tr>\n",
              "    <tr>\n",
              "      <th>8</th>\n",
              "      <td>1</td>\n",
              "      <td>283</td>\n",
              "      <td>333.0</td>\n",
              "      <td>355.887468</td>\n",
              "      <td>3.0</td>\n",
              "      <td>ExcessAir</td>\n",
              "      <td>0</td>\n",
              "      <td>0</td>\n",
              "      <td>0</td>\n",
              "      <td>0</td>\n",
              "      <td>0</td>\n",
              "      <td>0</td>\n",
              "      <td>0</td>\n",
              "      <td>0</td>\n",
              "      <td>1</td>\n",
              "      <td>0</td>\n",
              "      <td>0</td>\n",
              "      <td>0</td>\n",
              "      <td>0</td>\n",
              "      <td>0</td>\n",
              "      <td>0</td>\n",
              "      <td>0</td>\n",
              "      <td>0</td>\n",
              "      <td>0</td>\n",
              "      <td>0</td>\n",
              "      <td>0</td>\n",
              "      <td>0</td>\n",
              "      <td>0</td>\n",
              "      <td>0</td>\n",
              "      <td>0</td>\n",
              "      <td>0</td>\n",
              "      <td>0</td>\n",
              "      <td>0</td>\n",
              "      <td>0</td>\n",
              "      <td>0</td>\n",
              "      <td>0</td>\n",
              "      <td>0</td>\n",
              "    </tr>\n",
              "    <tr>\n",
              "      <th>9</th>\n",
              "      <td>1</td>\n",
              "      <td>283</td>\n",
              "      <td>333.0</td>\n",
              "      <td>355.185115</td>\n",
              "      <td>3.0</td>\n",
              "      <td>ExcessAir</td>\n",
              "      <td>0</td>\n",
              "      <td>0</td>\n",
              "      <td>0</td>\n",
              "      <td>0</td>\n",
              "      <td>0</td>\n",
              "      <td>0</td>\n",
              "      <td>0</td>\n",
              "      <td>0</td>\n",
              "      <td>0</td>\n",
              "      <td>1</td>\n",
              "      <td>0</td>\n",
              "      <td>0</td>\n",
              "      <td>0</td>\n",
              "      <td>0</td>\n",
              "      <td>0</td>\n",
              "      <td>0</td>\n",
              "      <td>0</td>\n",
              "      <td>0</td>\n",
              "      <td>0</td>\n",
              "      <td>0</td>\n",
              "      <td>0</td>\n",
              "      <td>0</td>\n",
              "      <td>0</td>\n",
              "      <td>0</td>\n",
              "      <td>0</td>\n",
              "      <td>0</td>\n",
              "      <td>0</td>\n",
              "      <td>0</td>\n",
              "      <td>0</td>\n",
              "      <td>0</td>\n",
              "      <td>0</td>\n",
              "    </tr>\n",
              "  </tbody>\n",
              "</table>\n",
              "</div>\n",
              "      <button class=\"colab-df-convert\" onclick=\"convertToInteractive('df-ffe58a3d-8158-43fd-97e2-bbba4b7ee0b3')\"\n",
              "              title=\"Convert this dataframe to an interactive table.\"\n",
              "              style=\"display:none;\">\n",
              "        \n",
              "  <svg xmlns=\"http://www.w3.org/2000/svg\" height=\"24px\"viewBox=\"0 0 24 24\"\n",
              "       width=\"24px\">\n",
              "    <path d=\"M0 0h24v24H0V0z\" fill=\"none\"/>\n",
              "    <path d=\"M18.56 5.44l.94 2.06.94-2.06 2.06-.94-2.06-.94-.94-2.06-.94 2.06-2.06.94zm-11 1L8.5 8.5l.94-2.06 2.06-.94-2.06-.94L8.5 2.5l-.94 2.06-2.06.94zm10 10l.94 2.06.94-2.06 2.06-.94-2.06-.94-.94-2.06-.94 2.06-2.06.94z\"/><path d=\"M17.41 7.96l-1.37-1.37c-.4-.4-.92-.59-1.43-.59-.52 0-1.04.2-1.43.59L10.3 9.45l-7.72 7.72c-.78.78-.78 2.05 0 2.83L4 21.41c.39.39.9.59 1.41.59.51 0 1.02-.2 1.41-.59l7.78-7.78 2.81-2.81c.8-.78.8-2.07 0-2.86zM5.41 20L4 18.59l7.72-7.72 1.47 1.35L5.41 20z\"/>\n",
              "  </svg>\n",
              "      </button>\n",
              "      \n",
              "  <style>\n",
              "    .colab-df-container {\n",
              "      display:flex;\n",
              "      flex-wrap:wrap;\n",
              "      gap: 12px;\n",
              "    }\n",
              "\n",
              "    .colab-df-convert {\n",
              "      background-color: #E8F0FE;\n",
              "      border: none;\n",
              "      border-radius: 50%;\n",
              "      cursor: pointer;\n",
              "      display: none;\n",
              "      fill: #1967D2;\n",
              "      height: 32px;\n",
              "      padding: 0 0 0 0;\n",
              "      width: 32px;\n",
              "    }\n",
              "\n",
              "    .colab-df-convert:hover {\n",
              "      background-color: #E2EBFA;\n",
              "      box-shadow: 0px 1px 2px rgba(60, 64, 67, 0.3), 0px 1px 3px 1px rgba(60, 64, 67, 0.15);\n",
              "      fill: #174EA6;\n",
              "    }\n",
              "\n",
              "    [theme=dark] .colab-df-convert {\n",
              "      background-color: #3B4455;\n",
              "      fill: #D2E3FC;\n",
              "    }\n",
              "\n",
              "    [theme=dark] .colab-df-convert:hover {\n",
              "      background-color: #434B5C;\n",
              "      box-shadow: 0px 1px 3px 1px rgba(0, 0, 0, 0.15);\n",
              "      filter: drop-shadow(0px 1px 2px rgba(0, 0, 0, 0.3));\n",
              "      fill: #FFFFFF;\n",
              "    }\n",
              "  </style>\n",
              "\n",
              "      <script>\n",
              "        const buttonEl =\n",
              "          document.querySelector('#df-ffe58a3d-8158-43fd-97e2-bbba4b7ee0b3 button.colab-df-convert');\n",
              "        buttonEl.style.display =\n",
              "          google.colab.kernel.accessAllowed ? 'block' : 'none';\n",
              "\n",
              "        async function convertToInteractive(key) {\n",
              "          const element = document.querySelector('#df-ffe58a3d-8158-43fd-97e2-bbba4b7ee0b3');\n",
              "          const dataTable =\n",
              "            await google.colab.kernel.invokeFunction('convertToInteractive',\n",
              "                                                     [key], {});\n",
              "          if (!dataTable) return;\n",
              "\n",
              "          const docLinkHtml = 'Like what you see? Visit the ' +\n",
              "            '<a target=\"_blank\" href=https://colab.research.google.com/notebooks/data_table.ipynb>data table notebook</a>'\n",
              "            + ' to learn more about interactive tables.';\n",
              "          element.innerHTML = '';\n",
              "          dataTable['output_type'] = 'display_data';\n",
              "          await google.colab.output.renderOutput(dataTable, element);\n",
              "          const docLink = document.createElement('div');\n",
              "          docLink.innerHTML = docLinkHtml;\n",
              "          element.appendChild(docLink);\n",
              "        }\n",
              "      </script>\n",
              "    </div>\n",
              "  </div>\n",
              "  "
            ],
            "text/plain": [
              "   Fuel_Mdot  Tair  Treturn     Tsupply  ...  S = 0.31 S = 0.36  S = 0.41  S = 0.46\n",
              "0          1   283    333.0  363.574744  ...         0        0         0         0\n",
              "1          1   283    333.0  362.349517  ...         0        0         0         0\n",
              "2          1   283    333.0  361.216941  ...         0        0         0         0\n",
              "3          1   283    333.0  360.166890  ...         0        0         0         0\n",
              "4          1   283    333.0  359.190662  ...         0        0         0         0\n",
              "5          1   283    333.0  358.280736  ...         0        0         0         0\n",
              "6          1   283    333.0  357.430579  ...         0        0         0         0\n",
              "7          1   283    333.0  356.634489  ...         0        0         0         0\n",
              "8          1   283    333.0  355.887468  ...         0        0         0         0\n",
              "9          1   283    333.0  355.185115  ...         0        0         0         0\n",
              "\n",
              "[10 rows x 37 columns]"
            ]
          },
          "metadata": {},
          "execution_count": 4
        }
      ],
      "source": [
        "dummies = pd.get_dummies(df.Condition)\n",
        "merged = pd.concat([df,dummies],axis='columns')\n",
        "df_pre_2 = merged.drop(['Condition'], axis='columns')\n",
        "df_pre_2.head(10)"
      ]
    },
    {
      "cell_type": "markdown",
      "metadata": {
        "id": "-O1qFi54P0hB"
      },
      "source": [
        "#**6. Model Training and Classification**\n",
        "##**Target Variable: Class**"
      ]
    },
    {
      "cell_type": "code",
      "execution_count": null,
      "metadata": {
        "id": "_wTJNe3C2SpI"
      },
      "outputs": [],
      "source": [
        "from sklearn.tree import DecisionTreeClassifier # Import Decision Tree Classifier\n",
        "from sklearn.model_selection import train_test_split # Import train_test_split function\n",
        "from sklearn import metrics #Import scikit-learn metrics module for accuracy calculation"
      ]
    },
    {
      "cell_type": "markdown",
      "metadata": {
        "id": "psUfIZXF0pPD"
      },
      "source": [
        "##**6.1 Via Decision Tree Classifier**\n",
        "###**Target Variable: Class**"
      ]
    },
    {
      "cell_type": "markdown",
      "metadata": {
        "id": "D_wJl5xAB3C_"
      },
      "source": [
        "##**6.1.1 Model Accuracy**"
      ]
    },
    {
      "cell_type": "code",
      "execution_count": null,
      "metadata": {
        "colab": {
          "base_uri": "https://localhost:8080/"
        },
        "id": "rgCtK0la1YAF",
        "outputId": "6f002977-20ee-48e0-f9b1-69735653cdb5"
      },
      "outputs": [
        {
          "output_type": "stream",
          "name": "stdout",
          "text": [
            "Accuracy: 95.38\n"
          ]
        }
      ],
      "source": [
        "#split dataset in features and target variable\n",
        "feature_cols = [\"Fuel_Mdot\",\"Tair\",\"Treturn\",\"Tsupply\",\"Water_Mdot\"]\n",
        "X = df[feature_cols] # Features\n",
        "y = df.Class # Target variable\n",
        "\n",
        "# Split dataset into training set and test set\n",
        "X_train, X_test, y_train, y_test = train_test_split(X, y, test_size=0.3, random_state=1) # 70% training and 30% test\n",
        "\n",
        "# Create Decision Tree classifer object\n",
        "clf = DecisionTreeClassifier()\n",
        "\n",
        "# Train Decision Tree Classifer\n",
        "clf = clf.fit(X_train,y_train)\n",
        "\n",
        "#Predict the response for test dataset\n",
        "y_pred = clf.predict(X_test)\n",
        "\n",
        "a_dtree = metrics.accuracy_score(y_test, y_pred)\n",
        "a_dtree = round(a_dtree*100,2)\n",
        "# Model Accuracy, how often is the classifier correct?\n",
        "print(\"Accuracy:\", a_dtree)"
      ]
    },
    {
      "cell_type": "markdown",
      "metadata": {
        "id": "IxNOkZxECE1b"
      },
      "source": [
        "##**6.1.2 Confusion Matrix**"
      ]
    },
    {
      "cell_type": "code",
      "execution_count": null,
      "metadata": {
        "colab": {
          "base_uri": "https://localhost:8080/",
          "height": 607
        },
        "id": "BklQB-W-7CsE",
        "outputId": "7d61e040-8bd2-424c-f856-f8ce5d73b057"
      },
      "outputs": [
        {
          "output_type": "display_data",
          "data": {
            "image/png": "[encoded data removed]",
            "text/plain": [
              "<Figure size 1080x720 with 2 Axes>"
            ]
          },
          "metadata": {
            "needs_background": "light"
          }
        }
      ],
      "source": [
        "cm_dtree = confusion_matrix(y_test, y_pred)\n",
        "\n",
        "cmn = cm_dtree.astype('float') / cm_dtree.sum(axis=1)[:, np.newaxis]\n",
        "\n",
        "x_axis_labels = ['Lean' ,'Nominal', 'ExcessAir' ,'Fouling' ,'Scaling'] # labels for x-axis\n",
        "y_axis_labels = ['Lean' ,'Nominal', 'ExcessAir' ,'Fouling' ,'Scaling'] # labels for y-axis\n",
        "\n",
        "plt.figure(figsize=(15,10))\n",
        "plt.title(\"Decision Tree Classifier Confusion Matrix\")\n",
        "sns.heatmap(cmn,annot=True,cmap=\"Reds\",cbar=True, annot_kws={\"size\": 10}, xticklabels=x_axis_labels, yticklabels=y_axis_labels)\n",
        "plt.show()"
      ]
    },
    {
      "cell_type": "markdown",
      "metadata": {
        "id": "JUdwoEXr4IWg"
      },
      "source": [
        "##**6.1.3 Inter-Class Accuracy**"
      ]
    },
    {
      "cell_type": "code",
      "execution_count": null,
      "metadata": {
        "colab": {
          "base_uri": "https://localhost:8080/"
        },
        "id": "lsTmZ7bt3K0V",
        "outputId": "f7117bf8-ca40-404f-fa80-1416a9cd930e"
      },
      "outputs": [
        {
          "output_type": "execute_result",
          "data": {
            "text/plain": [
              "{'ExcessAir': 0.9758064516129032,\n",
              " 'Fouling': 0.990347018572825,\n",
              " 'Lean': 0.9951124144672532,\n",
              " 'Nominal': 0.9616324535679375,\n",
              " 'Scaling': 0.9808162267839687}"
            ]
          },
          "metadata": {},
          "execution_count": 21
        }
      ],
      "source": [
        "classes = ['Lean', 'Nominal' ,'ExcessAir', 'Fouling' ,'Scaling']\n",
        "\n",
        "# We will store the results in a dictionary for easy access later\n",
        "per_class_accuracies = {}\n",
        "\n",
        "# Calculate the accuracy for each one of our classes\n",
        "for idx, cls in enumerate(classes):\n",
        "    # True negatives are all the samples that are not our current GT class (not the current row) \n",
        "    # and were not predicted as the current class (not the current column)\n",
        "    true_negatives = np.sum(np.delete(np.delete(cm_dtree, idx, axis=0), idx, axis=1))\n",
        "    \n",
        "    # True positives are all the samples of our current GT class that were predicted as such\n",
        "    true_positives = cm_dtree[idx, idx]\n",
        "    \n",
        "    # The accuracy for the current class is ratio between correct predictions to all predictions\n",
        "    per_class_accuracies[cls] = (true_positives + true_negatives) / np.sum(cm_dtree)\n",
        "\n",
        "per_class_accuracies"
      ]
    },
    {
      "cell_type": "markdown",
      "metadata": {
        "id": "VXAmX-Jj4QhT"
      },
      "source": [
        "##**6.1.4 Classification Report**"
      ]
    },
    {
      "cell_type": "code",
      "execution_count": null,
      "metadata": {
        "colab": {
          "base_uri": "https://localhost:8080/"
        },
        "id": "JRdyO0to6188",
        "outputId": "bc61c768-ab3b-44f2-ef44-024e74a5cb77"
      },
      "outputs": [
        {
          "output_type": "stream",
          "name": "stdout",
          "text": [
            "              precision    recall  f1-score   support\n",
            "\n",
            "   ExcessAir       0.99      0.99      0.99      2151\n",
            "     Fouling       0.94      0.94      0.94      2613\n",
            "        Lean       0.65      0.66      0.66       287\n",
            "     Nominal       0.92      0.93      0.93       526\n",
            "     Scaling       0.97      0.97      0.97      2607\n",
            "\n",
            "    accuracy                           0.95      8184\n",
            "   macro avg       0.90      0.90      0.90      8184\n",
            "weighted avg       0.95      0.95      0.95      8184\n",
            "\n"
          ]
        }
      ],
      "source": [
        "print(metrics.classification_report(y_test, y_pred, digits=2))"
      ]
    },
    {
      "cell_type": "code",
      "execution_count": null,
      "metadata": {
        "colab": {
          "base_uri": "https://localhost:8080/"
        },
        "id": "wdQ3UzuJcPRj",
        "outputId": "d3901d89-11c5-434d-c65d-9d63cec05109"
      },
      "outputs": [
        {
          "output_type": "execute_result",
          "data": {
            "text/plain": [
              "2027     ExcessAir\n",
              "26694      Nominal\n",
              "4127     ExcessAir\n",
              "18345      Scaling\n",
              "18371      Scaling\n",
              "           ...    \n",
              "1430          Lean\n",
              "8486     ExcessAir\n",
              "4222     ExcessAir\n",
              "18319      Scaling\n",
              "5987     ExcessAir\n",
              "Name: Class, Length: 8184, dtype: object"
            ]
          },
          "metadata": {},
          "execution_count": 23
        }
      ],
      "source": [
        "y_test"
      ]
    },
    {
      "cell_type": "markdown",
      "metadata": {
        "id": "s6EVz1J97KF7"
      },
      "source": [
        "##**6.2 Via Random Forest Classifier**\n",
        "###**Traget Varibale - Class**"
      ]
    },
    {
      "cell_type": "markdown",
      "metadata": {
        "id": "u-_nNi-bDChk"
      },
      "source": [
        "##**6.2.1 Model Accuracy**"
      ]
    },
    {
      "cell_type": "code",
      "execution_count": null,
      "metadata": {
        "colab": {
          "base_uri": "https://localhost:8080/"
        },
        "id": "e9f-jPoR8KiN",
        "outputId": "805f2c37-c18b-40f2-b094-fb48d0128ee0"
      },
      "outputs": [
        {
          "output_type": "stream",
          "name": "stdout",
          "text": [
            "Accuracy: 70.000\n"
          ]
        }
      ],
      "source": [
        "from sklearn.ensemble import RandomForestClassifier\n",
        "\n",
        "forest = RandomForestClassifier(criterion='gini',\n",
        "                                 n_estimators=5,\n",
        "                                 random_state=1,\n",
        "                                 n_jobs=2)\n",
        "#\n",
        "# Fit the model\n",
        "#\n",
        "forest.fit(X_train, y_train)\n",
        " \n",
        "#\n",
        "# Measure model performance\n",
        "#\n",
        "y_pred = forest.predict(X_test)\n",
        "a_rf = accuracy_score(y_test, y_pred)\n",
        "a_rf = round(a_rf*100,2)\n",
        "print('Accuracy: %.3f' % a_rf)"
      ]
    },
    {
      "cell_type": "markdown",
      "metadata": {
        "id": "Cf9J_aUnDrVd"
      },
      "source": [
        "##**6.2.2 Inter-class Accuracy**"
      ]
    },
    {
      "cell_type": "code",
      "execution_count": null,
      "metadata": {
        "colab": {
          "base_uri": "https://localhost:8080/"
        },
        "id": "aGP4Mvt2DnHw",
        "outputId": "fb2a6cc9-6616-4490-b7f2-d63f6ca9857b"
      },
      "outputs": [
        {
          "output_type": "execute_result",
          "data": {
            "text/plain": [
              "{'ExcessAir': 0.9611436950146628,\n",
              " 'Fouling': 0.9672531769305963,\n",
              " 'Lean': 0.9817937438905181,\n",
              " 'Nominal': 0.8655913978494624,\n",
              " 'Scaling': 0.876099706744868}"
            ]
          },
          "metadata": {},
          "execution_count": 25
        }
      ],
      "source": [
        "cm_rf = confusion_matrix(y_test, y_pred)\n",
        "\n",
        "classes = ['Lean', 'Nominal' ,'ExcessAir', 'Fouling' ,'Scaling']\n",
        "\n",
        "# We will store the results in a dictionary for easy access later\n",
        "per_class_accuracies = {}\n",
        "\n",
        "# Calculate the accuracy for each one of our classes\n",
        "for idx, cls in enumerate(classes):\n",
        "    # True negatives are all the samples that are not our current GT class (not the current row) \n",
        "    # and were not predicted as the current class (not the current column)\n",
        "    true_negatives = np.sum(np.delete(np.delete(cm_dtree, idx, axis=0), idx, axis=1))\n",
        "    \n",
        "    # True positives are all the samples of our current GT class that were predicted as such\n",
        "    true_positives = cm_rf[idx, idx]\n",
        "    \n",
        "    # The accuracy for the current class is ratio between correct predictions to all predictions\n",
        "    per_class_accuracies[cls] = (true_positives + true_negatives) / np.sum(cm_dtree)\n",
        "\n",
        "per_class_accuracies"
      ]
    },
    {
      "cell_type": "markdown",
      "metadata": {
        "id": "EbatXBT5DH2O"
      },
      "source": [
        "##**6.2.3 Classification Report**"
      ]
    },
    {
      "cell_type": "code",
      "execution_count": null,
      "metadata": {
        "colab": {
          "base_uri": "https://localhost:8080/"
        },
        "id": "AWC-Qce8DNsg",
        "outputId": "6644deaf-a0ca-4055-e0fe-516762b2d0b9"
      },
      "outputs": [
        {
          "output_type": "stream",
          "name": "stdout",
          "text": [
            "              precision    recall  f1-score   support\n",
            "\n",
            "   ExcessAir       0.85      0.94      0.89      2151\n",
            "     Fouling       0.61      0.64      0.63      2613\n",
            "        Lean       0.27      0.24      0.26       287\n",
            "     Nominal       0.63      0.57      0.60       526\n",
            "     Scaling       0.72      0.64      0.68      2607\n",
            "\n",
            "    accuracy                           0.70      8184\n",
            "   macro avg       0.61      0.61      0.61      8184\n",
            "weighted avg       0.70      0.70      0.70      8184\n",
            "\n"
          ]
        }
      ],
      "source": [
        "print(metrics.classification_report(y_test, y_pred, digits=2))"
      ]
    },
    {
      "cell_type": "markdown",
      "metadata": {
        "id": "kYd_4xSh9_t4"
      },
      "source": [
        "##**6.3 Via K-Nearest Neighbor Classifier**\n"
      ]
    },
    {
      "cell_type": "markdown",
      "metadata": {
        "id": "7HdcOM0uEECO"
      },
      "source": [
        "##**6.3.1 Model Accuracy**"
      ]
    },
    {
      "cell_type": "code",
      "execution_count": null,
      "metadata": {
        "colab": {
          "base_uri": "https://localhost:8080/"
        },
        "id": "f-9o8dsO9-zY",
        "outputId": "f9bfbb4a-daaf-44fb-fc75-dcb635701e9e"
      },
      "outputs": [
        {
          "output_type": "stream",
          "name": "stdout",
          "text": [
            "Accuracy: 54.860\n"
          ]
        }
      ],
      "source": [
        "from sklearn.preprocessing import StandardScaler\n",
        "scaler = StandardScaler()\n",
        "scaler.fit(X_train)\n",
        "\n",
        "X_train = scaler.transform(X_train)\n",
        "X_test = scaler.transform(X_test)\n",
        "\n",
        "from sklearn.neighbors import KNeighborsClassifier\n",
        "classifier = KNeighborsClassifier(n_neighbors=5)\n",
        "classifier.fit(X_train, y_train)\n",
        "\n",
        "y_pred = classifier.predict(X_test)\n",
        "\n",
        "a_knn = accuracy_score(y_test, y_pred)\n",
        "a_knn = round(a_knn*100,2)\n",
        "print('Accuracy: %.3f' % a_knn)"
      ]
    },
    {
      "cell_type": "markdown",
      "metadata": {
        "id": "Fs4_zw3gEQwo"
      },
      "source": [
        "##**6.3.2 Inter-class Accuracy**"
      ]
    },
    {
      "cell_type": "code",
      "execution_count": null,
      "metadata": {
        "colab": {
          "base_uri": "https://localhost:8080/"
        },
        "id": "XGP0ihE-Engr",
        "outputId": "b6b85dbb-8713-428c-eaf0-928a30cc73de"
      },
      "outputs": [
        {
          "output_type": "execute_result",
          "data": {
            "text/plain": [
              "{'ExcessAir': 0.9533235581622679,\n",
              " 'Fouling': 0.9364613880742912,\n",
              " 'Lean': 0.9874144672531769,\n",
              " 'Nominal': 0.8087732160312805,\n",
              " 'Scaling': 0.8145161290322581}"
            ]
          },
          "metadata": {},
          "execution_count": 28
        }
      ],
      "source": [
        "cm_knn = confusion_matrix(y_test, y_pred)\n",
        "\n",
        "classes = ['Lean', 'Nominal' ,'ExcessAir', 'Fouling' ,'Scaling']\n",
        "\n",
        "# We will store the results in a dictionary for easy access later\n",
        "per_class_accuracies = {}\n",
        "\n",
        "# Calculate the accuracy for each one of our classes\n",
        "for idx, cls in enumerate(classes):\n",
        "    # True negatives are all the samples that are not our current GT class (not the current row) \n",
        "    # and were not predicted as the current class (not the current column)\n",
        "    true_negatives = np.sum(np.delete(np.delete(cm_dtree, idx, axis=0), idx, axis=1))\n",
        "    \n",
        "    # True positives are all the samples of our current GT class that were predicted as such\n",
        "    true_positives = cm_knn[idx, idx]\n",
        "    \n",
        "    # The accuracy for the current class is ratio between correct predictions to all predictions\n",
        "    per_class_accuracies[cls] = (true_positives + true_negatives) / np.sum(cm_dtree)\n",
        "\n",
        "per_class_accuracies"
      ]
    },
    {
      "cell_type": "markdown",
      "metadata": {
        "id": "b61Z9CXrEXbN"
      },
      "source": [
        "##**6.3.3 Classification Report**"
      ]
    },
    {
      "cell_type": "code",
      "execution_count": null,
      "metadata": {
        "colab": {
          "base_uri": "https://localhost:8080/"
        },
        "id": "DDD5hmIREslb",
        "outputId": "b9b2a447-3eec-4e33-daee-cfa52f90dd74"
      },
      "outputs": [
        {
          "output_type": "stream",
          "name": "stdout",
          "text": [
            "              precision    recall  f1-score   support\n",
            "\n",
            "   ExcessAir       0.59      0.96      0.73      2151\n",
            "     Fouling       0.52      0.46      0.49      2613\n",
            "        Lean       0.07      0.02      0.03       287\n",
            "     Nominal       0.12      0.09      0.10       526\n",
            "     Scaling       0.64      0.44      0.52      2607\n",
            "\n",
            "    accuracy                           0.55      8184\n",
            "   macro avg       0.38      0.40      0.37      8184\n",
            "weighted avg       0.53      0.55      0.52      8184\n",
            "\n"
          ]
        }
      ],
      "source": [
        "print(metrics.classification_report(y_test, y_pred, digits=2))"
      ]
    },
    {
      "cell_type": "markdown",
      "metadata": {
        "id": "mVOxLDihFqnv"
      },
      "source": [
        "##**6.4 Via Extreme Gradient Boost (XGBoost) Classifier**"
      ]
    },
    {
      "cell_type": "markdown",
      "metadata": {
        "id": "gCxSbeCAE7T-"
      },
      "source": [
        "##**6.4.1 Model Accuracy**"
      ]
    },
    {
      "cell_type": "code",
      "execution_count": null,
      "metadata": {
        "colab": {
          "base_uri": "https://localhost:8080/"
        },
        "id": "2y-Hz2r3B3AM",
        "outputId": "076d2910-3a5e-4b7f-ce2b-03c5f113d3ec"
      },
      "outputs": [
        {
          "output_type": "stream",
          "name": "stdout",
          "text": [
            "\n",
            "Accuracy :  68.33\n"
          ]
        }
      ],
      "source": [
        "from xgboost import XGBClassifier\n",
        "\n",
        "model = XGBClassifier()\n",
        "model.fit(X_train, y_train)\n",
        "y_pred = model.predict(X_test)\n",
        "a_xg = accuracy_score(y_test, y_pred)\n",
        "a_xg = round(a_xg*100,2)\n",
        "print('\\nAccuracy : ', a_xg)"
      ]
    },
    {
      "cell_type": "markdown",
      "metadata": {
        "id": "kAg3mhWiE_7n"
      },
      "source": [
        "##**6.4.2 Inter-class Accuracy**"
      ]
    },
    {
      "cell_type": "code",
      "execution_count": null,
      "metadata": {
        "colab": {
          "base_uri": "https://localhost:8080/"
        },
        "id": "c7HGgzjKFRLd",
        "outputId": "0e6df2a8-36db-4ac7-c9a5-4dc0926c8a61"
      },
      "outputs": [
        {
          "output_type": "execute_result",
          "data": {
            "text/plain": [
              "{'ExcessAir': 0.9538123167155426,\n",
              " 'Fouling': 0.956256109481916,\n",
              " 'Lean': 0.9958455522971652,\n",
              " 'Nominal': 0.8930840664711632,\n",
              " 'Scaling': 0.8361436950146628}"
            ]
          },
          "metadata": {},
          "execution_count": 31
        }
      ],
      "source": [
        "cm_xg = confusion_matrix(y_test, y_pred)\n",
        "\n",
        "classes = ['Lean', 'Nominal' ,'ExcessAir', 'Fouling' ,'Scaling']\n",
        "\n",
        "# We will store the results in a dictionary for easy access later\n",
        "per_class_accuracies = {}\n",
        "\n",
        "# Calculate the accuracy for each one of our classes\n",
        "for idx, cls in enumerate(classes):\n",
        "    # True negatives are all the samples that are not our current GT class (not the current row) \n",
        "    # and were not predicted as the current class (not the current column)\n",
        "    true_negatives = np.sum(np.delete(np.delete(cm_dtree, idx, axis=0), idx, axis=1))\n",
        "    \n",
        "    # True positives are all the samples of our current GT class that were predicted as such\n",
        "    true_positives = cm_xg[idx, idx]\n",
        "    \n",
        "    # The accuracy for the current class is ratio between correct predictions to all predictions\n",
        "    per_class_accuracies[cls] = (true_positives + true_negatives) / np.sum(cm_dtree)\n",
        "\n",
        "per_class_accuracies"
      ]
    },
    {
      "cell_type": "markdown",
      "metadata": {
        "id": "5dLDrcx4FDio"
      },
      "source": [
        "##**6.4.3 Classification Report**"
      ]
    },
    {
      "cell_type": "code",
      "execution_count": null,
      "metadata": {
        "colab": {
          "base_uri": "https://localhost:8080/"
        },
        "id": "3NtMm69bFW80",
        "outputId": "392857a8-b3cd-4a8e-dc77-3cd08ab47947"
      },
      "outputs": [
        {
          "output_type": "stream",
          "name": "stdout",
          "text": [
            "              precision    recall  f1-score   support\n",
            "\n",
            "   ExcessAir       0.57      0.99      0.73      2151\n",
            "     Fouling       0.68      0.73      0.70      2613\n",
            "        Lean       0.56      0.03      0.07       287\n",
            "     Nominal       0.91      0.40      0.55       526\n",
            "     Scaling       0.95      0.51      0.67      2607\n",
            "\n",
            "    accuracy                           0.68      8184\n",
            "   macro avg       0.73      0.53      0.54      8184\n",
            "weighted avg       0.75      0.68      0.66      8184\n",
            "\n"
          ]
        }
      ],
      "source": [
        "print(metrics.classification_report(y_test, y_pred, digits=2))"
      ]
    },
    {
      "cell_type": "markdown",
      "metadata": {
        "id": "h1xjwwXfGDsD"
      },
      "source": [
        "##**6.5 Via Standard Vector Machine (SVM) Classifier**"
      ]
    },
    {
      "cell_type": "markdown",
      "metadata": {
        "id": "FTD9Dfs_Fa0k"
      },
      "source": [
        "##**6.5.1 Model Accuracy**"
      ]
    },
    {
      "cell_type": "code",
      "execution_count": null,
      "metadata": {
        "colab": {
          "base_uri": "https://localhost:8080/"
        },
        "id": "WtCMIS-GCWJm",
        "outputId": "5f74e6b2-ba71-4d6f-ddb6-e40546724db4"
      },
      "outputs": [
        {
          "output_type": "stream",
          "name": "stdout",
          "text": [
            "Accuracy : 62.27\n"
          ]
        }
      ],
      "source": [
        "from sklearn.preprocessing import StandardScaler\n",
        "from sklearn.metrics import accuracy_score\n",
        "from sklearn.svm import SVC\n",
        "\n",
        "scaler = StandardScaler()\n",
        "X_train = scaler.fit_transform(X_train)\n",
        "X_test = scaler.transform(X_test)\n",
        "\n",
        "svc=SVC() \n",
        "svc.fit(X_train,y_train)\n",
        "y_pred=svc.predict(X_test)\n",
        "a_svm = accuracy_score(y_test, y_pred)\n",
        "a_svm = round(a_svm*100,2)\n",
        "print('Accuracy : {0:0.2f}'. format(a_svm))"
      ]
    },
    {
      "cell_type": "markdown",
      "metadata": {
        "id": "PwuvZtYeFgHD"
      },
      "source": [
        "##**6.5.2 Inter-class Accuracy**"
      ]
    },
    {
      "cell_type": "code",
      "execution_count": null,
      "metadata": {
        "colab": {
          "base_uri": "https://localhost:8080/"
        },
        "id": "k8O2ivCXF1KR",
        "outputId": "0ef160b6-a56a-44e8-ad5f-6d19a60d5ee0"
      },
      "outputs": [
        {
          "output_type": "execute_result",
          "data": {
            "text/plain": [
              "{'ExcessAir': 0.9525904203323559,\n",
              " 'Fouling': 0.9710410557184751,\n",
              " 'Lean': 0.9958455522971652,\n",
              " 'Nominal': 0.8156158357771262,\n",
              " 'Scaling': 0.8394428152492669}"
            ]
          },
          "metadata": {},
          "execution_count": 34
        }
      ],
      "source": [
        "cm_svm = confusion_matrix(y_test, y_pred)\n",
        "\n",
        "classes = ['Lean', 'Nominal' ,'ExcessAir', 'Fouling' ,'Scaling']\n",
        "\n",
        "# We will store the results in a dictionary for easy access later\n",
        "per_class_accuracies = {}\n",
        "\n",
        "# Calculate the accuracy for each one of our classes\n",
        "for idx, cls in enumerate(classes):\n",
        "    # True negatives are all the samples that are not our current GT class (not the current row) \n",
        "    # and were not predicted as the current class (not the current column)\n",
        "    true_negatives = np.sum(np.delete(np.delete(cm_dtree, idx, axis=0), idx, axis=1))\n",
        "    \n",
        "    # True positives are all the samples of our current GT class that were predicted as such\n",
        "    true_positives = cm_svm[idx, idx]\n",
        "    \n",
        "    # The accuracy for the current class is ratio between correct predictions to all predictions\n",
        "    per_class_accuracies[cls] = (true_positives + true_negatives) / np.sum(cm_dtree)\n",
        "\n",
        "per_class_accuracies"
      ]
    },
    {
      "cell_type": "markdown",
      "metadata": {
        "id": "ON1QAG84FlCi"
      },
      "source": [
        "##**6.5.3 Classification Report**"
      ]
    },
    {
      "cell_type": "code",
      "execution_count": null,
      "metadata": {
        "colab": {
          "base_uri": "https://localhost:8080/"
        },
        "id": "VgYYPLHHF7QG",
        "outputId": "6e4e96f8-44e6-46f6-ffae-04e4ffcdf33e"
      },
      "outputs": [
        {
          "output_type": "stream",
          "name": "stdout",
          "text": [
            "              precision    recall  f1-score   support\n",
            "\n",
            "   ExcessAir       0.65      0.99      0.78      2151\n",
            "     Fouling       0.64      0.49      0.55      2613\n",
            "        Lean       0.00      0.00      0.00       287\n",
            "     Nominal       0.34      0.63      0.44       526\n",
            "     Scaling       0.72      0.52      0.60      2607\n",
            "\n",
            "    accuracy                           0.62      8184\n",
            "   macro avg       0.47      0.53      0.47      8184\n",
            "weighted avg       0.62      0.62      0.60      8184\n",
            "\n"
          ]
        },
        {
          "output_type": "stream",
          "name": "stderr",
          "text": [
            "/usr/local/lib/python3.7/dist-packages/sklearn/metrics/_classification.py:1318: UndefinedMetricWarning: Precision and F-score are ill-defined and being set to 0.0 in labels with no predicted samples. Use `zero_division` parameter to control this behavior.\n",
            "  _warn_prf(average, modifier, msg_start, len(result))\n",
            "/usr/local/lib/python3.7/dist-packages/sklearn/metrics/_classification.py:1318: UndefinedMetricWarning: Precision and F-score are ill-defined and being set to 0.0 in labels with no predicted samples. Use `zero_division` parameter to control this behavior.\n",
            "  _warn_prf(average, modifier, msg_start, len(result))\n",
            "/usr/local/lib/python3.7/dist-packages/sklearn/metrics/_classification.py:1318: UndefinedMetricWarning: Precision and F-score are ill-defined and being set to 0.0 in labels with no predicted samples. Use `zero_division` parameter to control this behavior.\n",
            "  _warn_prf(average, modifier, msg_start, len(result))\n"
          ]
        }
      ],
      "source": [
        "print(metrics.classification_report(y_test, y_pred, digits=2))"
      ]
    },
    {
      "cell_type": "markdown",
      "metadata": {
        "id": "5VgAsxzUHd6c"
      },
      "source": [
        "##**6.6 Via Auto Machine Learning**"
      ]
    },
    {
      "cell_type": "code",
      "execution_count": null,
      "metadata": {
        "colab": {
          "base_uri": "https://localhost:8080/"
        },
        "id": "S2U1fEflIV3W",
        "outputId": "c21169f5-e4f3-4cfa-c72f-00a32bf51dbe"
      },
      "outputs": [
        {
          "output_type": "stream",
          "name": "stdout",
          "text": [
            "Reading package lists... Done\n",
            "Building dependency tree       \n",
            "Reading state information... Done\n",
            "swig is already the newest version (3.0.12-1).\n",
            "0 upgraded, 0 newly installed, 0 to remove and 37 not upgraded.\n",
            "Requirement already satisfied: Cython in /usr/local/lib/python3.7/dist-packages (0.29.26)\n",
            "Requirement already satisfied: numpy in /usr/local/lib/python3.7/dist-packages (1.19.5)\n",
            "Requirement already satisfied: auto-sklearn in /usr/local/lib/python3.7/dist-packages (0.14.3)\n",
            "Requirement already satisfied: threadpoolctl in /usr/local/lib/python3.7/dist-packages (from auto-sklearn) (3.0.0)\n",
            "Requirement already satisfied: scipy>=1.7.0 in /usr/local/lib/python3.7/dist-packages (from auto-sklearn) (1.7.0)\n",
            "Requirement already satisfied: setuptools in /usr/local/lib/python3.7/dist-packages (from auto-sklearn) (57.4.0)\n",
            "Requirement already satisfied: typing-extensions in /usr/local/lib/python3.7/dist-packages (from auto-sklearn) (3.10.0.2)\n",
            "Requirement already satisfied: scikit-learn<0.25.0,>=0.24.0 in /usr/local/lib/python3.7/dist-packages (from auto-sklearn) (0.24.2)\n",
            "Requirement already satisfied: joblib in /usr/local/lib/python3.7/dist-packages (from auto-sklearn) (1.1.0)\n",
            "Requirement already satisfied: pandas>=1.0 in /usr/local/lib/python3.7/dist-packages (from auto-sklearn) (1.1.5)\n",
            "Requirement already satisfied: liac-arff in /usr/local/lib/python3.7/dist-packages (from auto-sklearn) (2.5.0)\n",
            "Requirement already satisfied: pyrfr<0.9,>=0.8.1 in /usr/local/lib/python3.7/dist-packages (from auto-sklearn) (0.8.2)\n",
            "Requirement already satisfied: smac>=0.14 in /usr/local/lib/python3.7/dist-packages (from auto-sklearn) (1.1.1)\n",
            "Requirement already satisfied: ConfigSpace<0.5,>=0.4.14 in /usr/local/lib/python3.7/dist-packages (from auto-sklearn) (0.4.20)\n",
            "Requirement already satisfied: distributed>=2012.12 in /usr/local/lib/python3.7/dist-packages (from auto-sklearn) (2022.1.0)\n",
            "Requirement already satisfied: numpy>=1.9.0 in /usr/local/lib/python3.7/dist-packages (from auto-sklearn) (1.19.5)\n",
            "Requirement already satisfied: pyyaml in /usr/local/lib/python3.7/dist-packages (from auto-sklearn) (6.0)\n",
            "Requirement already satisfied: dask>=2021.12 in /usr/local/lib/python3.7/dist-packages (from auto-sklearn) (2022.1.0)\n",
            "Requirement already satisfied: pynisher>=0.6.3 in /usr/local/lib/python3.7/dist-packages (from auto-sklearn) (0.6.4)\n",
            "Requirement already satisfied: cython in /usr/local/lib/python3.7/dist-packages (from ConfigSpace<0.5,>=0.4.14->auto-sklearn) (0.29.26)\n",
            "Requirement already satisfied: pyparsing in /usr/local/lib/python3.7/dist-packages (from ConfigSpace<0.5,>=0.4.14->auto-sklearn) (3.0.6)\n",
            "Requirement already satisfied: fsspec>=0.6.0 in /usr/local/lib/python3.7/dist-packages (from dask>=2021.12->auto-sklearn) (2022.1.0)\n",
            "Requirement already satisfied: toolz>=0.8.2 in /usr/local/lib/python3.7/dist-packages (from dask>=2021.12->auto-sklearn) (0.11.2)\n",
            "Requirement already satisfied: cloudpickle>=1.1.1 in /usr/local/lib/python3.7/dist-packages (from dask>=2021.12->auto-sklearn) (2.0.0)\n",
            "Requirement already satisfied: partd>=0.3.10 in /usr/local/lib/python3.7/dist-packages (from dask>=2021.12->auto-sklearn) (1.2.0)\n",
            "Requirement already satisfied: packaging>=20.0 in /usr/local/lib/python3.7/dist-packages (from dask>=2021.12->auto-sklearn) (21.3)\n",
            "Requirement already satisfied: tornado>=5 in /usr/local/lib/python3.7/dist-packages (from distributed>=2012.12->auto-sklearn) (5.1.1)\n",
            "Requirement already satisfied: jinja2 in /usr/local/lib/python3.7/dist-packages (from distributed>=2012.12->auto-sklearn) (2.11.3)\n",
            "Requirement already satisfied: sortedcontainers!=2.0.0,!=2.0.1 in /usr/local/lib/python3.7/dist-packages (from distributed>=2012.12->auto-sklearn) (2.4.0)\n",
            "Requirement already satisfied: tblib>=1.6.0 in /usr/local/lib/python3.7/dist-packages (from distributed>=2012.12->auto-sklearn) (1.7.0)\n",
            "Requirement already satisfied: zict>=0.1.3 in /usr/local/lib/python3.7/dist-packages (from distributed>=2012.12->auto-sklearn) (2.0.0)\n",
            "Requirement already satisfied: msgpack>=0.6.0 in /usr/local/lib/python3.7/dist-packages (from distributed>=2012.12->auto-sklearn) (1.0.3)\n",
            "Requirement already satisfied: click>=6.6 in /usr/local/lib/python3.7/dist-packages (from distributed>=2012.12->auto-sklearn) (7.1.2)\n",
            "Requirement already satisfied: psutil>=5.0 in /usr/local/lib/python3.7/dist-packages (from distributed>=2012.12->auto-sklearn) (5.4.8)\n",
            "Requirement already satisfied: python-dateutil>=2.7.3 in /usr/local/lib/python3.7/dist-packages (from pandas>=1.0->auto-sklearn) (2.8.2)\n",
            "Requirement already satisfied: pytz>=2017.2 in /usr/local/lib/python3.7/dist-packages (from pandas>=1.0->auto-sklearn) (2018.9)\n",
            "Requirement already satisfied: locket in /usr/local/lib/python3.7/dist-packages (from partd>=0.3.10->dask>=2021.12->auto-sklearn) (0.2.1)\n",
            "Requirement already satisfied: six>=1.5 in /usr/local/lib/python3.7/dist-packages (from python-dateutil>=2.7.3->pandas>=1.0->auto-sklearn) (1.15.0)\n",
            "Requirement already satisfied: emcee>=3.0.0 in /usr/local/lib/python3.7/dist-packages (from smac>=0.14->auto-sklearn) (3.1.1)\n",
            "Requirement already satisfied: heapdict in /usr/local/lib/python3.7/dist-packages (from zict>=0.1.3->distributed>=2012.12->auto-sklearn) (1.0.1)\n",
            "Requirement already satisfied: MarkupSafe>=0.23 in /usr/local/lib/python3.7/dist-packages (from jinja2->distributed>=2012.12->auto-sklearn) (2.0.1)\n"
          ]
        }
      ],
      "source": [
        "!apt-get install swig -y\n",
        "!pip install Cython numpy\n",
        "!pip install auto-sklearn"
      ]
    },
    {
      "cell_type": "code",
      "execution_count": null,
      "metadata": {
        "colab": {
          "base_uri": "https://localhost:8080/"
        },
        "id": "RYhvNOppIkAq",
        "outputId": "877d4eba-86e3-41f1-a424-7608f7347149"
      },
      "outputs": [
        {
          "output_type": "stream",
          "name": "stdout",
          "text": [
            "Requirement already satisfied: scipy==1.7.0 in /usr/local/lib/python3.7/dist-packages (1.7.0)\n",
            "Requirement already satisfied: numpy<1.23.0,>=1.16.5 in /usr/local/lib/python3.7/dist-packages (from scipy==1.7.0) (1.19.5)\n"
          ]
        }
      ],
      "source": [
        "pip install scipy==1.7.0"
      ]
    },
    {
      "cell_type": "code",
      "execution_count": null,
      "metadata": {
        "id": "er-062wZ2Zfi"
      },
      "outputs": [],
      "source": [
        "import scipy\n",
        "print(scipy.__version__)"
      ]
    },
    {
      "cell_type": "code",
      "execution_count": null,
      "metadata": {
        "id": "vwtpZpjUzNg1"
      },
      "outputs": [],
      "source": [
        "import sklearn\n",
        "import pandas as pd\n",
        "import autosklearn.classification as classifier\n",
        "from sklearn.model_selection import train_test_split "
      ]
    },
    {
      "cell_type": "markdown",
      "metadata": {
        "id": "fi_KJWfbI6YC"
      },
      "source": [
        "##**6.6.1 Model Accuracy**"
      ]
    },
    {
      "cell_type": "code",
      "execution_count": null,
      "metadata": {
        "colab": {
          "base_uri": "https://localhost:8080/"
        },
        "id": "Vn2kxLN5Hdcp",
        "outputId": "1160bb48-5059-4d8c-9371-0f1cd420012e"
      },
      "outputs": [
        {
          "output_type": "stream",
          "name": "stderr",
          "text": [
            "Process ForkProcess-1:\n",
            "Traceback (most recent call last):\n",
            "  File \"/usr/lib/python3.7/multiprocessing/process.py\", line 297, in _bootstrap\n",
            "    self.run()\n",
            "  File \"/usr/lib/python3.7/multiprocessing/process.py\", line 99, in run\n",
            "    self._target(*self._args, **self._kwargs)\n",
            "  File \"/usr/local/lib/python3.7/dist-packages/autosklearn/util/logging_.py\", line 320, in start_log_server\n",
            "    receiver.serve_until_stopped()\n",
            "  File \"/usr/local/lib/python3.7/dist-packages/autosklearn/util/logging_.py\", line 352, in serve_until_stopped\n",
            "    self.timeout)\n",
            "KeyboardInterrupt\n"
          ]
        }
      ],
      "source": [
        "automlclassifier = classifier.AutoSklearnClassifier(time_left_for_this_task=3600, per_run_time_limit=90)\n",
        "automlclassifier.fit(X_train,y_train)\n",
        "\n",
        "y_pred=automlclassifier.predict(X_test)\n",
        "\n",
        "a_ml = accuracy_score(y_test, y_pred)\n",
        "a_ml = round(a_ml*100,2)\n",
        "print(\"Accuracy: \", a_ml)\n",
        "\n",
        "# automlclassifier.show_models()"
      ]
    },
    {
      "cell_type": "code",
      "execution_count": null,
      "metadata": {
        "id": "HSX1dlp8y0_D"
      },
      "outputs": [],
      "source": [
        "automlclassifier.show_models()"
      ]
    },
    {
      "cell_type": "code",
      "execution_count": null,
      "metadata": {
        "id": "-Qv3tIB5HNzn"
      },
      "outputs": [],
      "source": [
        "cm_dtree = confusion_matrix(y_test, y_pred)\n",
        "\n",
        "cmn = cm_dtree.astype('float') / cm_dtree.sum(axis=1)[:, np.newaxis]\n",
        "\n",
        "x_axis_labels = ['Lean' ,'Nominal', 'ExcessAir' ,'Fouling' ,'Scaling'] # labels for x-axis\n",
        "y_axis_labels = ['Lean' ,'Nominal', 'ExcessAir' ,'Fouling' ,'Scaling'] # labels for y-axis\n",
        "\n",
        "plt.figure(figsize=(15,10))\n",
        "plt.title(\"Decision Tree Classifier Confusion Matrix\")\n",
        "sns.heatmap(cmn,annot=True,cmap=\"Reds\",cbar=True, annot_kws={\"size\": 10}, xticklabels=x_axis_labels, yticklabels=y_axis_labels)\n",
        "plt.show()"
      ]
    },
    {
      "cell_type": "markdown",
      "metadata": {
        "id": "Kvy_AybDI_Rn"
      },
      "source": [
        "##**6.6.2 Inter-class Accuracy**"
      ]
    },
    {
      "cell_type": "code",
      "execution_count": null,
      "metadata": {
        "id": "OEGn3FewJQon"
      },
      "outputs": [],
      "source": [
        "cm_ml = confusion_matrix(y_test, y_pred)\n",
        "\n",
        "classes = ['Lean', 'Nominal' ,'ExcessAir', 'Fouling' ,'Scaling']\n",
        "\n",
        "# We will store the results in a dictionary for easy access later\n",
        "per_class_accuracies = {}\n",
        "\n",
        "# Calculate the accuracy for each one of our classes\n",
        "for idx, cls in enumerate(classes):\n",
        "    # True negatives are all the samples that are not our current GT class (not the current row) \n",
        "    # and were not predicted as the current class (not the current column)\n",
        "    true_negatives = np.sum(np.delete(np.delete(cm_dtree, idx, axis=0), idx, axis=1))\n",
        "    \n",
        "    # True positives are all the samples of our current GT class that were predicted as such\n",
        "    true_positives = cm_ml[idx, idx]\n",
        "    \n",
        "    # The accuracy for the current class is ratio between correct predictions to all predictions\n",
        "    per_class_accuracies[cls] = (true_positives + true_negatives) / np.sum(cm_dtree)\n",
        "\n",
        "per_class_accuracies"
      ]
    },
    {
      "cell_type": "markdown",
      "metadata": {
        "id": "2GjrEuOHJGmb"
      },
      "source": [
        "##**6.6.3 Classification Report**"
      ]
    },
    {
      "cell_type": "code",
      "execution_count": null,
      "metadata": {
        "id": "SzTtdZpZJMqt"
      },
      "outputs": [],
      "source": [
        "print(metrics.classification_report(y_test, y_pred, digits=2))"
      ]
    },
    {
      "cell_type": "markdown",
      "metadata": {
        "id": "6Oe_MLweXO2G"
      },
      "source": [
        "#**7. Model Training and Classification**\n",
        "##**Target Variable: Condition**"
      ]
    },
    {
      "cell_type": "code",
      "execution_count": null,
      "metadata": {
        "id": "mfjquX1KWByg"
      },
      "outputs": [],
      "source": [
        "#split dataset in features and target variable\n",
        "features = [\"Fuel_Mdot\",\"Tair\",\"Treturn\",\"Tsupply\",\"Water_Mdot\"]\n",
        "X = df[features] # Features\n",
        "y = df.Condition # Target variable\n",
        "\n",
        "\n",
        "# Split dataset into training set and test set\n",
        "X_train, X_test, y_train, y_test = train_test_split(X, y, test_size=0.3, random_state=1) # 70% training and 30% test\n",
        "\n",
        "\n",
        "from sklearn.tree import DecisionTreeClassifier\n",
        "import sklearn.metrics as metrics\n",
        "\n",
        "# Create Decision Tree classifer object\n",
        "clf = DecisionTreeClassifier()\n",
        "\n",
        "# Train Decision Tree Classifer\n",
        "clf = clf.fit(X_train,y_train)\n",
        "\n",
        "#Predict the response for test dataset\n",
        "y_pred = clf.predict(X_test)\n",
        "\n",
        "print(\"Accuracy:\",metrics.accuracy_score(y_test, y_pred))\n",
        "print(\"\\n\")\n"
      ]
    },
    {
      "cell_type": "code",
      "execution_count": null,
      "metadata": {
        "id": "1mloTg9bo0D2"
      },
      "outputs": [],
      "source": [
        "cm_dtree = confusion_matrix(y_test, y_pred)\n",
        "\n",
        "cmn = cm_dtree.astype('float') / cm_dtree.sum(axis=1)[:, np.newaxis]\n",
        "\n",
        "x_axis_labels = ['%=0.05', '%=0.1',\t'%=0.15',\t'%=0.20',\t'%=0.25',\t'%=0.3',\t'%=0.35',\t\n",
        "                 '%=0.40',\t'%=0.45',\t'%=0.50',\t'F = 0.01',\t'F = 0.06',\t'F = 0.11',\t'F = 0.16',\t'F = 0.21',\n",
        "                 'F = 0.26',\t'F = 0.31',\t'F = 0.36',\t'F = 0.41',\t'F = 0.46',\t'Nominal',\t'S = 0.01',\t'S = 0.06',\t\n",
        "                 'S = 0.11',\t'S = 0.16',\t'S = 0.21',\t'S = 0.26',\t'S = 0.31',\t'S = 0.36',\t'S = 0.41',\t'S = 0.46'] # labels for x-axis\n",
        "y_axis_labels =['%=0.05', '%=0.1',\t'%=0.15',\t'%=0.20',\t'%=0.25',\t'%=0.3',\t'%=0.35',\t\n",
        "                 '%=0.40',\t'%=0.45',\t'%=0.50',\t'F = 0.01',\t'F = 0.06',\t'F = 0.11',\t'F = 0.16',\t'F = 0.21',\n",
        "                 'F = 0.26',\t'F = 0.31',\t'F = 0.36',\t'F = 0.41',\t'F = 0.46',\t'Nominal',\t'S = 0.01',\t'S = 0.06',\t\n",
        "                 'S = 0.11',\t'S = 0.16',\t'S = 0.21',\t'S = 0.26',\t'S = 0.31',\t'S = 0.36',\t'S = 0.41',\t'S = 0.46'] # labels for y-axis\n",
        "\n",
        "plt.figure(figsize=(20,15))\n",
        "plt.title(\"Decision Tree Classifier Confusion Matrix\")\n",
        "sns.heatmap(cmn,annot=True,cmap=\"Reds\",cbar=True, annot_kws={\"size\": 10}, xticklabels=x_axis_labels, yticklabels=y_axis_labels)\n",
        "plt.show()"
      ]
    },
    {
      "cell_type": "markdown",
      "metadata": {
        "id": "FSaPiRmSGM7A"
      },
      "source": [
        "#**8. Comparative Study of Classification Models**"
      ]
    },
    {
      "cell_type": "code",
      "execution_count": null,
      "metadata": {
        "id": "8Fk4pf5lElXy"
      },
      "outputs": [],
      "source": [
        "\n",
        "# importing library\n",
        "import matplotlib.pyplot as plt\n",
        "  \n",
        "# function to add value labels\n",
        "def addlabels(x,y):\n",
        "    for i in range(len(x)):\n",
        "        plt.text(i,y[i],y[i])\n",
        "  \n",
        "if __name__ == '__main__':\n",
        "\n",
        "    x = ['Auto ML','Decision Tree',  'Random Forest' , 'XG Boost' , 'SVM', 'KNN']\n",
        "    y = [a_ml, a_dtree, a_rf, a_xg, a_svm, a_knn]\n",
        "\n",
        "    plt.figure(figsize=(15,10))  \n",
        "    plt.bar(x, y, color=['orange', 'blue', 'red', 'purple', 'green', 'brown']) \n",
        "    addlabels(x, y)\n",
        "      \n",
        "    plt.title(\"Comparison of Accuracies for Classification Models\")\n",
        "    plt.xlabel(\"Classifier\")\n",
        "    plt.ylabel(\"Accuracy\")\n",
        "    plt.show()"
      ]
    },
    {
      "cell_type": "markdown",
      "metadata": {
        "id": "yg61mAYYPqLM"
      },
      "source": [
        "#**9. Feature Selection**"
      ]
    },
    {
      "cell_type": "markdown",
      "metadata": {
        "id": "mYyfKuocSc5l"
      },
      "source": [
        "##**Impact of features on `ExcessAir`**"
      ]
    },
    {
      "cell_type": "code",
      "execution_count": null,
      "metadata": {
        "id": "W8Oi6kkYSc5m"
      },
      "outputs": [],
      "source": [
        "#split dataset in features and target variable\n",
        "f_e = [\"Fuel_Mdot\",\"Tair\",\"Treturn\",\"Tsupply\",\"Water_Mdot\"]\n",
        "X_e = df_pre_1[f_e] # Features\n",
        "y_e = df_pre_1.ExcessAir # Target variable\n",
        "\n",
        "\n",
        "# Split dataset into training set and test set\n",
        "X_train_e, X_test_e, y_train_e, y_test_e = train_test_split(X_e, y_e, test_size=0.3, random_state=1) # 70% training and 30% test\n",
        "\n",
        "\n",
        "automlclassifier = classifier.AutoSklearnClassifier(time_left_for_this_task=100, per_run_time_limit=30)\n",
        "automlclassifier.fit(X_train_e,y_train_e)\n",
        "\n",
        "y_pred_e=automlclassifier.predict(X_test_e)\n",
        "\n",
        "print(\"Accuracy:\",metrics.accuracy_score(y_test_e, y_pred_e))\n",
        "print(\"\\n\")\n",
        "\n",
        "plt.figure(figsize = (15,8))\n",
        "importance = clf.feature_importances_\n",
        "for i,v in enumerate(importance):\n",
        "\tprint('Feature: %0d, Score: %.5f' % (i,v))\n",
        "# # plot feature importance\n",
        "plt.bar([x for x in range(len(importance))], importance)\n",
        "plt.title(\"Impact of features on 'Excess Air' \")\n",
        "plt.xlabel(\"Features\")\n",
        "plt.ylabel(\"Impact Score\")\n",
        "plt.show()"
      ]
    },
    {
      "cell_type": "markdown",
      "metadata": {
        "id": "TxzpHwDHSc5m"
      },
      "source": [
        "##**Impact of features on `Fouling`**"
      ]
    },
    {
      "cell_type": "code",
      "execution_count": null,
      "metadata": {
        "id": "oFGod_4USc5m"
      },
      "outputs": [],
      "source": [
        "#split dataset in features and target variable\n",
        "f_f = [\"Fuel_Mdot\",\"Tair\",\"Treturn\",\"Tsupply\",\"Water_Mdot\"]\n",
        "X_f = df_pre_1[f_f] # Features\n",
        "y_f = df_pre_1.Fouling # Target variable\n",
        "\n",
        "\n",
        "# Split dataset into training set and test set\n",
        "X_train_f, X_test_f, y_train_f, y_test_f = train_test_split(X_f, y_f, test_size=0.3, random_state=1) # 70% training and 30% test\n",
        "\n",
        "\n",
        "automlclassifier = classifier.AutoSklearnClassifier(time_left_for_this_task=100, per_run_time_limit=30)\n",
        "automlclassifier.fit(X_train_f,y_train_f)\n",
        "\n",
        "y_pred_f=automlclassifier.predict(X_test_f)\n",
        "\n",
        "print(\"Accuracy:\",metrics.accuracy_score(y_test_f, y_pred_f))\n",
        "print(\"\\n\")\n",
        "\n",
        "\n",
        "plt.figure(figsize = (15,8))\n",
        "importance = clf.feature_importances_\n",
        "for i,v in enumerate(importance):\n",
        "\tprint('Feature: %0d, Score: %.5f' % (i,v))\n",
        "# plot feature importance\n",
        "plt.bar([x for x in range(len(importance))], importance)\n",
        "plt.title(\"Impact of features on 'Fouling' \")\n",
        "plt.xlabel(\"Features\")\n",
        "plt.ylabel(\"Impact Score\")\n",
        "plt.show()"
      ]
    },
    {
      "cell_type": "markdown",
      "metadata": {
        "id": "x3o2_7MHSc5n"
      },
      "source": [
        "##**Impact of features on `Scaling`**"
      ]
    },
    {
      "cell_type": "code",
      "execution_count": null,
      "metadata": {
        "id": "S8T-FjvESc5n"
      },
      "outputs": [],
      "source": [
        "#split dataset in features and target variable\n",
        "f_s = [\"Fuel_Mdot\",\"Tair\",\"Treturn\",\"Tsupply\",\"Water_Mdot\"]\n",
        "X_s = df_pre_1[f_s] # Features\n",
        "y_s = df_pre_1.Scaling # Target variable\n",
        "\n",
        "\n",
        "# Split dataset into training set and test set\n",
        "X_train_s, X_test_s, y_train_s, y_test_s = train_test_split(X_s, y_s, test_size=0.3, random_state=1) # 70% training and 30% test\n",
        "\n",
        "\n",
        "automlclassifier = classifier.AutoSklearnClassifier(time_left_for_this_task=100, per_run_time_limit=30)\n",
        "automlclassifier.fit(X_train_s,y_train_s)\n",
        "\n",
        "y_pred_s=automlclassifier.predict(X_test_s)\n",
        "\n",
        "print(\"Accuracy:\",metrics.accuracy_score(y_test_s, y_pred_s))\n",
        "print(\"\\n\")\n",
        "\n",
        "\n",
        "plt.figure(figsize = (15,8))\n",
        "importance = clf.feature_importances_\n",
        "for i,v in enumerate(importance):\n",
        "\tprint('Feature: %0d, Score: %.5f' % (i,v))\n",
        "# plot feature importance\n",
        "plt.bar([x for x in range(len(importance))], importance)\n",
        "plt.title(\"Impact of features on 'Scaling' \")\n",
        "plt.xlabel(\"Features\")\n",
        "plt.ylabel(\"Impact Score\")\n",
        "plt.show()"
      ]
    },
    {
      "cell_type": "markdown",
      "metadata": {
        "id": "V4UTn486Sc5o"
      },
      "source": [
        "##**Impact of features on `Lean`**"
      ]
    },
    {
      "cell_type": "code",
      "execution_count": null,
      "metadata": {
        "id": "Ki3wpfOhSc5o"
      },
      "outputs": [],
      "source": [
        "#split dataset in features and target variable\n",
        "f_l = [\"Fuel_Mdot\",\"Tair\",\"Treturn\",\"Tsupply\",\"Water_Mdot\"]\n",
        "X_l = df_pre_1[f_l] # Features\n",
        "y_l = df_pre_1.Lean # Target variable\n",
        "\n",
        "\n",
        "# Split dataset into training set and test set\n",
        "X_train_l, X_test_l, y_train_l, y_test_l = train_test_split(X_l, y_l, test_size=0.3, random_state=1) # 70% training and 30% test\n",
        "\n",
        "\n",
        "automlclassifier = classifier.AutoSklearnClassifier(time_left_for_this_task=100, per_run_time_limit=30)\n",
        "automlclassifier.fit(X_train_l,y_train_l)\n",
        "\n",
        "y_pred_l=automlclassifier.predict(X_test_l)\n",
        "\n",
        "print(\"Accuracy:\",metrics.accuracy_score(y_test_l, y_pred_l))\n",
        "print(\"\\n\")\n",
        "\n",
        "\n",
        "plt.figure(figsize = (15,8))\n",
        "importance = clf.feature_importances_\n",
        "for i,v in enumerate(importance):\n",
        "\tprint('Feature: %0d, Score: %.5f' % (i,v))\n",
        "# plot feature importance\n",
        "plt.bar([x for x in range(len(importance))], importance)\n",
        "plt.title(\"Impact of features on 'Lean' \")\n",
        "plt.xlabel(\"Features\")\n",
        "plt.ylabel(\"Impact Score\")\n",
        "plt.show()"
      ]
    },
    {
      "cell_type": "markdown",
      "metadata": {
        "id": "VFkT2PphSc5p"
      },
      "source": [
        "##**Impact of features on `Nominal`**"
      ]
    },
    {
      "cell_type": "code",
      "execution_count": null,
      "metadata": {
        "id": "BjjdkW-ASc5p"
      },
      "outputs": [],
      "source": [
        "#split dataset in features and target variable\n",
        "f_n = [\"Fuel_Mdot\",\"Tair\",\"Treturn\",\"Tsupply\",\"Water_Mdot\"]\n",
        "X_n = df_pre_1[f_n] # Features\n",
        "y_n = df_pre_1.Nominal # Target variable\n",
        "\n",
        "\n",
        "# Split dataset into training set and test set\n",
        "X_train_n, X_test_n, y_train_n, y_test_n = train_test_split(X_n, y_n, test_size=0.3, random_state=1) # 70% training and 30% test\n",
        "\n",
        "\n",
        "automlclassifier = classifier.AutoSklearnClassifier(time_left_for_this_task=100, per_run_time_limit=30)\n",
        "automlclassifier.fit(X_train_n,y_train_n)\n",
        "\n",
        "y_pred_n=automlclassifier.predict(X_test_n)\n",
        "\n",
        "print(\"Accuracy:\",metrics.accuracy_score(y_test_n, y_pred_n))\n",
        "print(\"\\n\")\n",
        "\n",
        "\n",
        "plt.figure(figsize = (15,8))\n",
        "importance = clf.feature_importances_\n",
        "for i,v in enumerate(importance):\n",
        "\tprint('Feature: %0d, Score: %.5f' % (i,v))\n",
        "# plot feature importance\n",
        "plt.bar([x for x in range(len(importance))], importance)\n",
        "plt.title(\"Impact of features on 'Nominal' \")\n",
        "plt.xlabel(\"Features\")\n",
        "plt.ylabel(\"Impact Score\")\n",
        "plt.show()"
      ]
    },
    {
      "cell_type": "markdown",
      "metadata": {
        "id": "CTce3Q5_d_ST"
      },
      "source": [
        "#**10. Effect on Accuracy after Feature Selection**"
      ]
    },
    {
      "cell_type": "markdown",
      "metadata": {
        "id": "7FgLMwkZe5PX"
      },
      "source": [
        "##**10.1 Through Decision Tree Classifier**"
      ]
    },
    {
      "cell_type": "code",
      "execution_count": null,
      "metadata": {
        "id": "X45_XiQTd_B4",
        "colab": {
          "base_uri": "https://localhost:8080/"
        },
        "outputId": "2a731f3e-690a-4db9-81c8-ef67c025e9ce"
      },
      "outputs": [
        {
          "output_type": "stream",
          "name": "stdout",
          "text": [
            "Accuracy: 95.33\n"
          ]
        }
      ],
      "source": [
        "#split dataset in features and target variable\n",
        "feature_cols = [\"Fuel_Mdot\",\"Tair\",\"Tsupply\",\"Water_Mdot\"]\n",
        "X = df[feature_cols] # Features\n",
        "y = df.Class # Target variable\n",
        "\n",
        "# Split dataset into training set and test set\n",
        "X_train, X_test, y_train, y_test = train_test_split(X, y, test_size=0.3, random_state=1) # 70% training and 30% test\n",
        "\n",
        "# Create Decision Tree classifer object\n",
        "clf = DecisionTreeClassifier()\n",
        "\n",
        "# Train Decision Tree Classifer\n",
        "clf = clf.fit(X_train,y_train)\n",
        "\n",
        "#Predict the response for test dataset\n",
        "y_pred = clf.predict(X_test)\n",
        "\n",
        "a_dtree1 = metrics.accuracy_score(y_test, y_pred)\n",
        "a_dtree1 = round(a_dtree1*100,2)\n",
        "# Model Accuracy, how often is the classifier correct?\n",
        "print(\"Accuracy:\", a_dtree1)"
      ]
    },
    {
      "cell_type": "markdown",
      "metadata": {
        "id": "Q_JxnMCRe-Vu"
      },
      "source": [
        "##**10.2 Through Auto ML**"
      ]
    },
    {
      "cell_type": "code",
      "execution_count": null,
      "metadata": {
        "id": "xboD0ttNeXmW",
        "colab": {
          "base_uri": "https://localhost:8080/"
        },
        "outputId": "c840cdba-4b4b-47ad-9b25-3dc7a09cec37"
      },
      "outputs": [
        {
          "output_type": "stream",
          "name": "stdout",
          "text": [
            "Accuracy:  95.67\n"
          ]
        }
      ],
      "source": [
        "automlclassifier = classifier.AutoSklearnClassifier(time_left_for_this_task=1800, per_run_time_limit=90)\n",
        "automlclassifier.fit(X_train,y_train)\n",
        "\n",
        "y_pred=automlclassifier.predict(X_test)\n",
        "\n",
        "a_ml1 = accuracy_score(y_test, y_pred)\n",
        "a_ml1 = round(a_ml1*100,2)\n",
        "print(\"Accuracy: \", a_ml1)"
      ]
    },
    {
      "cell_type": "code",
      "source": [
        "print(metrics.classification_report(y_test, y_pred, digits=2))"
      ],
      "metadata": {
        "colab": {
          "base_uri": "https://localhost:8080/"
        },
        "id": "DPEZ0AaH8zqI",
        "outputId": "9542b388-1ff1-434a-eec0-4e995a25be69"
      },
      "execution_count": null,
      "outputs": [
        {
          "output_type": "stream",
          "name": "stdout",
          "text": [
            "              precision    recall  f1-score   support\n",
            "\n",
            "   ExcessAir       0.99      1.00      1.00      2151\n",
            "     Fouling       0.93      0.96      0.94      2613\n",
            "        Lean       0.56      0.43      0.48       287\n",
            "     Nominal       0.94      0.95      0.94       526\n",
            "     Scaling       0.99      0.98      0.99      2607\n",
            "\n",
            "    accuracy                           0.96      8184\n",
            "   macro avg       0.88      0.86      0.87      8184\n",
            "weighted avg       0.95      0.96      0.95      8184\n",
            "\n"
          ]
        }
      ]
    },
    {
      "cell_type": "code",
      "execution_count": null,
      "metadata": {
        "id": "kSfqpV71e2p5",
        "colab": {
          "base_uri": "https://localhost:8080/",
          "height": 1000
        },
        "outputId": "053ee870-1357-4965-feda-a87df8432f0d"
      },
      "outputs": [
        {
          "output_type": "display_data",
          "data": {
            "image/png": "[encoded data removed]",
            "text/plain": [
              "<Figure size 1080x720 with 1 Axes>"
            ]
          },
          "metadata": {
            "needs_background": "light"
          }
        },
        {
          "output_type": "display_data",
          "data": {
            "image/png": "[encoded data removed]",
            "text/plain": [
              "<Figure size 1080x720 with 1 Axes>"
            ]
          },
          "metadata": {
            "needs_background": "light"
          }
        }
      ],
      "source": [
        "import numpy as np\n",
        "import matplotlib.pyplot as plt\n",
        "\n",
        "# function to add value labels\n",
        "def addlabels(x,y):\n",
        "    for i in range(len(x)):\n",
        "        plt.text(i,y[i],y[i])\n",
        "\n",
        "# set width of bar\n",
        "barWidth = 0.25\n",
        "fig = plt.subplots(figsize =(15, 10))\n",
        " \n",
        "# set height of bar\n",
        "Decision_Tree = [95.21,95.25]\n",
        "Auto_ml = [93.28, 93.43]\n",
        "\n",
        "# Set position of bar on X axis\n",
        "br1 = np.arange(len(Auto_ml))\n",
        "br2 = [x + barWidth for x in br1]\n",
        "br3 = [x + barWidth for x in br2]\n",
        " \n",
        "# Make the plot\n",
        "plt.bar(br1, Decision_Tree, color ='lightpink', width = barWidth,\n",
        "        edgecolor ='grey', label ='Accuracy after Feature Selection')\n",
        "plt.bar(br2, Auto_ml, color ='lightgreen', width = barWidth,\n",
        "        edgecolor ='grey', label ='Accuracy before Feature Selection')\n",
        "\n",
        " \n",
        "# Adding Xticks\n",
        "plt.xlabel('Classifier', fontweight ='bold', fontsize = 15)\n",
        "plt.ylabel('Accuracy', fontweight ='bold', fontsize = 15)\n",
        "plt.xticks([r + barWidth for r in range(len(Auto_ml))],\n",
        "        ['Decision Tree',\"Auto ML\"])\n",
        " \n",
        "plt.legend()\n",
        "plt.show()\n",
        " \n",
        "\n",
        "  \n",
        "if __name__ == '__main__':\n",
        "\n",
        "    x = ['Auto ML','Decision Tree',  'Random Forest' , 'XG Boost' , 'SVM', 'KNN']\n",
        "    y = [a_ml, a_dtree, a_rf, a_xg, a_svm, a_knn]\n",
        "\n",
        "    plt.figure(figsize=(15,10))  \n",
        "    plt.bar(x, y, color=['orange', 'blue', 'red', 'purple', 'green', 'brown']) \n",
        "    addlabels(x, y)\n",
        "      \n",
        "    plt.title(\"Comparison of Accuracies for Classification Models\")\n",
        "    plt.xlabel(\"Classifier\")\n",
        "    plt.ylabel(\"Accuracy\")\n",
        "    plt.show()"
      ]
    },
    {
      "cell_type": "markdown",
      "source": [
        "#**11. Handling Imbalance Data using SMOTE**"
      ],
      "metadata": {
        "id": "6QeN8q0cliEg"
      }
    },
    {
      "cell_type": "markdown",
      "metadata": {
        "id": "BlQHtCq_goKd"
      },
      "source": [
        "#**12. Generating Alert Messages**"
      ]
    },
    {
      "cell_type": "code",
      "execution_count": null,
      "metadata": {
        "id": "bwz6uvgsWN4x"
      },
      "outputs": [],
      "source": [
        "# pr=['F = 0.21']\n",
        "\n",
        "pr = clf.predict([['4'\t,'297',\t'333.0000002',\t'335.25235',\t'9']])\n",
        "# pr = clf.predict([['1',\t'283'\t,'333.0000002',\t'342.3244007'\t,'9.5']])\n",
        "\n",
        "if (pr[0][0] == '%'):\n",
        "  if (pr[0][2:]=='0.1'):\n",
        "    print(\"Boiler operating at Nominal Condition\")\n",
        "  elif (pr[0][2:]<'0.1'):\n",
        "    print(\"Boiler operating at \", float(pr[0][2:])*100 , \" % Lean Condition\")\n",
        "  else:\n",
        "    print(\"Boiler operating at \", float(pr[0][2:])*100 , \" % Excess Air\")\n",
        "\n",
        "elif (pr[0][0] == 'F'):\n",
        "  print(\"Boiler has\", float(pr[0][4:])*100, \"% of Fouling\")\n",
        "else:\n",
        "  print(\"Boiler has\", float(pr[0][4:])*100, \"% of Scaling\")"
      ]
    },
    {
      "cell_type": "code",
      "execution_count": null,
      "metadata": {
        "id": "6iGuGoEkTB-U"
      },
      "outputs": [],
      "source": [
        "\n",
        "\n",
        "pr = clf.predict([['1',\t'283'\t,'333.0000002',\t'342.3244007'\t,'9.5']])\n",
        "\n",
        "if (pr[0][0] == '%'):\n",
        "  if (pr[0][2:]=='0.1'):\n",
        "    print(\"Boiler operating at Nominal Condition\")\n",
        "  elif (pr[0][2:]<'0.1'):\n",
        "    print(\"Boiler operating at \", float(pr[0][2:])*100 , \" % Lean Condition\")\n",
        "  else:\n",
        "    print(\"Boiler operating at \", float(pr[0][2:])*100 , \" % Excess Air\")\n",
        "\n",
        "elif (pr[0][0] == 'F'):\n",
        "  print(\"Boiler has\", float(pr[0][4:])*100, \"% of Fouling\")\n",
        "else:\n",
        "  print(\"Boiler has\", float(pr[0][4:])*100, \"% of Scaling\")"
      ]
    },
    {
      "cell_type": "code",
      "execution_count": null,
      "metadata": {
        "id": "VxRHjat2WDd_"
      },
      "outputs": [],
      "source": [
        "pr = clf.predict([['1','283','333','356.3152528','3.5']])\n",
        "\n",
        "if (pr[0][0] == '%'):\n",
        "  if (pr[0][2:]=='0.1'):\n",
        "    print(\"Boiler operating at Nominal Condition\")\n",
        "  elif (pr[0][2:]<'0.1'):\n",
        "    print(\"Boiler operating at \", float(pr[0][2:])*100 , \" % Lean Condition\")\n",
        "  else:\n",
        "    print(\"Boiler operating at \", float(pr[0][2:])*100 , \" % Excess Air\")\n",
        "\n",
        "elif (pr[0][0] == 'F'):\n",
        "  print(\"Boiler has\", float(pr[0][4:])*100, \"% of Fouling\")\n",
        "else:\n",
        "  print(\"Boiler has\", float(pr[0][4:])*100, \"% of Scaling\")"
      ]
    },
    {
      "cell_type": "code",
      "execution_count": null,
      "metadata": {
        "id": "2CJMfj6EWLdE"
      },
      "outputs": [],
      "source": [
        "pr = clf.predict([['1','283','333','359.2389633','3.5']])\n",
        "\n",
        "if (pr[0][0] == '%'):\n",
        "  if (pr[0][2:]=='0.1'):\n",
        "    print(\"Boiler operating at Nominal Condition\")\n",
        "  elif (pr[0][2:]<'0.1'):\n",
        "    print(\"Boiler operating at \", float(pr[0][2:])*100 , \" % Lean Condition\")\n",
        "  else:\n",
        "    print(\"Boiler operating at \", float(pr[0][2:])*100 , \" % Excess Air\")\n",
        "\n",
        "elif (pr[0][0] == 'F'):\n",
        "  print(\"Boiler has\", float(pr[0][4:])*100, \"% of Fouling\")\n",
        "else:\n",
        "  print(\"Boiler has\", float(pr[0][4:])*100, \"% of Scaling\")"
      ]
    },
    {
      "cell_type": "code",
      "execution_count": null,
      "metadata": {
        "id": "1RAQtIPcWUIW"
      },
      "outputs": [],
      "source": [
        "pr = clf.predict([['1','287','333.0000001','337.9953434','8']])\n",
        "\n",
        "if (pr[0][0] == '%'):\n",
        "  if (pr[0][2:]=='0.1'):\n",
        "    print(\"Boiler operating at Nominal Condition\")\n",
        "  elif (pr[0][2:]<'0.1'):\n",
        "    print(\"Boiler operating at \", float(pr[0][2:])*100 , \" % Lean Condition\")\n",
        "  else:\n",
        "    print(\"Boiler operating at \", float(pr[0][2:])*100 , \" % Excess Air\")\n",
        "\n",
        "elif (pr[0][0] == 'F'):\n",
        "  print(\"Boiler has\", float(pr[0][4:])*100, \"% of Fouling\")\n",
        "else:\n",
        "  print(\"Boiler has\", float(pr[0][4:])*100, \"% of Scaling\")"
      ]
    },
    {
      "cell_type": "code",
      "execution_count": null,
      "metadata": {
        "id": "XYFzdYBAjzsX",
        "colab": {
          "base_uri": "https://localhost:8080/"
        },
        "outputId": "1fbf29d2-9540-4de8-83eb-ac59ff97c8b3"
      },
      "outputs": [
        {
          "output_type": "stream",
          "name": "stdout",
          "text": [
            "0.8.1\n"
          ]
        }
      ],
      "source": [
        "import imblearn\n",
        "print(imblearn.__version__)"
      ]
    },
    {
      "cell_type": "code",
      "source": [
        "#split dataset in features and target variable\n",
        "feature_cols = [\"Fuel_Mdot\",\"Tair\",\"Tsupply\",\"Water_Mdot\"]\n",
        "X1 = df[feature_cols] # Features\n",
        "y1 = df.Class # Target variable\n",
        "\n",
        "X_train, X_test_temp, y_train, y_test_temp = train_test_split(X1, y1, test_size = 0.3, random_state = 0)\n",
        "X_test, X_valid, y_test, y_valid = train_test_split(X_test_temp, y_test_temp, test_size = 0.5, random_state = 0)"
      ],
      "metadata": {
        "id": "P1Yest6dlmz7"
      },
      "execution_count": null,
      "outputs": []
    },
    {
      "cell_type": "code",
      "source": [
        "from imblearn.over_sampling import SMOTE\n",
        "sm = SMOTE(random_state = 2)\n",
        "X_train_res, y_train_res = sm.fit_resample(X_train, y_train)"
      ],
      "metadata": {
        "id": "kBRVML95l-tl"
      },
      "execution_count": null,
      "outputs": []
    },
    {
      "cell_type": "code",
      "source": [
        "print(\"Before OverSampling, counts of label '4': {}\".format(sum(y_train == 4)))\n",
        "print(\"Before OverSampling, counts of label '3': {}\".format(sum(y_train == 3)))\n",
        "print(\"Before OverSampling, counts of label '2': {} \\n\".format(sum(y_train == 2)))\n",
        "print(\"Before OverSampling, counts of label '1': {}\".format(sum(y_train == 1)))\n",
        "print(\"Before OverSampling, counts of label '0': {} \\n\".format(sum(y_train == 0)))"
      ],
      "metadata": {
        "colab": {
          "base_uri": "https://localhost:8080/"
        },
        "id": "8qZBCtjxmESf",
        "outputId": "0542b15c-645d-4eea-d9b6-0e86f785f9f8"
      },
      "execution_count": null,
      "outputs": [
        {
          "output_type": "stream",
          "name": "stdout",
          "text": [
            "Before OverSampling, counts of label '4': 0\n",
            "Before OverSampling, counts of label '3': 0\n",
            "Before OverSampling, counts of label '2': 0 \n",
            "\n",
            "Before OverSampling, counts of label '1': 0\n",
            "Before OverSampling, counts of label '0': 0 \n",
            "\n"
          ]
        }
      ]
    },
    {
      "cell_type": "code",
      "source": [
        "print(\"After OverSampling, counts of label '4': {}\".format(sum(y_train_res == 4)))\n",
        "print(\"After OverSampling, counts of label '3': {}\".format(sum(y_train_res == 3)))\n",
        "print(\"After OverSampling, counts of label '2': {}\".format(sum(y_train_res == 2)))\n",
        "print(\"After OverSampling, counts of label '1': {}\".format(sum(y_train_res == 1)))\n",
        "print(\"After OverSampling, counts of label '0': {}\".format(sum(y_train_res == 0)))"
      ],
      "metadata": {
        "colab": {
          "base_uri": "https://localhost:8080/"
        },
        "id": "pNs5xup3mN36",
        "outputId": "d680a819-79a1-490b-c429-ece360f763c5"
      },
      "execution_count": null,
      "outputs": [
        {
          "output_type": "stream",
          "name": "stdout",
          "text": [
            "After OverSampling, counts of label '4': 0\n",
            "After OverSampling, counts of label '3': 0\n",
            "After OverSampling, counts of label '2': 0\n",
            "After OverSampling, counts of label '1': 0\n",
            "After OverSampling, counts of label '0': 0\n"
          ]
        }
      ]
    },
    {
      "cell_type": "code",
      "source": [
        "import autosklearn.classification\n",
        "#from autosklearn.metrics import mean_absolute_error as auto_mean_absolute_error\n",
        "model = autosklearn.classification.AutoSklearnClassifier()\n",
        "model.fit(X_train_res, y_train_res)\n",
        "y_pred_t = model.predict(X_test, y_test)"
      ],
      "metadata": {
        "id": "RkHqXXM6r4-3"
      },
      "execution_count": null,
      "outputs": []
    },
    {
      "cell_type": "code",
      "source": [
        "print(model.sprint_statistics())"
      ],
      "metadata": {
        "colab": {
          "base_uri": "https://localhost:8080/"
        },
        "id": "mJ0rEmhVr93t",
        "outputId": "bdf148ae-d762-4df4-879f-ae951504dc23"
      },
      "execution_count": null,
      "outputs": [
        {
          "output_type": "stream",
          "name": "stdout",
          "text": [
            "auto-sklearn results:\n",
            "  Dataset name: e28be3f4-7ac0-11ec-82e9-0242ac1c0002\n",
            "  Metric: accuracy\n",
            "  Best validation score: 0.960008\n",
            "  Number of target algorithm runs: 164\n",
            "  Number of successful target algorithm runs: 103\n",
            "  Number of crashed target algorithm runs: 25\n",
            "  Number of target algorithms that exceeded the time limit: 1\n",
            "  Number of target algorithms that exceeded the memory limit: 35\n",
            "\n"
          ]
        }
      ]
    },
    {
      "cell_type": "code",
      "source": [
        "print(model.leaderboard())"
      ],
      "metadata": {
        "colab": {
          "base_uri": "https://localhost:8080/"
        },
        "id": "LcQSKabxsFnr",
        "outputId": "ee27224e-5c0d-423f-915f-0061ac31211c"
      },
      "execution_count": null,
      "outputs": [
        {
          "output_type": "stream",
          "name": "stdout",
          "text": [
            "          rank  ensemble_weight               type      cost   duration\n",
            "model_id                                                               \n",
            "87           1             0.12  gradient_boosting  0.039992  34.772735\n",
            "104          2             0.02  gradient_boosting  0.040188  31.326521\n",
            "96           3             0.04  gradient_boosting  0.040384  22.595820\n",
            "78           4             0.02  gradient_boosting  0.040678  25.190606\n",
            "125          5             0.08  gradient_boosting  0.041658  32.728557\n",
            "119          6             0.06  gradient_boosting  0.042149  30.150425\n",
            "144          7             0.02  gradient_boosting  0.042443  26.415137\n",
            "112          8             0.04  gradient_boosting  0.042737  26.259502\n",
            "91           9             0.12  gradient_boosting  0.043521  11.668589\n",
            "133         10             0.04  gradient_boosting  0.044207  24.450467\n",
            "150         11             0.02  gradient_boosting  0.045187  11.139479\n",
            "100         12             0.02  gradient_boosting  0.045677  23.838015\n",
            "73          13             0.06  gradient_boosting  0.046559  18.391959\n",
            "38          14             0.10  gradient_boosting  0.048912  17.590986\n",
            "42          15             0.04  gradient_boosting  0.052735  52.625091\n",
            "60          16             0.04  gradient_boosting  0.054401  22.989398\n",
            "65          17             0.10  gradient_boosting  0.056165  22.151755\n",
            "140         18             0.02  gradient_boosting  0.056460  29.748304\n",
            "40          19             0.04  gradient_boosting  0.058420  16.788212\n"
          ]
        }
      ]
    },
    {
      "cell_type": "code",
      "source": [
        "from sklearn.metrics import accuracy_score\n",
        "acc = accuracy_score(y_test, y_pred_t)\n",
        "print(acc)"
      ],
      "metadata": {
        "colab": {
          "base_uri": "https://localhost:8080/"
        },
        "id": "0t2wCE_nsI7X",
        "outputId": "bad09b0c-558a-4b79-ebbb-2592d5b55e7a"
      },
      "execution_count": null,
      "outputs": [
        {
          "output_type": "stream",
          "name": "stdout",
          "text": [
            "0.9535679374389052\n"
          ]
        }
      ]
    },
    {
      "cell_type": "code",
      "source": [
        "y_pred_v = model.predict(X_valid, y_valid)\n",
        "from sklearn.metrics import accuracy_score\n",
        "acc1 = accuracy_score(y_valid, y_pred_v) \n",
        "print(acc1)"
      ],
      "metadata": {
        "colab": {
          "base_uri": "https://localhost:8080/"
        },
        "id": "rzuos5itsJlb",
        "outputId": "6c67f079-1c71-46ae-af09-b8bb1c2a37ad"
      },
      "execution_count": null,
      "outputs": [
        {
          "output_type": "stream",
          "name": "stdout",
          "text": [
            "0.9543010752688172\n"
          ]
        }
      ]
    },
    {
      "cell_type": "code",
      "source": [
        "from sklearn import metrics\n",
        "print(metrics.classification_report(y_test, y_pred_t, digits=4))"
      ],
      "metadata": {
        "colab": {
          "base_uri": "https://localhost:8080/"
        },
        "id": "Ap-WVnF7sVCL",
        "outputId": "e1024a5b-da8d-4ecf-a350-31309fe2ae3d"
      },
      "execution_count": null,
      "outputs": [
        {
          "output_type": "stream",
          "name": "stdout",
          "text": [
            "              precision    recall  f1-score   support\n",
            "\n",
            "   ExcessAir     0.9924    0.9990    0.9957      1043\n",
            "     Fouling     0.9742    0.9279    0.9505      1303\n",
            "        Lean     0.5404    0.7436    0.6259       117\n",
            "     Nominal     0.8147    0.9685    0.8850       286\n",
            "     Scaling     0.9900    0.9583    0.9739      1343\n",
            "\n",
            "    accuracy                         0.9536      4092\n",
            "   macro avg     0.8623    0.9195    0.8862      4092\n",
            "weighted avg     0.9605    0.9536    0.9558      4092\n",
            "\n"
          ]
        }
      ]
    }
  ],
  "metadata": {
    "accelerator": "GPU",
    "colab": {
      "collapsed_sections": [
        "q_ClhDnucjYv",
        "G1wFF1ZgCPUy",
        "6Oe_MLweXO2G",
        "BlQHtCq_goKd",
        "FSaPiRmSGM7A",
        "yg61mAYYPqLM"
      ],
      "name": "Fault Analysis.ipynb",
      "provenance": []
    },
    "kernelspec": {
      "display_name": "Python 3",
      "name": "python3"
    },
    "language_info": {
      "name": "python"
    }
  },
  "nbformat": 4,
  "nbformat_minor": 0
}